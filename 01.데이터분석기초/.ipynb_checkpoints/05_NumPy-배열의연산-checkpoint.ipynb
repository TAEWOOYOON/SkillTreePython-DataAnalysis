{
 "cells": [
  {
   "cell_type": "markdown",
   "metadata": {
    "id": "jgFAOz-Tw1VI"
   },
   "source": [
    "# CH05 Numpy  - 배열의 연산\n",
    "\n",
    "---\n",
    "* 날짜:2022.04.12\n",
    "* 이름:윤태우\n"
   ]
  },
  {
   "cell_type": "markdown",
   "metadata": {
    "id": "_3uSBF40BdCd"
   },
   "source": [
    "## 개념정리\n",
    "\n",
    "\n",
    "\n",
    "```\n",
    "import numpy as np\n",
    "```\n",
    "\n",
    "\n"
   ]
  },
  {
   "cell_type": "code",
   "execution_count": 2,
   "metadata": {
    "executionInfo": {
     "elapsed": 2,
     "status": "ok",
     "timestamp": 1649609879363,
     "user": {
      "displayName": "yebin Youn",
      "userId": "13210325080650205285"
     },
     "user_tz": -540
    },
    "id": "zPOE7GIhJcdU"
   },
   "outputs": [],
   "source": [
    "import numpy as np"
   ]
  },
  {
   "cell_type": "markdown",
   "metadata": {
    "id": "_ilCtKbjYZzk"
   },
   "source": [
    "---\n",
    "### **(1) 산술 연산(Arithmetic Operators)**\n",
    "---\n",
    "\n",
    "|연산자|범용함수|설명|\n",
    "|--|--|--|\n",
    "|+|`np.add`|덧셈|\n",
    "|-|`np.substract`|뺄셈|\n",
    "|-|`np.negative`|단항음수|\n",
    "|*|`np.multiply`|곱셈|\n",
    "|/|`np.divide`|나눗셈|\n",
    "|//|`np.floor_divide`|나눗셈 내림|\n",
    "|**|`np.power`|지수 연산|\n",
    "|%|`np.mod`|나머지 연산|\n",
    "\n",
    "파이썬의 수치자료형에서 사용하는 모든 연산을 넘파이 배열에서 사용할 수 있습니다. \n",
    "\n",
    "리스트에서는 불가능했던 배열간의 덧셈도 아래와 같이 사용 가능합니다.\n",
    "\n",
    "```\n",
    "a = np.array([1,2,3])\n",
    "b = np.array([-1,2,-3])\n",
    "a*b\n",
    "```\n",
    "\n"
   ]
  },
  {
   "cell_type": "code",
   "execution_count": null,
   "metadata": {
    "id": "lGmuZNP4YZzu"
   },
   "outputs": [],
   "source": [
    "a = np.array([1,2,3])\n",
    "b = np.array([-1,2,-3])\n",
    "a*b"
   ]
  },
  {
   "cell_type": "markdown",
   "metadata": {
    "id": "HjPXsM8C5ULZ"
   },
   "source": [
    "\n",
    "#### **|  브로드캐스팅 (Broadcasting)**\n",
    "\n",
    "NumPy의 배열 연산은 벡터화(vectorized) 연산을 사용합니다. 브로드 캐스팅은 배열 각 요소에 대한 반복적인 계산을 효율적으로 수행합니다.\n",
    "\n",
    "\n",
    "<p align='center'>\n",
    "<img src=https://github.com/yebiny/SkillTreePython-DataAnalysis/blob/main/imgs/ch0105-01.png?raw=true width=560>\n",
    "</p>"
   ]
  },
  {
   "cell_type": "code",
   "execution_count": null,
   "metadata": {
    "id": "ZhsYhSsaLhoh"
   },
   "outputs": [],
   "source": []
  },
  {
   "cell_type": "markdown",
   "metadata": {
    "id": "bSey8YjkL5BT"
   },
   "source": [
    "---\n",
    "### **(2) 수학 관련 함수**\n",
    "---\n",
    "\n",
    "\n",
    "\n"
   ]
  },
  {
   "cell_type": "markdown",
   "metadata": {
    "id": "aNlW6SlrO9nr"
   },
   "source": [
    "#### **| 절대값 함수 (Absolute Function)**\n",
    "\n",
    "\n",
    "\n",
    "\n",
    "\n",
    "* `np.absolute(n)` = `np.abs(n)` : `n`의 절대값 반환\n",
    "\n",
    "```\n",
    "print(b)\n",
    "np.abs(b)\n",
    "```\n"
   ]
  },
  {
   "cell_type": "code",
   "execution_count": null,
   "metadata": {
    "id": "zaMa3LVuO9ns"
   },
   "outputs": [],
   "source": []
  },
  {
   "cell_type": "markdown",
   "metadata": {
    "id": "U5uE3sVtzRvA"
   },
   "source": [
    "#### **| 제곱/제곱근 함수**\n",
    "\n",
    "* `np.square(n)`: `n`의 제곱을 반환\n",
    "* `np.sqrt(n)` : `n`의 제곱근을 반환\n",
    "\n",
    "```\n",
    "n = 25\n",
    "print(np.square(n), np.sqrt(n))\n",
    "```"
   ]
  },
  {
   "cell_type": "code",
   "execution_count": null,
   "metadata": {
    "id": "ggnIxDGzzTfX"
   },
   "outputs": [],
   "source": []
  },
  {
   "cell_type": "markdown",
   "metadata": {
    "id": "tWh1aQ50vRhB"
   },
   "source": [
    "#### **| 지수/로그 함수**\n",
    "\n",
    "* `np.exp(n)` : 자연상수 `e`(=~2.71..)의 `n` 제곱을 반환\n",
    "* `np.exp2(n)` : 상수 `2`의 `n` 제곱을 반환\n",
    "\n",
    "\n",
    "```\n",
    "[np.exp2(n) for n in range(10)]\n",
    "```\n",
    "\n",
    "\n",
    "\n",
    "\n",
    "\n"
   ]
  },
  {
   "cell_type": "code",
   "execution_count": null,
   "metadata": {
    "id": "Dygt3AyHvTZz"
   },
   "outputs": [],
   "source": []
  },
  {
   "cell_type": "markdown",
   "metadata": {
    "id": "0g8jrMErbtEA"
   },
   "source": [
    "\n",
    "* `np.log(n)` : 밑이 `e`인 로그값을 반환합니다. \n",
    "* `np.log2(n)` : 밑이 `2`인 로그값을 반환합니다.\n",
    "* `np.log10(n)` : 밑이 `10`인 로그값을 반환합니다.\n",
    "\n",
    "```\n",
    "n = [10,100,1000,10000]\n",
    "np.log10(n)\n",
    "```"
   ]
  },
  {
   "cell_type": "code",
   "execution_count": null,
   "metadata": {
    "id": "YB0BzwxDvnkT"
   },
   "outputs": [],
   "source": []
  },
  {
   "cell_type": "markdown",
   "metadata": {
    "id": "wE_p9AxjtdJ9"
   },
   "source": [
    "#### **| 삼각 함수(Trigonometrical Function)**\n",
    "\n",
    "|함수|설명|\n",
    "|--|--|\n",
    "|`np.sin`|사인|\n",
    "|`np.cos`|코사인|\n",
    "|`np.tan`|탄젠트|\n",
    "|`np.arcsin`|아크 사인|\n",
    "|`np.argcos`|아크 코사인|\n",
    "|`np.argtan`|아크 탄젠트|\n",
    "|`np.sinh`|하이퍼볼릭 사인|\n",
    "|`np.cosh`|하이퍼볼릭 코사인|\n",
    "|`np.tanh`|하이퍼볼릭 탄젠트|\n",
    "|`np.arcsinh`|하이퍼볼릭 아크 사인|\n",
    "|`np.arccosh`|하이퍼볼릭 아크 코사인|\n",
    "|`np.arctanh`|하이퍼볼릭 아크 탄젠트|\n",
    "|`np.deg2rad`|각도를 라디안으로 변환|\n",
    "|`np.rad2deg`|라디안을 각도로 변환|\n",
    "|`np.hypot`|유클리드 거리계산|\n",
    "\n",
    "학창시절 아래 삼각함수 표를 외워본 경험이 있을 겁니다. 더이상 이를 외울 필요는 없습니다. 코드가 알아서 해줄테니까요. 값이 똑같이 나오는지 확인해 봅시다.\n",
    "\n",
    "<p align='center'>\n",
    "<img src=https://github.com/yebiny/SkillTreePython-DataAnalysis/blob/main/imgs/ch0105-02.png?raw=true width=500>\n",
    "</p>\n",
    "\n",
    "```\n",
    "n = 0\n",
    "np.sin(n), np.cos(n), np.tan(n)\n",
    "```"
   ]
  },
  {
   "cell_type": "code",
   "execution_count": null,
   "metadata": {
    "id": "v7m-AQW9uJ9u"
   },
   "outputs": [],
   "source": []
  },
  {
   "cell_type": "markdown",
   "metadata": {
    "id": "EHGOV5FuPII3"
   },
   "source": [
    "#### **| 집계 함수(Aggregate Functions)**\n",
    "\n",
    "|함수|설명|\n",
    "|--|--|\n",
    "|`np.sum()`|배열 내 합을 반환|\n",
    "|`np.cumsum()`|배열 내 누적합 반환|\n",
    "|`np.prod()`|배열 내 곱 반환|\n",
    "|`np.diff()`|배열 내 차 반환|\n",
    "|`np.min()`|최소값 반환|\n",
    "|`np.max()`|최대값 반환|\n",
    "|`np.mean()`|평균 반환|\n",
    "|`np.std()`|표준편차 반환|\n",
    "|`np.var()`|분산 반환|\n",
    "|`np.median()`|중앙값 반환|\n",
    "|`np.argmin()`|최소값 인덱스 반환|\n",
    "|`np.argmax()`|최소값 인덱스 반환|\n",
    "\n",
    "\n",
    "```\n",
    "print(a)\n",
    "print('누적합: ',np.cumsum(a))\n",
    "print('곱: ',np.prod(a))\n",
    "print('차: ',np.diff(a))\n",
    "print('중앙값: ',np.median(a))\n",
    "```"
   ]
  },
  {
   "cell_type": "code",
   "execution_count": null,
   "metadata": {
    "id": "OIENQ0LlVMyd"
   },
   "outputs": [],
   "source": []
  },
  {
   "cell_type": "markdown",
   "metadata": {
    "id": "VAVV6_8OarUE"
   },
   "source": [
    "머신러닝에서 자주 사용되는 함수는 `np.argmax`입니다. `np.argmax`는 최대값의 인덱스를 반환하는데요, 최대값 자체가 아닌 인덱스가 언제 필요할까요?\n",
    "\n",
    "예시를 들어 봅시다. `y`에 카드 이름이, `x`에는 각 카드가 뽑힐 확률이 들어 있습니다. 뽑힐 확률이 가장 높은 카드를 아래와 같이 구할 수 있습니다.\n",
    "\n",
    "```\n",
    "x = [0.1, 0.2, 0.6, 0.1]\n",
    "y = ['a', 'b', 'c', 'd']\n",
    "idx = np.argmax(x)\n",
    "print(y[idx]) # 팬시 인덱싱\n",
    "```"
   ]
  },
  {
   "cell_type": "code",
   "execution_count": null,
   "metadata": {
    "id": "X5ltEzDsap-m"
   },
   "outputs": [],
   "source": []
  },
  {
   "cell_type": "markdown",
   "metadata": {
    "id": "ohtLbHoEVMU2"
   },
   "source": [
    "---\n",
    "### **(3) 벡터/행렬 연산**\n",
    "---\n",
    "\n",
    "|함수|설명|\n",
    "|--|--|\n",
    "|`np.matmul()`|=`@`, 행렬곱|\n",
    "|`np.dot()`|내적|\n",
    "|`np.prod()`|외적|\n",
    "\n"
   ]
  },
  {
   "cell_type": "markdown",
   "metadata": {
    "id": "i6ll7q_HWTKA"
   },
   "source": [
    "\n",
    "* `np.matmul(a1, a2)` : 배열 `a1`과 `a2`의 행렬곱을 수행합니다. \n",
    "\n",
    "일반적인 행렬곱을 `matmul`을 통해서 할 수 있습니다. \n",
    "\n",
    "```\n",
    "A = np.array([[1,2],\n",
    "              [0,1]])\n",
    "B = np.array([[1,0],\n",
    "              [0,1]])\n",
    "print(np.matmul(A,B))\n",
    "print(A@B)\n",
    "```\n"
   ]
  },
  {
   "cell_type": "code",
   "execution_count": null,
   "metadata": {
    "id": "9Gds9RSHWTx8"
   },
   "outputs": [],
   "source": []
  },
  {
   "cell_type": "markdown",
   "metadata": {
    "id": "WJrKcbetWT5E"
   },
   "source": [
    "* `np.dot(a1, a2)`: 배열 `a1`과 `a2`의 벡터 내적을 수행합니다.\n",
    "\n",
    "벡터 내적은 벡터 내 같은 인덱스의 값을 곱하고 모두 더한 것입니다.\n",
    "\n",
    "```\n",
    "print(a, b)\n",
    "print(sum(a*b))\n",
    "print(np.dot(a,b))\n",
    "```\n",
    "\n",
    "\n"
   ]
  },
  {
   "cell_type": "code",
   "execution_count": null,
   "metadata": {
    "id": "xX2V5x3SWSpk"
   },
   "outputs": [],
   "source": []
  },
  {
   "cell_type": "markdown",
   "metadata": {
    "id": "_oy400wHYLHN"
   },
   "source": [
    "---\n",
    "### **(4) 비교 연산**\n",
    "---\n",
    "\n",
    "비교 연산자를 이용하면 `boolean` 값으로 이루어진 배열을 반환합니다.\n",
    "\n",
    "\n"
   ]
  },
  {
   "cell_type": "markdown",
   "metadata": {
    "id": "Hhi5eYZu9Uw4"
   },
   "source": [
    "\n",
    "#### **| 값 비교**\n",
    "\n",
    "\n",
    "|연산자|비교 범용 함수|\n",
    "|--|--|\n",
    "|`==`|`np.equal`|\n",
    "|`!=`|`np.not_equal`|\n",
    "|`<`| `np.less`|\n",
    "|`<=`|`np.less_equal`|\n",
    "|`>`| `np.greater`|\n",
    "|`>=`|`np.greater_equal`|\n",
    "\n",
    "```\n",
    "print(a)\n",
    "print(b)\n",
    "a==b, a<b, a>b\n",
    "```"
   ]
  },
  {
   "cell_type": "code",
   "execution_count": null,
   "metadata": {
    "id": "gXL4qh9G0Euw"
   },
   "outputs": [],
   "source": []
  },
  {
   "cell_type": "markdown",
   "metadata": {
    "id": "OLsYDXJ88jyd"
   },
   "source": [
    "\n",
    "#### **| 예외값 비교**\n",
    "\n",
    "\n",
    "\n",
    "|함수|설명|\n",
    "|--|--|\n",
    "|`np.isinf`|`inf` 값이면 `True`, 아니면 `False`|\n",
    "|`np.isfinite`|`inf, nan` 값이면 `False`, 아니면 `True`|\n",
    "|`np.isnan`|`nan` 값이면 `True`, 아니면 `False`|\n",
    "\n",
    "```\n",
    "a = [np.inf, np.nan, 0]\n",
    "print(np.isinf(a))\n",
    "print(np.isfinite(a))\n",
    "print(np.isnan(a))\n",
    "```"
   ]
  },
  {
   "cell_type": "code",
   "execution_count": null,
   "metadata": {
    "id": "pt_d1IfE0F0g"
   },
   "outputs": [],
   "source": []
  },
  {
   "cell_type": "markdown",
   "metadata": {
    "id": "rnvGTkHatKIn"
   },
   "source": [
    "#### **| 논리 연산자**\n",
    "\n",
    "|함수|설명|\n",
    "|--|--|\n",
    "|`np.all()`|모두 `True`일때 `True` 반환|\n",
    "|`np.any()`|모두 `False`일때 `False` 반환|\n",
    "\n",
    "파이썬의 논리 연산자와 동일 합니다. 아래와 같이 숫자 자료형을 바로 넣으면 0 일 때는 `False`, 그 외에는 `True`로 인식하여 연산이 진행됩니다.\n",
    "\n",
    "```\n",
    "a = [1,0,1,1,0]\n",
    "np.all(a), np.any(a)\n",
    "```"
   ]
  },
  {
   "cell_type": "code",
   "execution_count": null,
   "metadata": {
    "id": "PlyGLDBntSCt"
   },
   "outputs": [],
   "source": []
  },
  {
   "cell_type": "markdown",
   "metadata": {
    "id": "3SiCZqJsap3_"
   },
   "source": [
    "---\n",
    "### **(5) 정렬**\n",
    "---\n",
    "\n",
    "\n",
    "|함수|설명|\n",
    "|--|--|\n",
    "|`np.sort()`|오름차순 정렬|\n",
    "|`np.argsort()`|index 정렬|\n",
    "|`np.partition()`|`k`개의 작은값 반환|\n"
   ]
  },
  {
   "cell_type": "markdown",
   "metadata": {
    "id": "kTcud6R1-ptC"
   },
   "source": [
    "* `np.sort(a, axis=axis)` : 배열 `a`를 오름차순으로 정렬합니다. \n",
    "\n",
    "```\n",
    "np.random.seed(42);a = np.random.randint(0,12,(3,4))\n",
    "print(a)\n",
    "print('axis=0: 위에서 아래로 정렬')\n",
    "print(np.sort(a, axis=0))\n",
    "print('axis=1: 좌에서 우로 정렬')\n",
    "print(np.sort(a, axis=1))\n",
    "```\n"
   ]
  },
  {
   "cell_type": "code",
   "execution_count": null,
   "metadata": {
    "id": "-4A0yrwM0I4M"
   },
   "outputs": [],
   "source": []
  },
  {
   "cell_type": "markdown",
   "metadata": {
    "id": "vtT3s-bP_dOo"
   },
   "source": [
    "* `np.argsort(a, axis=axis)` : 배열 `a`를 오름차순 정렬하는  인덱스를 반환\n",
    "\n",
    "위에서 배웠던 `np.argmax`와 마찬가지로 팬시 인덱싱에서 유용하게 사용됩니다. \n",
    "\n",
    "아래와 같이 월별(x) 판매수(y)가 주어졌을 때 판매수 순으로 정렬하고자 합니다. \n",
    "\n",
    "```\n",
    "x = np.array(['1월', '2월', '3월'])\n",
    "y = np.array([500,230,350])\n",
    "sort_idx = np.argsort(y)\n",
    "print(sort_idx)\n",
    "x[sort_idx][::-1] # 팬시 인덱싱\n",
    "```"
   ]
  },
  {
   "cell_type": "code",
   "execution_count": null,
   "metadata": {
    "id": "Mt4Bjvj-0KTE"
   },
   "outputs": [],
   "source": []
  },
  {
   "cell_type": "markdown",
   "metadata": {
    "id": "a3jBnhpAdMVe"
   },
   "source": [
    "## 문제풀이\n",
    "---"
   ]
  },
  {
   "cell_type": "markdown",
   "metadata": {
    "id": "d9o7kBXoNlE3"
   },
   "source": [
    "**예제 01**\n",
    "\n",
    "아래 그림에 있는 산술연산을 각각 코드로 구현하세요\n",
    "\n",
    "<p align='center'>\n",
    "<img src=https://github.com/yebiny/SkillTreePython-DataAnalysis/blob/main/imgs/ch0105-03.png?raw=true width=400>\n",
    "</p>\n"
   ]
  },
  {
   "cell_type": "code",
   "execution_count": 19,
   "metadata": {
    "id": "Gwir0bafNlE9"
   },
   "outputs": [
    {
     "name": "stdout",
     "output_type": "stream",
     "text": [
      "a+2 = [[3 4 5]] \n",
      "a-2 = [[-1  0  1]], \n",
      "a%2=[[1 0 1]], \n",
      "a**2=[[1 4 9]]\n"
     ]
    }
   ],
   "source": [
    "a = np.arange(1,4)\n",
    "a.resize(1,3)\n",
    "print(f'a+2 = {a+2} \\na-2 = {a-2}, \\na%2={a%2}, \\na**2={a**2}')"
   ]
  },
  {
   "cell_type": "markdown",
   "metadata": {
    "id": "9K2SFvwvDWS0"
   },
   "source": [
    "**예제 02**\n",
    "\n",
    "\n",
    "아래는 `sum`의 용례를 그림으로 표현한 것입니다. 각 경우에 대해 코드로 구현하세요.\n",
    "\n",
    "<p align='center'>\n",
    "<img src=https://github.com/yebiny/SkillTreePython-DataAnalysis/blob/main/imgs/ch0105-04.png?raw=true width=460>\n",
    "</p>\n"
   ]
  },
  {
   "cell_type": "code",
   "execution_count": 20,
   "metadata": {
    "id": "fRmgVemQeXB5"
   },
   "outputs": [
    {
     "name": "stdout",
     "output_type": "stream",
     "text": [
      "12 [2 4 6] [6 6]\n"
     ]
    }
   ],
   "source": [
    "\n",
    "a = np.concatenate([a,a], axis = 0)\n",
    "print(np.sum(a), np.sum(a, axis=0), np.sum(a, axis=1))"
   ]
  },
  {
   "cell_type": "markdown",
   "metadata": {
    "id": "0keO4-KjEApG"
   },
   "source": [
    "**예제 03**\n",
    "\n",
    "위와 똑같은 방법으로 3가지 경우에 대해 `min()`을 수행하세요"
   ]
  },
  {
   "cell_type": "code",
   "execution_count": 25,
   "metadata": {
    "id": "UNDxcRJxsQJn"
   },
   "outputs": [
    {
     "name": "stdout",
     "output_type": "stream",
     "text": [
      "1 [1 2 3] [1 1]\n"
     ]
    }
   ],
   "source": [
    "print(np.min(a), np.min(a, axis=0), np.min(a, axis=1))"
   ]
  },
  {
   "cell_type": "markdown",
   "metadata": {
    "id": "4UCGzsZdESAT"
   },
   "source": [
    "**예제 04**\n",
    "\n",
    "위와 똑같은 방법으로 3가지 경우에 대해 `argmax()`을 수행하세요"
   ]
  },
  {
   "cell_type": "code",
   "execution_count": 29,
   "metadata": {
    "id": "-wPr1XR4ESAU"
   },
   "outputs": [
    {
     "name": "stdout",
     "output_type": "stream",
     "text": [
      "2 [0 0 0] [2 2]\n"
     ]
    }
   ],
   "source": [
    "print(np.argmax(a), np.argmax(a, axis=0), np.argmax(a, axis=1))"
   ]
  },
  {
   "cell_type": "markdown",
   "metadata": {
    "id": "yMPwhGuUEY1v"
   },
   "source": [
    "**예제 05**\n",
    "\n",
    "위와 똑같은 방법으로 3가지 경우에 대해 `std()`을 수행하세요"
   ]
  },
  {
   "cell_type": "code",
   "execution_count": 27,
   "metadata": {
    "id": "KKmFZ_BYEY1v"
   },
   "outputs": [
    {
     "name": "stdout",
     "output_type": "stream",
     "text": [
      "0.816496580927726 [0. 0. 0.] [0.81649658 0.81649658]\n"
     ]
    }
   ],
   "source": [
    "print(np.std(a), np.std(a, axis=0), np.std(a, axis=1))"
   ]
  },
  {
   "cell_type": "markdown",
   "metadata": {
    "id": "jWsyyY-4DduJ"
   },
   "source": [
    "**예제 06**\n",
    "\n",
    "아래는 `any`의 용례를 그림으로 표현한 것입니다. 각 경우에 대해 코드로 구현하고, 왜 이런 결과가 나오는지 정리하세요.\n",
    "\n",
    "\n",
    "<p align='center'>\n",
    "<img src=https://github.com/yebiny/SkillTreePython-DataAnalysis/blob/main/imgs/ch0105-05.png?raw=true width=580>\n",
    "</p>\n"
   ]
  },
  {
   "cell_type": "code",
   "execution_count": 34,
   "metadata": {
    "id": "sWBmKlwmvzoN"
   },
   "outputs": [
    {
     "name": "stdout",
     "output_type": "stream",
     "text": [
      "True 2보다 큰 True 값이 하나 이상 있기때문,\n",
      " [False False  True] 모든 행의 각 값들중 마지막 값들만 3으로 모두 True이므로,\n",
      " [ True  True] 트루값인 3이 각 줄마다 있으므로\n"
     ]
    }
   ],
   "source": [
    "print(f'{np.any(a>2)} 2보다 큰 True 값이 하나 이상 있기때문,\\n {np.any(a>2, axis=0)} 모든 행의 각 값들중 마지막 값들만 3으로 모두 True이므로,\\n {np.any(a>2, axis=1)} 트루값인 3이 각 줄마다 있으므로')"
   ]
  },
  {
   "cell_type": "markdown",
   "metadata": {
    "id": "mwnQPVUNE1h1"
   },
   "source": [
    "**예제 07**\n",
    "\n",
    "위와 똑같은 방법으로 3가지 경우에 대해 `all()`을 수행하고, 왜 이런 결과가 나오는지 정리하세요."
   ]
  },
  {
   "cell_type": "code",
   "execution_count": 36,
   "metadata": {
    "id": "VKgUxqoFE1h2"
   },
   "outputs": [
    {
     "name": "stdout",
     "output_type": "stream",
     "text": [
      "False false 값이 하나 이상 있기 때문,\n",
      " [False False  True] 모든 행의 각 값들중 마지막 값들만 3으로 모두 True이므로,\n",
      " [False False] false가 하나 이상 있으므로\n"
     ]
    }
   ],
   "source": [
    "print(f'{np.all(a>2)} false 값이 하나 이상 있기 때문,\\n {np.all(a>2, axis=0)} 모든 행의 각 값들중 마지막 값들만 3으로 모두 True이므로,\\n {np.all(a>2, axis=1)} false가 하나 이상 있으므로')"
   ]
  },
  {
   "cell_type": "markdown",
   "metadata": {
    "id": "2IBubqt7Dk7s"
   },
   "source": [
    "**예제 08**\n",
    "\n",
    "\n",
    "1에서 100까지의 랜덤값을 가지고 형태가 `(40)` 인 1차원 배열을 `a08`로 바인딩하세요"
   ]
  },
  {
   "cell_type": "code",
   "execution_count": 38,
   "metadata": {
    "id": "xiwGmZftDk7t"
   },
   "outputs": [
    {
     "data": {
      "text/plain": [
       "(array([13, 11,  9, 14, 25, 12,  3, 16, 34, 22, 29, 10, 13, 73,  1, 69,  7,\n",
       "        86, 28, 61, 88, 92,  1, 45, 56, 26, 80,  4, 70, 28, 88,  3, 10, 82,\n",
       "        30, 35, 87, 87, 38, 73]),\n",
       " (40,))"
      ]
     },
     "execution_count": 38,
     "metadata": {},
     "output_type": "execute_result"
    }
   ],
   "source": [
    "a08 = np.random.randint(1,101, (40))\n",
    "a08, a08.shape"
   ]
  },
  {
   "cell_type": "markdown",
   "metadata": {
    "id": "AV6YotDEFht1"
   },
   "source": [
    "**예제 09**\n",
    "\n",
    "`a08`에서 50보다 큰 수만 가지는 배열을 불리언 연산자를 이용해서 생성하세요."
   ]
  },
  {
   "cell_type": "code",
   "execution_count": 40,
   "metadata": {
    "id": "QfmEyuClFht1"
   },
   "outputs": [
    {
     "data": {
      "text/plain": [
       "array([73, 69, 86, 61, 88, 92, 56, 80, 70, 88, 82, 87, 87, 73])"
      ]
     },
     "execution_count": 40,
     "metadata": {},
     "output_type": "execute_result"
    }
   ],
   "source": [
    "a08_1 = a08>50\n",
    "a08[a08_1]"
   ]
  },
  {
   "cell_type": "markdown",
   "metadata": {
    "id": "15JxLUfIFvhb"
   },
   "source": [
    "**예제 10**\n",
    "\n",
    "`a08`에서 50 이하이며 3의 배수만 가지는 배열을 불리언 연산자를 이용해 생성하세요"
   ]
  },
  {
   "cell_type": "code",
   "execution_count": 43,
   "metadata": {
    "id": "dohpkasaFvhc"
   },
   "outputs": [
    {
     "data": {
      "text/plain": [
       "array([ 9, 12,  3, 69, 45,  3, 30, 87, 87])"
      ]
     },
     "execution_count": 43,
     "metadata": {},
     "output_type": "execute_result"
    }
   ],
   "source": [
    "a08_1 = a08<50\n",
    "a08_2 = a08[a08_1]\n",
    "a08_2 = a08 % 3 ==0\n",
    "a08[a08_2]"
   ]
  },
  {
   "cell_type": "markdown",
   "metadata": {
    "id": "cfPWmy9QGPon"
   },
   "source": [
    "**예제 11**\n",
    "\n",
    "`a08`에서 90이상이거나 10이하인 수만 가지는 배열을 불리언 연산자를 이용해 생성하세요"
   ]
  },
  {
   "cell_type": "code",
   "execution_count": 45,
   "metadata": {
    "id": "BV55x0xiGPoo"
   },
   "outputs": [
    {
     "data": {
      "text/plain": [
       "array([92,  9,  3,  1,  7,  1,  4,  3])"
      ]
     },
     "execution_count": 45,
     "metadata": {},
     "output_type": "execute_result"
    }
   ],
   "source": [
    "a08_3 = a08>90\n",
    "a08_3 = a08[a08_3]\n",
    "a08_4 = a08<10\n",
    "a08_4 = a08[a08_4]\n",
    "np.concatenate([a08_3,a08_4])"
   ]
  },
  {
   "cell_type": "markdown",
   "metadata": {
    "id": "K0xYrJgYGbDf"
   },
   "source": [
    "**예제 12**\n",
    "\n",
    "\n",
    "`a08`을 shape가 `(8,5)`인 2차원 배열로 변환하고 `a12`로 바인딩 하세요."
   ]
  },
  {
   "cell_type": "code",
   "execution_count": 46,
   "metadata": {
    "id": "ITvXZBHaGbDf"
   },
   "outputs": [
    {
     "data": {
      "text/plain": [
       "(array([[13, 11,  9, 14, 25],\n",
       "        [12,  3, 16, 34, 22],\n",
       "        [29, 10, 13, 73,  1],\n",
       "        [69,  7, 86, 28, 61],\n",
       "        [88, 92,  1, 45, 56],\n",
       "        [26, 80,  4, 70, 28],\n",
       "        [88,  3, 10, 82, 30],\n",
       "        [35, 87, 87, 38, 73]]),\n",
       " (8, 5))"
      ]
     },
     "execution_count": 46,
     "metadata": {},
     "output_type": "execute_result"
    }
   ],
   "source": [
    "a12 = np.resize(a08, (8,5))\n",
    "a12, a12.shape"
   ]
  },
  {
   "cell_type": "markdown",
   "metadata": {
    "id": "1tuYynxRGoiU"
   },
   "source": [
    "**예제 13**\n",
    "\n",
    "\n",
    "`a12`를 복사하여 `a13`으로 바인딩하고 이를 각 행 별로 정렬하세요"
   ]
  },
  {
   "cell_type": "code",
   "execution_count": 54,
   "metadata": {
    "id": "v33_n2dtGoiV"
   },
   "outputs": [
    {
     "data": {
      "text/plain": [
       "array([[12,  3,  1, 14,  1],\n",
       "       [13,  3,  4, 28, 22],\n",
       "       [26,  7,  9, 34, 25],\n",
       "       [29, 10, 10, 38, 28],\n",
       "       [35, 11, 13, 45, 30],\n",
       "       [69, 80, 16, 70, 56],\n",
       "       [88, 87, 86, 73, 61],\n",
       "       [88, 92, 87, 82, 73]])"
      ]
     },
     "execution_count": 54,
     "metadata": {},
     "output_type": "execute_result"
    }
   ],
   "source": [
    "a12 = np.array([[13, 11,  9, 14, 25],\n",
    "        [12,  3, 16, 34, 22],\n",
    "        [29, 10, 13, 73,  1],\n",
    "        [69,  7, 86, 28, 61],\n",
    "        [88, 92,  1, 45, 56],\n",
    "        [26, 80,  4, 70, 28],\n",
    "        [88,  3, 10, 82, 30],\n",
    "        [35, 87, 87, 38, 73]])\n",
    "a13 = np.sort(a12, axis=0)\n",
    "a13"
   ]
  },
  {
   "cell_type": "markdown",
   "metadata": {
    "id": "3U84dpF0GtvC"
   },
   "source": [
    "**예제 14**\n",
    "\n",
    "\n",
    "`a12`를 복사하여 `a14`로 바인딩하고 각 열 별로 가장 작은수 3개를 찾으세요"
   ]
  },
  {
   "cell_type": "code",
   "execution_count": 56,
   "metadata": {
    "id": "IFBK4giEGtvC"
   },
   "outputs": [
    {
     "data": {
      "text/plain": [
       "array([[ 9, 11, 13],\n",
       "       [ 3, 12, 16],\n",
       "       [ 1, 10, 13],\n",
       "       [ 7, 28, 61],\n",
       "       [ 1, 45, 56],\n",
       "       [ 4, 26, 28],\n",
       "       [ 3, 10, 30],\n",
       "       [35, 38, 73]])"
      ]
     },
     "execution_count": 56,
     "metadata": {},
     "output_type": "execute_result"
    }
   ],
   "source": [
    "a12 = np.array([[13, 11,  9, 14, 25],\n",
    "        [12,  3, 16, 34, 22],\n",
    "        [29, 10, 13, 73,  1],\n",
    "        [69,  7, 86, 28, 61],\n",
    "        [88, 92,  1, 45, 56],\n",
    "        [26, 80,  4, 70, 28],\n",
    "        [88,  3, 10, 82, 30],\n",
    "        [35, 87, 87, 38, 73]])\n",
    "\n",
    "a14 = np.sort(a12, axis = 1)\n",
    "a14[:,:3]"
   ]
  },
  {
   "cell_type": "markdown",
   "metadata": {
    "id": "tEodss9KIfy_"
   },
   "source": [
    "$A$, $B$, $C$를 아래와 같이 정의하세요.\n",
    "\n",
    "\\begin{align*}\n",
    " A&= \n",
    "\\begin{pmatrix}\n",
    "1 &2  &1 \\\\ \n",
    "2 &1 & 1\\\\ \n",
    "-1 & 0 & 1\n",
    "\\end{pmatrix}\n",
    "\\end{align*}\n",
    "\n",
    "\\begin{align*}\n",
    " B&= \n",
    "\\begin{pmatrix}\n",
    "1 &0 \\\\ \n",
    "0 &1 \\\\ \n",
    "1 & 0 \n",
    "\\end{pmatrix}\n",
    "\\end{align*}\n",
    "\n",
    "\\begin{align*}\n",
    " C&= \n",
    "\\begin{pmatrix}\n",
    "1 \\\\ \n",
    "0  \\\\ \n",
    "-1  \n",
    "\\end{pmatrix}\n",
    "\\end{align*}\n",
    "\n"
   ]
  },
  {
   "cell_type": "code",
   "execution_count": 61,
   "metadata": {
    "id": "lfugPiWZoN60"
   },
   "outputs": [
    {
     "name": "stdout",
     "output_type": "stream",
     "text": [
      "A \n",
      "[[ 1  2  1]\n",
      " [ 2  1  1]\n",
      " [-1  0  1]],\n",
      "B \n",
      "[[1 0]\n",
      " [0 1]\n",
      " [1 0]],\n",
      "C \n",
      "[[ 1]\n",
      " [ 0]\n",
      " [-1]]\n"
     ]
    }
   ],
   "source": [
    "A = np.array([ [1,2,1], \n",
    "              [2,1,1],\n",
    "             [-1,0,1]])\n",
    "B = np.array([ [1,0],\n",
    "             [0,1],\n",
    "             [1,0]])\n",
    "C = np.array([ [1],\n",
    "             [0],\n",
    "             [-1]])\n",
    "print(f'A \\n{A},\\nB \\n{B},\\nC \\n{C}')"
   ]
  },
  {
   "cell_type": "markdown",
   "metadata": {
    "id": "uLmADn5RJpM-"
   },
   "source": [
    "**예제 15**\n",
    "\n",
    "\n",
    "$A$, $B$ 의 행렬곱"
   ]
  },
  {
   "cell_type": "code",
   "execution_count": 62,
   "metadata": {
    "id": "6y-Dpcf1JpNI"
   },
   "outputs": [
    {
     "data": {
      "text/plain": [
       "array([[2, 2],\n",
       "       [3, 1],\n",
       "       [0, 0]])"
      ]
     },
     "execution_count": 62,
     "metadata": {},
     "output_type": "execute_result"
    }
   ],
   "source": [
    "A@B"
   ]
  },
  {
   "cell_type": "markdown",
   "metadata": {
    "id": "OeS66T5ZJ4He"
   },
   "source": [
    "**예제 16**\n",
    "\n",
    "\n",
    "$A$, $C$ 의 행렬곱"
   ]
  },
  {
   "cell_type": "code",
   "execution_count": 63,
   "metadata": {
    "id": "S_sKPQnNJ4Hf"
   },
   "outputs": [
    {
     "data": {
      "text/plain": [
       "array([[ 0],\n",
       "       [ 1],\n",
       "       [-2]])"
      ]
     },
     "execution_count": 63,
     "metadata": {},
     "output_type": "execute_result"
    }
   ],
   "source": [
    "A@C"
   ]
  },
  {
   "cell_type": "markdown",
   "metadata": {
    "id": "QAJw9V1JKSk5"
   },
   "source": [
    "**예제 17**\n",
    "\n",
    "\n",
    "$A * C$"
   ]
  },
  {
   "cell_type": "code",
   "execution_count": 64,
   "metadata": {
    "id": "PvIutUcLKSk6"
   },
   "outputs": [
    {
     "data": {
      "text/plain": [
       "array([[ 0],\n",
       "       [ 1],\n",
       "       [-2]])"
      ]
     },
     "execution_count": 64,
     "metadata": {},
     "output_type": "execute_result"
    }
   ],
   "source": [
    "np.dot(A,C)"
   ]
  },
  {
   "cell_type": "markdown",
   "metadata": {
    "id": "OVD8v-qCJ-rv"
   },
   "source": [
    "**예제 18**\n",
    "\n",
    "\n",
    "$B$와 $B^T$의 내적"
   ]
  },
  {
   "cell_type": "code",
   "execution_count": 65,
   "metadata": {
    "id": "9trfMVWJJ-rv"
   },
   "outputs": [
    {
     "data": {
      "text/plain": [
       "array([[1, 0, 1],\n",
       "       [0, 1, 0],\n",
       "       [1, 0, 1]])"
      ]
     },
     "execution_count": 65,
     "metadata": {},
     "output_type": "execute_result"
    }
   ],
   "source": [
    "B1 = B.T\n",
    "np.dot(B,B1)"
   ]
  },
  {
   "cell_type": "markdown",
   "metadata": {
    "id": "iMnix5w9psKz"
   },
   "source": [
    "\n",
    "20명의 학생의 번호와, 키와, 수행평가 점수가 아래와 같이 정의 되어 있습니다. \n",
    "\n",
    "```\n",
    "idx = [1,2,3,4,5,6,7,8,9,10,11,12,13,14,15,16,17,18,19,20]\n",
    "tall = [178, 171, 179, 173, 152, 157, 175, 180, 182, 165, 160, 164, 174, 163, 158, 159, 172, 155, 177, 162]\n",
    "score = [57, 64, 85, 30, 58, 72, 84, 63, 49, 94, 70, 54, 60, 68, 74, 78, 92, 86, 51, 37]\n",
    "```\n"
   ]
  },
  {
   "cell_type": "code",
   "execution_count": 73,
   "metadata": {
    "id": "D0i699xups-x"
   },
   "outputs": [],
   "source": [
    "idx = np.array([1,2,3,4,5,6,7,8,9,10,11,12,13,14,15,16,17,18,19,20])\n",
    "tall = np.array([178, 171, 179, 173, 152, 157, 175, 180, 182, 165, 160, 164, 174, 163, 158, 159, 172, 155, 177, 162])\n",
    "score = np.array([57, 64, 85, 30, 58, 72, 84, 63, 49, 94, 70, 54, 60, 68, 74, 78, 92, 86, 51, 37])"
   ]
  },
  {
   "cell_type": "markdown",
   "metadata": {
    "id": "c5tYq2nKol3P"
   },
   "source": [
    "**예제 19**\n",
    "\n",
    "키가 큰 순으로 학생들의 번호(idx)를 정렬하세요.\n",
    "\n"
   ]
  },
  {
   "cell_type": "code",
   "execution_count": 75,
   "metadata": {
    "id": "9kJ5nVO0ol3W"
   },
   "outputs": [
    {
     "data": {
      "text/plain": [
       "array([ 9,  8,  3,  1, 19,  7, 13,  4, 17,  2, 10, 12, 14, 20, 11, 16, 15,\n",
       "        6, 18,  5])"
      ]
     },
     "execution_count": 75,
     "metadata": {},
     "output_type": "execute_result"
    }
   ],
   "source": [
    "tall_sort = np.argsort(tall)\n",
    "idx[tall_sort][::-1]"
   ]
  },
  {
   "cell_type": "markdown",
   "metadata": {
    "id": "zUs8t2AipxEp"
   },
   "source": [
    "**예제 20**\n",
    "\n",
    "수행평가 점수가 낮은 순으로 학생들의 번호(idx)를 정렬하세요.\n"
   ]
  },
  {
   "cell_type": "code",
   "execution_count": 77,
   "metadata": {
    "id": "9Kl8UyflpxEq"
   },
   "outputs": [
    {
     "data": {
      "text/plain": [
       "array([ 4, 20,  9, 19, 12,  1,  5, 13,  8,  2, 14, 11,  6, 15, 16,  7,  3,\n",
       "       18, 17, 10])"
      ]
     },
     "execution_count": 77,
     "metadata": {},
     "output_type": "execute_result"
    }
   ],
   "source": [
    "score_sort = np.argsort(score)\n",
    "idx[score_sort]"
   ]
  }
 ],
 "metadata": {
  "colab": {
   "authorship_tag": "ABX9TyPY7pkL6elO6bMBjS6wq7vP",
   "collapsed_sections": [],
   "name": "05_NumPy-배열의연산.ipynb",
   "provenance": []
  },
  "kernelspec": {
   "display_name": "Python 3 (ipykernel)",
   "language": "python",
   "name": "python3"
  },
  "language_info": {
   "codemirror_mode": {
    "name": "ipython",
    "version": 3
   },
   "file_extension": ".py",
   "mimetype": "text/x-python",
   "name": "python",
   "nbconvert_exporter": "python",
   "pygments_lexer": "ipython3",
   "version": "3.9.7"
  }
 },
 "nbformat": 4,
 "nbformat_minor": 1
}
