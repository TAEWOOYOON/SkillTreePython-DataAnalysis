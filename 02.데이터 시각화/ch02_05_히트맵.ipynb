{
  "nbformat": 4,
  "nbformat_minor": 0,
  "metadata": {
    "colab": {
      "name": "ch02_05_히트맵.ipynb",
      "provenance": [],
      "collapsed_sections": [],
      "toc_visible": true
    },
    "kernelspec": {
      "name": "python3",
      "display_name": "Python 3"
    },
    "language_info": {
      "name": "python"
    }
  },
  "cells": [
    {
      "cell_type": "markdown",
      "source": [
        "# Ch02.05. 히트맵\n",
        "\n",
        "---\n",
        "* 날짜: 2022.04.18\n",
        "* 이름: 윤태우\n",
        "\n",
        "```\n",
        "import numpy as np\n",
        "import pandas as pd\n",
        "import matplotlib.pyplot as plt\n",
        "import seaborn as sns\n",
        "\n",
        "plt.rcParams['figure.figsize'] = [6, 4]\n",
        "plt.style.use('seaborn-white')\n",
        "sns.set_style('white')\n",
        "\n",
        "```"
      ],
      "metadata": {
        "id": "ylXjSLUxXHxm"
      }
    },
    {
      "cell_type": "code",
      "execution_count": 1,
      "metadata": {
        "id": "TyVLPbux1Yu7"
      },
      "outputs": [],
      "source": [
        "import numpy as np\n",
        "import pandas as pd\n",
        "import matplotlib.pyplot as plt\n",
        "import seaborn as sns\n",
        "\n",
        "plt.rcParams['figure.figsize'] = [6, 4]\n",
        "plt.style.use('seaborn-white')\n",
        "sns.set_style('white')"
      ]
    },
    {
      "cell_type": "markdown",
      "source": [
        "\n",
        "## **개념정리**\n",
        "---\n",
        "\n",
        "\n"
      ],
      "metadata": {
        "id": "PZjdmAqMd7KW"
      }
    },
    {
      "cell_type": "markdown",
      "source": [
        "### (1) Matplotlib 으로 그리기\n"
      ],
      "metadata": {
        "id": "QzMXKYm0F-CE"
      }
    },
    {
      "cell_type": "markdown",
      "source": [
        "#### | 기본사용\n",
        "\n",
        "```\n",
        "x = [[1,2,3],\n",
        "     [4,1,6],\n",
        "     [7,8,1]]\n",
        "plt.matshow(x, cmap='rainbow')\n",
        "plt.show()\n",
        "```"
      ],
      "metadata": {
        "id": "vgyHZoxzzMUd"
      }
    },
    {
      "cell_type": "code",
      "source": [
        "x = [[1,2,3],\n",
        "     [4,1,6],\n",
        "     [7,8,1]]\n",
        "plt.matshow(x, cmap='rainbow')\n",
        "plt.show()"
      ],
      "metadata": {
        "id": "mpzm43NH5XOw",
        "colab": {
          "base_uri": "https://localhost:8080/",
          "height": 268
        },
        "outputId": "ffe695cb-d980-4c09-fde5-84a99a8173eb"
      },
      "execution_count": 2,
      "outputs": [
        {
          "output_type": "display_data",
          "data": {
            "text/plain": [
              "<Figure size 288x288 with 1 Axes>"
            ],
            "image/png": "[encoded data removed]"
          },
          "metadata": {
            "needs_background": "light"
          }
        }
      ]
    },
    {
      "cell_type": "markdown",
      "source": [
        "#### | 컬러바\n",
        "\n",
        "```\n",
        "plt.colorbar(ax, \n",
        "             cmap=None, # 컬러맵\n",
        "             alpha=None, # 투명도\n",
        "             orientation='vertical', # 위치 {'vertical', 'horizontal'}\n",
        "             extend=None,  # 초과값 {'neither', 'both', 'min', 'max'}\n",
        "             shrink = None # 길이 축소\n",
        "             aspect = None # 세로, 가로 비\n",
        "             label=''# 라벨)\n",
        "```"
      ],
      "metadata": {
        "id": "yBIU5OT2owwY"
      }
    },
    {
      "cell_type": "markdown",
      "source": [
        "### (2) Seaborn 으로 그리기\n",
        "---\n",
        "\n"
      ],
      "metadata": {
        "id": "ijsJi_WpeCK4"
      }
    },
    {
      "cell_type": "markdown",
      "source": [
        "#### | 기본사용\n",
        "\n",
        "```\n",
        "sns.heatmap(x)\n",
        "```"
      ],
      "metadata": {
        "id": "du0MMPK9zp5J"
      }
    },
    {
      "cell_type": "code",
      "source": [
        "sns.heatmap(x)"
      ],
      "metadata": {
        "id": "9bzyhc4x8gJ4",
        "colab": {
          "base_uri": "https://localhost:8080/",
          "height": 284
        },
        "outputId": "5a646e9f-477f-40a7-d16b-6996bc600340"
      },
      "execution_count": 10,
      "outputs": [
        {
          "output_type": "execute_result",
          "data": {
            "text/plain": [
              "<matplotlib.axes._subplots.AxesSubplot at 0x7fe758991e50>"
            ]
          },
          "metadata": {},
          "execution_count": 10
        },
        {
          "output_type": "display_data",
          "data": {
            "text/plain": [
              "<Figure size 432x288 with 2 Axes>"
            ],
            "image/png": "[encoded data removed]"
          },
          "metadata": {
            "needs_background": "light"
          }
        }
      ]
    },
    {
      "cell_type": "markdown",
      "source": [
        "#### | 옵션\n",
        "\n",
        "```\n",
        "seaborn.heatmap(data,\n",
        "                cmap=None, # 컬러맵\n",
        "                annot=None, # 값 표기\n",
        "                fmt='.2g', # 데이터 타입\n",
        "                linewidths=0, # 선 굵기\n",
        "                linecolor='white', # 선 색\n",
        "                cbar=True, # 컬러맵 표기\n",
        "                square=False, # 사이즈 정사각\n",
        "                xticklabels='auto', # x 눈금 라벨 \n",
        "                yticklabels='auto', # y 눈금 라벨\n",
        "                vmin = # 최소값\n",
        "                vmax = # 최대값\n",
        "                ax=None, **kwargs)\n",
        "```"
      ],
      "metadata": {
        "id": "SworMcXl83Uw"
      }
    },
    {
      "cell_type": "code",
      "source": [
        "sns.heatmap(x,\n",
        "                cmap='Blues', # 컬러맵\n",
        "                fmt='d', # 데이터 타입\n",
        "                linewidths=3, # 선 굵기\n",
        "                linecolor='white', # 선 색\n",
        "                cbar=True, # 컬러맵 표기\n",
        "                square=False, # 사이즈 정사각\n",
        "                xticklabels=['a','b','c'], # x 눈금 라벨 \n",
        "                yticklabels=['00','01', '02'], # y 눈금 라벨\n",
        "                vmin = 3,   # 최소값\n",
        "                vmax = 3)  # 최대값\n",
        "plt.show()"
      ],
      "metadata": {
        "id": "4hBKbxFC832o",
        "colab": {
          "base_uri": "https://localhost:8080/",
          "height": 266
        },
        "outputId": "5916750f-5590-46d8-dac4-316766f6a95e"
      },
      "execution_count": 18,
      "outputs": [
        {
          "output_type": "display_data",
          "data": {
            "text/plain": [
              "<Figure size 432x288 with 2 Axes>"
            ],
            "image/png": "[encoded data removed]"
          },
          "metadata": {
            "needs_background": "light"
          }
        }
      ]
    },
    {
      "cell_type": "markdown",
      "source": [
        "#### | DataFrame 사용\n",
        "---\n",
        "\n"
      ],
      "metadata": {
        "id": "GCPmXaIIyLcr"
      }
    },
    {
      "cell_type": "markdown",
      "source": [
        "* 데이터 프레임을 만들어 줍니다.\n"
      ],
      "metadata": {
        "id": "3cKlgwTJOzBJ"
      }
    },
    {
      "cell_type": "code",
      "source": [
        "df = pd.DataFrame(x)\n",
        "df"
      ],
      "metadata": {
        "id": "lsCVYrrx-k2G",
        "colab": {
          "base_uri": "https://localhost:8080/",
          "height": 143
        },
        "outputId": "358c62d9-c979-49ca-93ba-d2cdbf40fb37"
      },
      "execution_count": 19,
      "outputs": [
        {
          "output_type": "execute_result",
          "data": {
            "text/plain": [
              "   0  1  2\n",
              "0  1  2  3\n",
              "1  4  1  6\n",
              "2  7  8  1"
            ],
            "text/html": [
              "\n",
              "  <div id=\"df-457d5563-aac1-4bd9-87c2-c01983b52c8b\">\n",
              "    <div class=\"colab-df-container\">\n",
              "      <div>\n",
              "<style scoped>\n",
              "    .dataframe tbody tr th:only-of-type {\n",
              "        vertical-align: middle;\n",
              "    }\n",
              "\n",
              "    .dataframe tbody tr th {\n",
              "        vertical-align: top;\n",
              "    }\n",
              "\n",
              "    .dataframe thead th {\n",
              "        text-align: right;\n",
              "    }\n",
              "</style>\n",
              "<table border=\"1\" class=\"dataframe\">\n",
              "  <thead>\n",
              "    <tr style=\"text-align: right;\">\n",
              "      <th></th>\n",
              "      <th>0</th>\n",
              "      <th>1</th>\n",
              "      <th>2</th>\n",
              "    </tr>\n",
              "  </thead>\n",
              "  <tbody>\n",
              "    <tr>\n",
              "      <th>0</th>\n",
              "      <td>1</td>\n",
              "      <td>2</td>\n",
              "      <td>3</td>\n",
              "    </tr>\n",
              "    <tr>\n",
              "      <th>1</th>\n",
              "      <td>4</td>\n",
              "      <td>1</td>\n",
              "      <td>6</td>\n",
              "    </tr>\n",
              "    <tr>\n",
              "      <th>2</th>\n",
              "      <td>7</td>\n",
              "      <td>8</td>\n",
              "      <td>1</td>\n",
              "    </tr>\n",
              "  </tbody>\n",
              "</table>\n",
              "</div>\n",
              "      <button class=\"colab-df-convert\" onclick=\"convertToInteractive('df-457d5563-aac1-4bd9-87c2-c01983b52c8b')\"\n",
              "              title=\"Convert this dataframe to an interactive table.\"\n",
              "              style=\"display:none;\">\n",
              "        \n",
              "  <svg xmlns=\"http://www.w3.org/2000/svg\" height=\"24px\"viewBox=\"0 0 24 24\"\n",
              "       width=\"24px\">\n",
              "    <path d=\"M0 0h24v24H0V0z\" fill=\"none\"/>\n",
              "    <path d=\"M18.56 5.44l.94 2.06.94-2.06 2.06-.94-2.06-.94-.94-2.06-.94 2.06-2.06.94zm-11 1L8.5 8.5l.94-2.06 2.06-.94-2.06-.94L8.5 2.5l-.94 2.06-2.06.94zm10 10l.94 2.06.94-2.06 2.06-.94-2.06-.94-.94-2.06-.94 2.06-2.06.94z\"/><path d=\"M17.41 7.96l-1.37-1.37c-.4-.4-.92-.59-1.43-.59-.52 0-1.04.2-1.43.59L10.3 9.45l-7.72 7.72c-.78.78-.78 2.05 0 2.83L4 21.41c.39.39.9.59 1.41.59.51 0 1.02-.2 1.41-.59l7.78-7.78 2.81-2.81c.8-.78.8-2.07 0-2.86zM5.41 20L4 18.59l7.72-7.72 1.47 1.35L5.41 20z\"/>\n",
              "  </svg>\n",
              "      </button>\n",
              "      \n",
              "  <style>\n",
              "    .colab-df-container {\n",
              "      display:flex;\n",
              "      flex-wrap:wrap;\n",
              "      gap: 12px;\n",
              "    }\n",
              "\n",
              "    .colab-df-convert {\n",
              "      background-color: #E8F0FE;\n",
              "      border: none;\n",
              "      border-radius: 50%;\n",
              "      cursor: pointer;\n",
              "      display: none;\n",
              "      fill: #1967D2;\n",
              "      height: 32px;\n",
              "      padding: 0 0 0 0;\n",
              "      width: 32px;\n",
              "    }\n",
              "\n",
              "    .colab-df-convert:hover {\n",
              "      background-color: #E2EBFA;\n",
              "      box-shadow: 0px 1px 2px rgba(60, 64, 67, 0.3), 0px 1px 3px 1px rgba(60, 64, 67, 0.15);\n",
              "      fill: #174EA6;\n",
              "    }\n",
              "\n",
              "    [theme=dark] .colab-df-convert {\n",
              "      background-color: #3B4455;\n",
              "      fill: #D2E3FC;\n",
              "    }\n",
              "\n",
              "    [theme=dark] .colab-df-convert:hover {\n",
              "      background-color: #434B5C;\n",
              "      box-shadow: 0px 1px 3px 1px rgba(0, 0, 0, 0.15);\n",
              "      filter: drop-shadow(0px 1px 2px rgba(0, 0, 0, 0.3));\n",
              "      fill: #FFFFFF;\n",
              "    }\n",
              "  </style>\n",
              "\n",
              "      <script>\n",
              "        const buttonEl =\n",
              "          document.querySelector('#df-457d5563-aac1-4bd9-87c2-c01983b52c8b button.colab-df-convert');\n",
              "        buttonEl.style.display =\n",
              "          google.colab.kernel.accessAllowed ? 'block' : 'none';\n",
              "\n",
              "        async function convertToInteractive(key) {\n",
              "          const element = document.querySelector('#df-457d5563-aac1-4bd9-87c2-c01983b52c8b');\n",
              "          const dataTable =\n",
              "            await google.colab.kernel.invokeFunction('convertToInteractive',\n",
              "                                                     [key], {});\n",
              "          if (!dataTable) return;\n",
              "\n",
              "          const docLinkHtml = 'Like what you see? Visit the ' +\n",
              "            '<a target=\"_blank\" href=https://colab.research.google.com/notebooks/data_table.ipynb>data table notebook</a>'\n",
              "            + ' to learn more about interactive tables.';\n",
              "          element.innerHTML = '';\n",
              "          dataTable['output_type'] = 'display_data';\n",
              "          await google.colab.output.renderOutput(dataTable, element);\n",
              "          const docLink = document.createElement('div');\n",
              "          docLink.innerHTML = docLinkHtml;\n",
              "          element.appendChild(docLink);\n",
              "        }\n",
              "      </script>\n",
              "    </div>\n",
              "  </div>\n",
              "  "
            ]
          },
          "metadata": {},
          "execution_count": 19
        }
      ]
    },
    {
      "cell_type": "markdown",
      "source": [
        "\n",
        "* 데이터프레임에서 기본적으로 플롯을 제공합니다.\n",
        "\n",
        "```\n",
        "df.style.background_gradient()\n",
        "```\n"
      ],
      "metadata": {
        "id": "vbYPvUDd1cee"
      }
    },
    {
      "cell_type": "code",
      "source": [
        "df.style.background_gradient()"
      ],
      "metadata": {
        "id": "g04BF7mq-9xQ",
        "colab": {
          "base_uri": "https://localhost:8080/",
          "height": 143
        },
        "outputId": "f3b307a2-9448-43ab-b96c-c30266f1f2e7"
      },
      "execution_count": 20,
      "outputs": [
        {
          "output_type": "execute_result",
          "data": {
            "text/plain": [
              "<pandas.io.formats.style.Styler at 0x7fe755f0b290>"
            ],
            "text/html": [
              "<style type=\"text/css\">\n",
              "#T_5a786_row0_col0, #T_5a786_row1_col1, #T_5a786_row2_col2 {\n",
              "  background-color: #fff7fb;\n",
              "  color: #000000;\n",
              "}\n",
              "#T_5a786_row0_col1 {\n",
              "  background-color: #e8e4f0;\n",
              "  color: #000000;\n",
              "}\n",
              "#T_5a786_row0_col2 {\n",
              "  background-color: #9cb9d9;\n",
              "  color: #000000;\n",
              "}\n",
              "#T_5a786_row1_col0 {\n",
              "  background-color: #73a9cf;\n",
              "  color: #f1f1f1;\n",
              "}\n",
              "#T_5a786_row1_col2, #T_5a786_row2_col0, #T_5a786_row2_col1 {\n",
              "  background-color: #023858;\n",
              "  color: #f1f1f1;\n",
              "}\n",
              "</style>\n",
              "<table id=\"T_5a786_\" class=\"dataframe\">\n",
              "  <thead>\n",
              "    <tr>\n",
              "      <th class=\"blank level0\" >&nbsp;</th>\n",
              "      <th class=\"col_heading level0 col0\" >0</th>\n",
              "      <th class=\"col_heading level0 col1\" >1</th>\n",
              "      <th class=\"col_heading level0 col2\" >2</th>\n",
              "    </tr>\n",
              "  </thead>\n",
              "  <tbody>\n",
              "    <tr>\n",
              "      <th id=\"T_5a786_level0_row0\" class=\"row_heading level0 row0\" >0</th>\n",
              "      <td id=\"T_5a786_row0_col0\" class=\"data row0 col0\" >1</td>\n",
              "      <td id=\"T_5a786_row0_col1\" class=\"data row0 col1\" >2</td>\n",
              "      <td id=\"T_5a786_row0_col2\" class=\"data row0 col2\" >3</td>\n",
              "    </tr>\n",
              "    <tr>\n",
              "      <th id=\"T_5a786_level0_row1\" class=\"row_heading level0 row1\" >1</th>\n",
              "      <td id=\"T_5a786_row1_col0\" class=\"data row1 col0\" >4</td>\n",
              "      <td id=\"T_5a786_row1_col1\" class=\"data row1 col1\" >1</td>\n",
              "      <td id=\"T_5a786_row1_col2\" class=\"data row1 col2\" >6</td>\n",
              "    </tr>\n",
              "    <tr>\n",
              "      <th id=\"T_5a786_level0_row2\" class=\"row_heading level0 row2\" >2</th>\n",
              "      <td id=\"T_5a786_row2_col0\" class=\"data row2 col0\" >7</td>\n",
              "      <td id=\"T_5a786_row2_col1\" class=\"data row2 col1\" >8</td>\n",
              "      <td id=\"T_5a786_row2_col2\" class=\"data row2 col2\" >1</td>\n",
              "    </tr>\n",
              "  </tbody>\n",
              "</table>\n"
            ]
          },
          "metadata": {},
          "execution_count": 20
        }
      ]
    },
    {
      "cell_type": "markdown",
      "source": [
        "* 데이터프레임 기반으로 seaborn을 사용합니다.\n",
        "\n",
        "\n",
        "```\n",
        "sns.heatmap(data=df)\n",
        "```\n"
      ],
      "metadata": {
        "id": "ycx-4x4Ag94u"
      }
    },
    {
      "cell_type": "code",
      "source": [
        "sns.heatmap(data=df, annot = True) # annot= True는 항상 쓴다고 생각 할것."
      ],
      "metadata": {
        "id": "B8MgiEHyyjUt",
        "colab": {
          "base_uri": "https://localhost:8080/",
          "height": 284
        },
        "outputId": "5f274963-5d50-4401-9a8a-15cf5c5d88a6"
      },
      "execution_count": 21,
      "outputs": [
        {
          "output_type": "execute_result",
          "data": {
            "text/plain": [
              "<matplotlib.axes._subplots.AxesSubplot at 0x7fe75601e190>"
            ]
          },
          "metadata": {},
          "execution_count": 21
        },
        {
          "output_type": "display_data",
          "data": {
            "text/plain": [
              "<Figure size 432x288 with 2 Axes>"
            ],
            "image/png": "[encoded data removed]"
          },
          "metadata": {
            "needs_background": "light"
          }
        }
      ]
    },
    {
      "cell_type": "markdown",
      "source": [
        "\n",
        "##  **실습** \n",
        "---\n",
        "\n"
      ],
      "metadata": {
        "id": "qZ8F_TdAeIRB"
      }
    },
    {
      "cell_type": "markdown",
      "source": [
        "### (1) pivot 테이블 이용한 시계열 데이터 시각화\n",
        "\n",
        "\n",
        "```\n",
        "np.random.seed(42)\n",
        "t = ['오전','오후','저녁']*5\n",
        "day=[f'2020/01/0{i+1}' for i in range(5) for j in range(3)]\n",
        "vals = np.random.randint(100,500, len(t))\n",
        "\n",
        "```"
      ],
      "metadata": {
        "id": "YFCwKN6HLieQ"
      }
    },
    {
      "cell_type": "code",
      "source": [
        "np.random.seed(42)\n",
        "t = ['오전','오후','저녁']*5\n",
        "day=[f'2020/01/0{i+1}' for i in range(5) for j in range(3)]\n",
        "vals = np.random.randint(100,500, len(t))\n",
        "\n",
        "# df = pd.DataFrame([day,t,vals]).T      # 이렇게 하면 값은 잘 나오지만, info로 df의 타입을 보면 모든 값이 오브젝트임을 알 수 있음.\n",
        "# df.info()                              # 아래 방법으로 하면 vals 값이 int.\n",
        "\n",
        "\n",
        "df = pd.DataFrame([day, t]).T\n",
        "df['count'] = vals\n",
        "df.columns = ['day', 'time', 'count']\n",
        "\n",
        "df.head()"
      ],
      "metadata": {
        "id": "04EGKFOoF2cK",
        "colab": {
          "base_uri": "https://localhost:8080/",
          "height": 206
        },
        "outputId": "a4a6c8db-d811-444e-9558-1794e46614c0"
      },
      "execution_count": 50,
      "outputs": [
        {
          "output_type": "execute_result",
          "data": {
            "text/plain": [
              "          day time  count\n",
              "0  2020/01/01   오전    202\n",
              "1  2020/01/01   오후    448\n",
              "2  2020/01/01   저녁    370\n",
              "3  2020/01/02   오전    206\n",
              "4  2020/01/02   오후    171"
            ],
            "text/html": [
              "\n",
              "  <div id=\"df-7236018a-810e-4f1e-b6a9-1198be634081\">\n",
              "    <div class=\"colab-df-container\">\n",
              "      <div>\n",
              "<style scoped>\n",
              "    .dataframe tbody tr th:only-of-type {\n",
              "        vertical-align: middle;\n",
              "    }\n",
              "\n",
              "    .dataframe tbody tr th {\n",
              "        vertical-align: top;\n",
              "    }\n",
              "\n",
              "    .dataframe thead th {\n",
              "        text-align: right;\n",
              "    }\n",
              "</style>\n",
              "<table border=\"1\" class=\"dataframe\">\n",
              "  <thead>\n",
              "    <tr style=\"text-align: right;\">\n",
              "      <th></th>\n",
              "      <th>day</th>\n",
              "      <th>time</th>\n",
              "      <th>count</th>\n",
              "    </tr>\n",
              "  </thead>\n",
              "  <tbody>\n",
              "    <tr>\n",
              "      <th>0</th>\n",
              "      <td>2020/01/01</td>\n",
              "      <td>오전</td>\n",
              "      <td>202</td>\n",
              "    </tr>\n",
              "    <tr>\n",
              "      <th>1</th>\n",
              "      <td>2020/01/01</td>\n",
              "      <td>오후</td>\n",
              "      <td>448</td>\n",
              "    </tr>\n",
              "    <tr>\n",
              "      <th>2</th>\n",
              "      <td>2020/01/01</td>\n",
              "      <td>저녁</td>\n",
              "      <td>370</td>\n",
              "    </tr>\n",
              "    <tr>\n",
              "      <th>3</th>\n",
              "      <td>2020/01/02</td>\n",
              "      <td>오전</td>\n",
              "      <td>206</td>\n",
              "    </tr>\n",
              "    <tr>\n",
              "      <th>4</th>\n",
              "      <td>2020/01/02</td>\n",
              "      <td>오후</td>\n",
              "      <td>171</td>\n",
              "    </tr>\n",
              "  </tbody>\n",
              "</table>\n",
              "</div>\n",
              "      <button class=\"colab-df-convert\" onclick=\"convertToInteractive('df-7236018a-810e-4f1e-b6a9-1198be634081')\"\n",
              "              title=\"Convert this dataframe to an interactive table.\"\n",
              "              style=\"display:none;\">\n",
              "        \n",
              "  <svg xmlns=\"http://www.w3.org/2000/svg\" height=\"24px\"viewBox=\"0 0 24 24\"\n",
              "       width=\"24px\">\n",
              "    <path d=\"M0 0h24v24H0V0z\" fill=\"none\"/>\n",
              "    <path d=\"M18.56 5.44l.94 2.06.94-2.06 2.06-.94-2.06-.94-.94-2.06-.94 2.06-2.06.94zm-11 1L8.5 8.5l.94-2.06 2.06-.94-2.06-.94L8.5 2.5l-.94 2.06-2.06.94zm10 10l.94 2.06.94-2.06 2.06-.94-2.06-.94-.94-2.06-.94 2.06-2.06.94z\"/><path d=\"M17.41 7.96l-1.37-1.37c-.4-.4-.92-.59-1.43-.59-.52 0-1.04.2-1.43.59L10.3 9.45l-7.72 7.72c-.78.78-.78 2.05 0 2.83L4 21.41c.39.39.9.59 1.41.59.51 0 1.02-.2 1.41-.59l7.78-7.78 2.81-2.81c.8-.78.8-2.07 0-2.86zM5.41 20L4 18.59l7.72-7.72 1.47 1.35L5.41 20z\"/>\n",
              "  </svg>\n",
              "      </button>\n",
              "      \n",
              "  <style>\n",
              "    .colab-df-container {\n",
              "      display:flex;\n",
              "      flex-wrap:wrap;\n",
              "      gap: 12px;\n",
              "    }\n",
              "\n",
              "    .colab-df-convert {\n",
              "      background-color: #E8F0FE;\n",
              "      border: none;\n",
              "      border-radius: 50%;\n",
              "      cursor: pointer;\n",
              "      display: none;\n",
              "      fill: #1967D2;\n",
              "      height: 32px;\n",
              "      padding: 0 0 0 0;\n",
              "      width: 32px;\n",
              "    }\n",
              "\n",
              "    .colab-df-convert:hover {\n",
              "      background-color: #E2EBFA;\n",
              "      box-shadow: 0px 1px 2px rgba(60, 64, 67, 0.3), 0px 1px 3px 1px rgba(60, 64, 67, 0.15);\n",
              "      fill: #174EA6;\n",
              "    }\n",
              "\n",
              "    [theme=dark] .colab-df-convert {\n",
              "      background-color: #3B4455;\n",
              "      fill: #D2E3FC;\n",
              "    }\n",
              "\n",
              "    [theme=dark] .colab-df-convert:hover {\n",
              "      background-color: #434B5C;\n",
              "      box-shadow: 0px 1px 3px 1px rgba(0, 0, 0, 0.15);\n",
              "      filter: drop-shadow(0px 1px 2px rgba(0, 0, 0, 0.3));\n",
              "      fill: #FFFFFF;\n",
              "    }\n",
              "  </style>\n",
              "\n",
              "      <script>\n",
              "        const buttonEl =\n",
              "          document.querySelector('#df-7236018a-810e-4f1e-b6a9-1198be634081 button.colab-df-convert');\n",
              "        buttonEl.style.display =\n",
              "          google.colab.kernel.accessAllowed ? 'block' : 'none';\n",
              "\n",
              "        async function convertToInteractive(key) {\n",
              "          const element = document.querySelector('#df-7236018a-810e-4f1e-b6a9-1198be634081');\n",
              "          const dataTable =\n",
              "            await google.colab.kernel.invokeFunction('convertToInteractive',\n",
              "                                                     [key], {});\n",
              "          if (!dataTable) return;\n",
              "\n",
              "          const docLinkHtml = 'Like what you see? Visit the ' +\n",
              "            '<a target=\"_blank\" href=https://colab.research.google.com/notebooks/data_table.ipynb>data table notebook</a>'\n",
              "            + ' to learn more about interactive tables.';\n",
              "          element.innerHTML = '';\n",
              "          dataTable['output_type'] = 'display_data';\n",
              "          await google.colab.output.renderOutput(dataTable, element);\n",
              "          const docLink = document.createElement('div');\n",
              "          docLink.innerHTML = docLinkHtml;\n",
              "          element.appendChild(docLink);\n",
              "        }\n",
              "      </script>\n",
              "    </div>\n",
              "  </div>\n",
              "  "
            ]
          },
          "metadata": {},
          "execution_count": 50
        }
      ]
    },
    {
      "cell_type": "code",
      "source": [
        "# 행 / 열 / 값\n",
        "df.pivot('day', 'time', 'count').style.background_gradient()"
      ],
      "metadata": {
        "colab": {
          "base_uri": "https://localhost:8080/",
          "height": 238
        },
        "id": "044DxQ1dXlZF",
        "outputId": "1afc52c2-cd30-4516-98a1-e004e2fa530e"
      },
      "execution_count": 51,
      "outputs": [
        {
          "output_type": "execute_result",
          "data": {
            "text/plain": [
              "<pandas.io.formats.style.Styler at 0x7fe75496f990>"
            ],
            "text/html": [
              "<style type=\"text/css\">\n",
              "#T_8fb20_row0_col0 {\n",
              "  background-color: #d4d4e8;\n",
              "  color: #000000;\n",
              "}\n",
              "#T_8fb20_row0_col1, #T_8fb20_row4_col0, #T_8fb20_row4_col2 {\n",
              "  background-color: #023858;\n",
              "  color: #f1f1f1;\n",
              "}\n",
              "#T_8fb20_row0_col2 {\n",
              "  background-color: #2383ba;\n",
              "  color: #f1f1f1;\n",
              "}\n",
              "#T_8fb20_row1_col0 {\n",
              "  background-color: #d2d2e7;\n",
              "  color: #000000;\n",
              "}\n",
              "#T_8fb20_row1_col1, #T_8fb20_row2_col0, #T_8fb20_row3_col2 {\n",
              "  background-color: #fff7fb;\n",
              "  color: #000000;\n",
              "}\n",
              "#T_8fb20_row1_col2 {\n",
              "  background-color: #a7bddb;\n",
              "  color: #000000;\n",
              "}\n",
              "#T_8fb20_row2_col1 {\n",
              "  background-color: #eee9f3;\n",
              "  color: #000000;\n",
              "}\n",
              "#T_8fb20_row2_col2 {\n",
              "  background-color: #ece7f2;\n",
              "  color: #000000;\n",
              "}\n",
              "#T_8fb20_row3_col0 {\n",
              "  background-color: #5a9ec9;\n",
              "  color: #f1f1f1;\n",
              "}\n",
              "#T_8fb20_row3_col1 {\n",
              "  background-color: #034973;\n",
              "  color: #f1f1f1;\n",
              "}\n",
              "#T_8fb20_row4_col1 {\n",
              "  background-color: #f0eaf4;\n",
              "  color: #000000;\n",
              "}\n",
              "</style>\n",
              "<table id=\"T_8fb20_\" class=\"dataframe\">\n",
              "  <thead>\n",
              "    <tr>\n",
              "      <th class=\"index_name level0\" >time</th>\n",
              "      <th class=\"col_heading level0 col0\" >오전</th>\n",
              "      <th class=\"col_heading level0 col1\" >오후</th>\n",
              "      <th class=\"col_heading level0 col2\" >저녁</th>\n",
              "    </tr>\n",
              "    <tr>\n",
              "      <th class=\"index_name level0\" >day</th>\n",
              "      <th class=\"blank col0\" >&nbsp;</th>\n",
              "      <th class=\"blank col1\" >&nbsp;</th>\n",
              "      <th class=\"blank col2\" >&nbsp;</th>\n",
              "    </tr>\n",
              "  </thead>\n",
              "  <tbody>\n",
              "    <tr>\n",
              "      <th id=\"T_8fb20_level0_row0\" class=\"row_heading level0 row0\" >2020/01/01</th>\n",
              "      <td id=\"T_8fb20_row0_col0\" class=\"data row0 col0\" >202</td>\n",
              "      <td id=\"T_8fb20_row0_col1\" class=\"data row0 col1\" >448</td>\n",
              "      <td id=\"T_8fb20_row0_col2\" class=\"data row0 col2\" >370</td>\n",
              "    </tr>\n",
              "    <tr>\n",
              "      <th id=\"T_8fb20_level0_row1\" class=\"row_heading level0 row1\" >2020/01/02</th>\n",
              "      <td id=\"T_8fb20_row1_col0\" class=\"data row1 col0\" >206</td>\n",
              "      <td id=\"T_8fb20_row1_col1\" class=\"data row1 col1\" >171</td>\n",
              "      <td id=\"T_8fb20_row1_col2\" class=\"data row1 col2\" >288</td>\n",
              "    </tr>\n",
              "    <tr>\n",
              "      <th id=\"T_8fb20_level0_row2\" class=\"row_heading level0 row2\" >2020/01/03</th>\n",
              "      <td id=\"T_8fb20_row2_col0\" class=\"data row2 col0\" >120</td>\n",
              "      <td id=\"T_8fb20_row2_col1\" class=\"data row2 col1\" >202</td>\n",
              "      <td id=\"T_8fb20_row2_col2\" class=\"data row2 col2\" >221</td>\n",
              "    </tr>\n",
              "    <tr>\n",
              "      <th id=\"T_8fb20_level0_row3\" class=\"row_heading level0 row3\" >2020/01/04</th>\n",
              "      <td id=\"T_8fb20_row3_col0\" class=\"data row3 col0\" >314</td>\n",
              "      <td id=\"T_8fb20_row3_col1\" class=\"data row3 col1\" >430</td>\n",
              "      <td id=\"T_8fb20_row3_col2\" class=\"data row3 col2\" >187</td>\n",
              "    </tr>\n",
              "    <tr>\n",
              "      <th id=\"T_8fb20_level0_row4\" class=\"row_heading level0 row4\" >2020/01/05</th>\n",
              "      <td id=\"T_8fb20_row4_col0\" class=\"data row4 col0\" >472</td>\n",
              "      <td id=\"T_8fb20_row4_col1\" class=\"data row4 col1\" >199</td>\n",
              "      <td id=\"T_8fb20_row4_col2\" class=\"data row4 col2\" >459</td>\n",
              "    </tr>\n",
              "  </tbody>\n",
              "</table>\n"
            ]
          },
          "metadata": {},
          "execution_count": 51
        }
      ]
    },
    {
      "cell_type": "markdown",
      "source": [
        "### (2) Iris 데이터 변수별 상관관계 분석\n",
        "\n",
        "\n",
        "```\n",
        "           꽃받침 길이   꽃받침 너비   꽃의 길이  꽃의 너비\n",
        " 샘플1      \n",
        " 샘플2 \n",
        " ...\n",
        " 샘플150\n",
        "```\n",
        "\n",
        "\n",
        "```\n",
        "from sklearn.datasets import load_iris\n",
        "iris = load_iris()\n",
        "```\n",
        "\n",
        "\n",
        "* `.feature_names` : 변수 이름\n",
        "* `.target_names` : 타겟 이름\n",
        "* `.data` : 데이터 \n",
        "* `.target` : 타겟\n"
      ],
      "metadata": {
        "id": "QGviht0yPmHr"
      }
    },
    {
      "cell_type": "code",
      "source": [
        "from sklearn.datasets import load_iris\n",
        "iris = load_iris()"
      ],
      "metadata": {
        "id": "dNLpcUxfgzyZ"
      },
      "execution_count": 42,
      "outputs": []
    },
    {
      "cell_type": "markdown",
      "source": [
        "### (3) Iris 데이터 종류별 크기 분석\n",
        "\n"
      ],
      "metadata": {
        "id": "yC_WoKqD0n1H"
      }
    },
    {
      "cell_type": "code",
      "source": [
        "x_names = iris.feature_names\n",
        "y_names = iris.target_names\n",
        "x_data = iris.data\n",
        "y_data = iris.target\n",
        "\n",
        "data1 = pd.DataFrame(x_data)\n",
        "data1.columns = x_names\n",
        "data1['label'] = y_data\n",
        "data1.head()"
      ],
      "metadata": {
        "id": "3bhK6Y9Wg0at",
        "colab": {
          "base_uri": "https://localhost:8080/",
          "height": 206
        },
        "outputId": "21869d33-f16b-4b22-abf7-39aeb421c8c9"
      },
      "execution_count": 77,
      "outputs": [
        {
          "output_type": "execute_result",
          "data": {
            "text/plain": [
              "   sepal length (cm)  sepal width (cm)  petal length (cm)  petal width (cm)  \\\n",
              "0                5.1               3.5                1.4               0.2   \n",
              "1                4.9               3.0                1.4               0.2   \n",
              "2                4.7               3.2                1.3               0.2   \n",
              "3                4.6               3.1                1.5               0.2   \n",
              "4                5.0               3.6                1.4               0.2   \n",
              "\n",
              "   label  \n",
              "0      0  \n",
              "1      0  \n",
              "2      0  \n",
              "3      0  \n",
              "4      0  "
            ],
            "text/html": [
              "\n",
              "  <div id=\"df-ac0e7b62-8f2b-400d-8844-ac6902e0a3d7\">\n",
              "    <div class=\"colab-df-container\">\n",
              "      <div>\n",
              "<style scoped>\n",
              "    .dataframe tbody tr th:only-of-type {\n",
              "        vertical-align: middle;\n",
              "    }\n",
              "\n",
              "    .dataframe tbody tr th {\n",
              "        vertical-align: top;\n",
              "    }\n",
              "\n",
              "    .dataframe thead th {\n",
              "        text-align: right;\n",
              "    }\n",
              "</style>\n",
              "<table border=\"1\" class=\"dataframe\">\n",
              "  <thead>\n",
              "    <tr style=\"text-align: right;\">\n",
              "      <th></th>\n",
              "      <th>sepal length (cm)</th>\n",
              "      <th>sepal width (cm)</th>\n",
              "      <th>petal length (cm)</th>\n",
              "      <th>petal width (cm)</th>\n",
              "      <th>label</th>\n",
              "    </tr>\n",
              "  </thead>\n",
              "  <tbody>\n",
              "    <tr>\n",
              "      <th>0</th>\n",
              "      <td>5.1</td>\n",
              "      <td>3.5</td>\n",
              "      <td>1.4</td>\n",
              "      <td>0.2</td>\n",
              "      <td>0</td>\n",
              "    </tr>\n",
              "    <tr>\n",
              "      <th>1</th>\n",
              "      <td>4.9</td>\n",
              "      <td>3.0</td>\n",
              "      <td>1.4</td>\n",
              "      <td>0.2</td>\n",
              "      <td>0</td>\n",
              "    </tr>\n",
              "    <tr>\n",
              "      <th>2</th>\n",
              "      <td>4.7</td>\n",
              "      <td>3.2</td>\n",
              "      <td>1.3</td>\n",
              "      <td>0.2</td>\n",
              "      <td>0</td>\n",
              "    </tr>\n",
              "    <tr>\n",
              "      <th>3</th>\n",
              "      <td>4.6</td>\n",
              "      <td>3.1</td>\n",
              "      <td>1.5</td>\n",
              "      <td>0.2</td>\n",
              "      <td>0</td>\n",
              "    </tr>\n",
              "    <tr>\n",
              "      <th>4</th>\n",
              "      <td>5.0</td>\n",
              "      <td>3.6</td>\n",
              "      <td>1.4</td>\n",
              "      <td>0.2</td>\n",
              "      <td>0</td>\n",
              "    </tr>\n",
              "  </tbody>\n",
              "</table>\n",
              "</div>\n",
              "      <button class=\"colab-df-convert\" onclick=\"convertToInteractive('df-ac0e7b62-8f2b-400d-8844-ac6902e0a3d7')\"\n",
              "              title=\"Convert this dataframe to an interactive table.\"\n",
              "              style=\"display:none;\">\n",
              "        \n",
              "  <svg xmlns=\"http://www.w3.org/2000/svg\" height=\"24px\"viewBox=\"0 0 24 24\"\n",
              "       width=\"24px\">\n",
              "    <path d=\"M0 0h24v24H0V0z\" fill=\"none\"/>\n",
              "    <path d=\"M18.56 5.44l.94 2.06.94-2.06 2.06-.94-2.06-.94-.94-2.06-.94 2.06-2.06.94zm-11 1L8.5 8.5l.94-2.06 2.06-.94-2.06-.94L8.5 2.5l-.94 2.06-2.06.94zm10 10l.94 2.06.94-2.06 2.06-.94-2.06-.94-.94-2.06-.94 2.06-2.06.94z\"/><path d=\"M17.41 7.96l-1.37-1.37c-.4-.4-.92-.59-1.43-.59-.52 0-1.04.2-1.43.59L10.3 9.45l-7.72 7.72c-.78.78-.78 2.05 0 2.83L4 21.41c.39.39.9.59 1.41.59.51 0 1.02-.2 1.41-.59l7.78-7.78 2.81-2.81c.8-.78.8-2.07 0-2.86zM5.41 20L4 18.59l7.72-7.72 1.47 1.35L5.41 20z\"/>\n",
              "  </svg>\n",
              "      </button>\n",
              "      \n",
              "  <style>\n",
              "    .colab-df-container {\n",
              "      display:flex;\n",
              "      flex-wrap:wrap;\n",
              "      gap: 12px;\n",
              "    }\n",
              "\n",
              "    .colab-df-convert {\n",
              "      background-color: #E8F0FE;\n",
              "      border: none;\n",
              "      border-radius: 50%;\n",
              "      cursor: pointer;\n",
              "      display: none;\n",
              "      fill: #1967D2;\n",
              "      height: 32px;\n",
              "      padding: 0 0 0 0;\n",
              "      width: 32px;\n",
              "    }\n",
              "\n",
              "    .colab-df-convert:hover {\n",
              "      background-color: #E2EBFA;\n",
              "      box-shadow: 0px 1px 2px rgba(60, 64, 67, 0.3), 0px 1px 3px 1px rgba(60, 64, 67, 0.15);\n",
              "      fill: #174EA6;\n",
              "    }\n",
              "\n",
              "    [theme=dark] .colab-df-convert {\n",
              "      background-color: #3B4455;\n",
              "      fill: #D2E3FC;\n",
              "    }\n",
              "\n",
              "    [theme=dark] .colab-df-convert:hover {\n",
              "      background-color: #434B5C;\n",
              "      box-shadow: 0px 1px 3px 1px rgba(0, 0, 0, 0.15);\n",
              "      filter: drop-shadow(0px 1px 2px rgba(0, 0, 0, 0.3));\n",
              "      fill: #FFFFFF;\n",
              "    }\n",
              "  </style>\n",
              "\n",
              "      <script>\n",
              "        const buttonEl =\n",
              "          document.querySelector('#df-ac0e7b62-8f2b-400d-8844-ac6902e0a3d7 button.colab-df-convert');\n",
              "        buttonEl.style.display =\n",
              "          google.colab.kernel.accessAllowed ? 'block' : 'none';\n",
              "\n",
              "        async function convertToInteractive(key) {\n",
              "          const element = document.querySelector('#df-ac0e7b62-8f2b-400d-8844-ac6902e0a3d7');\n",
              "          const dataTable =\n",
              "            await google.colab.kernel.invokeFunction('convertToInteractive',\n",
              "                                                     [key], {});\n",
              "          if (!dataTable) return;\n",
              "\n",
              "          const docLinkHtml = 'Like what you see? Visit the ' +\n",
              "            '<a target=\"_blank\" href=https://colab.research.google.com/notebooks/data_table.ipynb>data table notebook</a>'\n",
              "            + ' to learn more about interactive tables.';\n",
              "          element.innerHTML = '';\n",
              "          dataTable['output_type'] = 'display_data';\n",
              "          await google.colab.output.renderOutput(dataTable, element);\n",
              "          const docLink = document.createElement('div');\n",
              "          docLink.innerHTML = docLinkHtml;\n",
              "          element.appendChild(docLink);\n",
              "        }\n",
              "      </script>\n",
              "    </div>\n",
              "  </div>\n",
              "  "
            ]
          },
          "metadata": {},
          "execution_count": 77
        }
      ]
    },
    {
      "cell_type": "code",
      "source": [
        "data1.corr().style.background_gradient()"
      ],
      "metadata": {
        "colab": {
          "base_uri": "https://localhost:8080/",
          "height": 206
        },
        "id": "DLaW4msQb-Rz",
        "outputId": "f2be3005-c4c8-4f6a-a3ce-e7dda027c041"
      },
      "execution_count": 67,
      "outputs": [
        {
          "output_type": "execute_result",
          "data": {
            "text/plain": [
              "<pandas.io.formats.style.Styler at 0x7fe7548d0b50>"
            ],
            "text/html": [
              "<style type=\"text/css\">\n",
              "#T_53090_row0_col0, #T_53090_row1_col1, #T_53090_row2_col2, #T_53090_row3_col3, #T_53090_row4_col4 {\n",
              "  background-color: #023858;\n",
              "  color: #f1f1f1;\n",
              "}\n",
              "#T_53090_row0_col1 {\n",
              "  background-color: #d8d7e9;\n",
              "  color: #000000;\n",
              "}\n",
              "#T_53090_row0_col2 {\n",
              "  background-color: #034f7d;\n",
              "  color: #f1f1f1;\n",
              "}\n",
              "#T_53090_row0_col3 {\n",
              "  background-color: #045b8f;\n",
              "  color: #f1f1f1;\n",
              "}\n",
              "#T_53090_row0_col4 {\n",
              "  background-color: #045f95;\n",
              "  color: #f1f1f1;\n",
              "}\n",
              "#T_53090_row1_col0, #T_53090_row1_col2, #T_53090_row1_col3, #T_53090_row1_col4, #T_53090_row2_col1, #T_53090_row4_col1 {\n",
              "  background-color: #fff7fb;\n",
              "  color: #000000;\n",
              "}\n",
              "#T_53090_row2_col0 {\n",
              "  background-color: #045788;\n",
              "  color: #f1f1f1;\n",
              "}\n",
              "#T_53090_row2_col3, #T_53090_row3_col2 {\n",
              "  background-color: #023e62;\n",
              "  color: #f1f1f1;\n",
              "}\n",
              "#T_53090_row2_col4, #T_53090_row4_col2 {\n",
              "  background-color: #034267;\n",
              "  color: #f1f1f1;\n",
              "}\n",
              "#T_53090_row3_col0 {\n",
              "  background-color: #046097;\n",
              "  color: #f1f1f1;\n",
              "}\n",
              "#T_53090_row3_col1 {\n",
              "  background-color: #f8f1f8;\n",
              "  color: #000000;\n",
              "}\n",
              "#T_53090_row3_col4 {\n",
              "  background-color: #023f64;\n",
              "  color: #f1f1f1;\n",
              "}\n",
              "#T_53090_row4_col0 {\n",
              "  background-color: #0566a0;\n",
              "  color: #f1f1f1;\n",
              "}\n",
              "#T_53090_row4_col3 {\n",
              "  background-color: #034165;\n",
              "  color: #f1f1f1;\n",
              "}\n",
              "</style>\n",
              "<table id=\"T_53090_\" class=\"dataframe\">\n",
              "  <thead>\n",
              "    <tr>\n",
              "      <th class=\"blank level0\" >&nbsp;</th>\n",
              "      <th class=\"col_heading level0 col0\" >sepal length (cm)</th>\n",
              "      <th class=\"col_heading level0 col1\" >sepal width (cm)</th>\n",
              "      <th class=\"col_heading level0 col2\" >petal length (cm)</th>\n",
              "      <th class=\"col_heading level0 col3\" >petal width (cm)</th>\n",
              "      <th class=\"col_heading level0 col4\" >label</th>\n",
              "    </tr>\n",
              "  </thead>\n",
              "  <tbody>\n",
              "    <tr>\n",
              "      <th id=\"T_53090_level0_row0\" class=\"row_heading level0 row0\" >sepal length (cm)</th>\n",
              "      <td id=\"T_53090_row0_col0\" class=\"data row0 col0\" >1.000000</td>\n",
              "      <td id=\"T_53090_row0_col1\" class=\"data row0 col1\" >-0.117570</td>\n",
              "      <td id=\"T_53090_row0_col2\" class=\"data row0 col2\" >0.871754</td>\n",
              "      <td id=\"T_53090_row0_col3\" class=\"data row0 col3\" >0.817941</td>\n",
              "      <td id=\"T_53090_row0_col4\" class=\"data row0 col4\" >0.782561</td>\n",
              "    </tr>\n",
              "    <tr>\n",
              "      <th id=\"T_53090_level0_row1\" class=\"row_heading level0 row1\" >sepal width (cm)</th>\n",
              "      <td id=\"T_53090_row1_col0\" class=\"data row1 col0\" >-0.117570</td>\n",
              "      <td id=\"T_53090_row1_col1\" class=\"data row1 col1\" >1.000000</td>\n",
              "      <td id=\"T_53090_row1_col2\" class=\"data row1 col2\" >-0.428440</td>\n",
              "      <td id=\"T_53090_row1_col3\" class=\"data row1 col3\" >-0.366126</td>\n",
              "      <td id=\"T_53090_row1_col4\" class=\"data row1 col4\" >-0.426658</td>\n",
              "    </tr>\n",
              "    <tr>\n",
              "      <th id=\"T_53090_level0_row2\" class=\"row_heading level0 row2\" >petal length (cm)</th>\n",
              "      <td id=\"T_53090_row2_col0\" class=\"data row2 col0\" >0.871754</td>\n",
              "      <td id=\"T_53090_row2_col1\" class=\"data row2 col1\" >-0.428440</td>\n",
              "      <td id=\"T_53090_row2_col2\" class=\"data row2 col2\" >1.000000</td>\n",
              "      <td id=\"T_53090_row2_col3\" class=\"data row2 col3\" >0.962865</td>\n",
              "      <td id=\"T_53090_row2_col4\" class=\"data row2 col4\" >0.949035</td>\n",
              "    </tr>\n",
              "    <tr>\n",
              "      <th id=\"T_53090_level0_row3\" class=\"row_heading level0 row3\" >petal width (cm)</th>\n",
              "      <td id=\"T_53090_row3_col0\" class=\"data row3 col0\" >0.817941</td>\n",
              "      <td id=\"T_53090_row3_col1\" class=\"data row3 col1\" >-0.366126</td>\n",
              "      <td id=\"T_53090_row3_col2\" class=\"data row3 col2\" >0.962865</td>\n",
              "      <td id=\"T_53090_row3_col3\" class=\"data row3 col3\" >1.000000</td>\n",
              "      <td id=\"T_53090_row3_col4\" class=\"data row3 col4\" >0.956547</td>\n",
              "    </tr>\n",
              "    <tr>\n",
              "      <th id=\"T_53090_level0_row4\" class=\"row_heading level0 row4\" >label</th>\n",
              "      <td id=\"T_53090_row4_col0\" class=\"data row4 col0\" >0.782561</td>\n",
              "      <td id=\"T_53090_row4_col1\" class=\"data row4 col1\" >-0.426658</td>\n",
              "      <td id=\"T_53090_row4_col2\" class=\"data row4 col2\" >0.949035</td>\n",
              "      <td id=\"T_53090_row4_col3\" class=\"data row4 col3\" >0.956547</td>\n",
              "      <td id=\"T_53090_row4_col4\" class=\"data row4 col4\" >1.000000</td>\n",
              "    </tr>\n",
              "  </tbody>\n",
              "</table>\n"
            ]
          },
          "metadata": {},
          "execution_count": 67
        }
      ]
    },
    {
      "cell_type": "code",
      "source": [
        "sns.heatmap(data1.corr(), annot = True)   # annot = True -> 각 칸에 해당하는 값을 넣음.\n",
        "\n",
        "\n",
        "# heatmap 다양한 컬러맵을 보고 싶으면 matplotlib 페이지 들어가서 찾아볼것."
      ],
      "metadata": {
        "colab": {
          "base_uri": "https://localhost:8080/",
          "height": 362
        },
        "id": "0ObG2iiAcwM1",
        "outputId": "6137028b-984b-4b52-943e-a831908b4a57"
      },
      "execution_count": 87,
      "outputs": [
        {
          "output_type": "execute_result",
          "data": {
            "text/plain": [
              "<matplotlib.axes._subplots.AxesSubplot at 0x7fe7510792d0>"
            ]
          },
          "metadata": {},
          "execution_count": 87
        },
        {
          "output_type": "display_data",
          "data": {
            "text/plain": [
              "<Figure size 432x288 with 2 Axes>"
            ],
            "image/png": "[encoded data removed]"
          },
          "metadata": {
            "needs_background": "light"
          }
        }
      ]
    },
    {
      "cell_type": "code",
      "source": [
        "data1.groupby('label').mean().style.background_gradient()"
      ],
      "metadata": {
        "colab": {
          "base_uri": "https://localhost:8080/",
          "height": 175
        },
        "id": "1BmrRxRBiLeC",
        "outputId": "b014d8cd-58b8-4da8-f349-cfe6364e8c12"
      },
      "execution_count": 90,
      "outputs": [
        {
          "output_type": "execute_result",
          "data": {
            "text/plain": [
              "<pandas.io.formats.style.Styler at 0x7fe750fb54d0>"
            ],
            "text/html": [
              "<style type=\"text/css\">\n",
              "#T_9ced8_row0_col0, #T_9ced8_row0_col2, #T_9ced8_row0_col3, #T_9ced8_row1_col1 {\n",
              "  background-color: #fff7fb;\n",
              "  color: #000000;\n",
              "}\n",
              "#T_9ced8_row0_col1, #T_9ced8_row2_col0, #T_9ced8_row2_col2, #T_9ced8_row2_col3 {\n",
              "  background-color: #023858;\n",
              "  color: #f1f1f1;\n",
              "}\n",
              "#T_9ced8_row1_col0 {\n",
              "  background-color: #4897c4;\n",
              "  color: #f1f1f1;\n",
              "}\n",
              "#T_9ced8_row1_col2 {\n",
              "  background-color: #1e80b8;\n",
              "  color: #f1f1f1;\n",
              "}\n",
              "#T_9ced8_row1_col3 {\n",
              "  background-color: #3f93c2;\n",
              "  color: #f1f1f1;\n",
              "}\n",
              "#T_9ced8_row2_col1 {\n",
              "  background-color: #bcc7e1;\n",
              "  color: #000000;\n",
              "}\n",
              "</style>\n",
              "<table id=\"T_9ced8_\" class=\"dataframe\">\n",
              "  <thead>\n",
              "    <tr>\n",
              "      <th class=\"blank level0\" >&nbsp;</th>\n",
              "      <th class=\"col_heading level0 col0\" >sepal length (cm)</th>\n",
              "      <th class=\"col_heading level0 col1\" >sepal width (cm)</th>\n",
              "      <th class=\"col_heading level0 col2\" >petal length (cm)</th>\n",
              "      <th class=\"col_heading level0 col3\" >petal width (cm)</th>\n",
              "    </tr>\n",
              "    <tr>\n",
              "      <th class=\"index_name level0\" >label</th>\n",
              "      <th class=\"blank col0\" >&nbsp;</th>\n",
              "      <th class=\"blank col1\" >&nbsp;</th>\n",
              "      <th class=\"blank col2\" >&nbsp;</th>\n",
              "      <th class=\"blank col3\" >&nbsp;</th>\n",
              "    </tr>\n",
              "  </thead>\n",
              "  <tbody>\n",
              "    <tr>\n",
              "      <th id=\"T_9ced8_level0_row0\" class=\"row_heading level0 row0\" >0</th>\n",
              "      <td id=\"T_9ced8_row0_col0\" class=\"data row0 col0\" >5.006000</td>\n",
              "      <td id=\"T_9ced8_row0_col1\" class=\"data row0 col1\" >3.428000</td>\n",
              "      <td id=\"T_9ced8_row0_col2\" class=\"data row0 col2\" >1.462000</td>\n",
              "      <td id=\"T_9ced8_row0_col3\" class=\"data row0 col3\" >0.246000</td>\n",
              "    </tr>\n",
              "    <tr>\n",
              "      <th id=\"T_9ced8_level0_row1\" class=\"row_heading level0 row1\" >1</th>\n",
              "      <td id=\"T_9ced8_row1_col0\" class=\"data row1 col0\" >5.936000</td>\n",
              "      <td id=\"T_9ced8_row1_col1\" class=\"data row1 col1\" >2.770000</td>\n",
              "      <td id=\"T_9ced8_row1_col2\" class=\"data row1 col2\" >4.260000</td>\n",
              "      <td id=\"T_9ced8_row1_col3\" class=\"data row1 col3\" >1.326000</td>\n",
              "    </tr>\n",
              "    <tr>\n",
              "      <th id=\"T_9ced8_level0_row2\" class=\"row_heading level0 row2\" >2</th>\n",
              "      <td id=\"T_9ced8_row2_col0\" class=\"data row2 col0\" >6.588000</td>\n",
              "      <td id=\"T_9ced8_row2_col1\" class=\"data row2 col1\" >2.974000</td>\n",
              "      <td id=\"T_9ced8_row2_col2\" class=\"data row2 col2\" >5.552000</td>\n",
              "      <td id=\"T_9ced8_row2_col3\" class=\"data row2 col3\" >2.026000</td>\n",
              "    </tr>\n",
              "  </tbody>\n",
              "</table>\n"
            ]
          },
          "metadata": {},
          "execution_count": 90
        }
      ]
    },
    {
      "cell_type": "markdown",
      "source": [
        "\n",
        "##  **과제** \n",
        "---\n"
      ],
      "metadata": {
        "id": "l-oYQdjZxNDI"
      }
    },
    {
      "cell_type": "markdown",
      "source": [
        "\n",
        "### (1) 히트맵을 이용한 flight 데이터 시각화\n",
        "\n",
        "\n",
        "```\n",
        "df=sns.load_dataset('flights')\n",
        "```\n",
        "\n",
        "* `seaborn`의 `load_dataset`을 이용해 `flights` 데이터를 불러오세요.\n",
        "* `year`를 세로축, `month`를 가로축으로 하는 피벗 테이블을 그리고 히트맵으로 시각화 하세요.\n",
        "\n"
      ],
      "metadata": {
        "id": "l0C63YdjQIhk"
      }
    },
    {
      "cell_type": "code",
      "source": [
        "df=sns.load_dataset('flights')\n",
        "sns.heatmap(df.pivot('year', 'month'), cmap = 'coolwarm')"
      ],
      "metadata": {
        "id": "PNj5NT9Ng2by",
        "colab": {
          "base_uri": "https://localhost:8080/",
          "height": 365
        },
        "outputId": "e5ef011d-0bb8-4127-880c-f186770443cd"
      },
      "execution_count": 111,
      "outputs": [
        {
          "output_type": "execute_result",
          "data": {
            "text/plain": [
              "<matplotlib.axes._subplots.AxesSubplot at 0x7fe7504c6e10>"
            ]
          },
          "metadata": {},
          "execution_count": 111
        },
        {
          "output_type": "display_data",
          "data": {
            "text/plain": [
              "<Figure size 432x288 with 2 Axes>"
            ],
            "image/png": "[encoded data removed]"
          },
          "metadata": {
            "needs_background": "light"
          }
        }
      ]
    },
    {
      "cell_type": "markdown",
      "source": [
        "\n",
        "### (2) 캘리포니아 집값 데이터 변수별 상관관계 분석\n",
        "\n",
        "* /content/sample_data/california_housing_test.csv을 불러오세요.\n",
        "* 변수별 상관관계를 나타내는 히트맵을 `seaborn`을 이용해  그리세요."
      ],
      "metadata": {
        "id": "LDMD8SaczBGQ"
      }
    },
    {
      "cell_type": "code",
      "source": [
        "df = pd.read_csv('/content/sample_data/california_housing_test.csv')\n",
        "df.head()"
      ],
      "metadata": {
        "id": "q6J1sL1QM4DP",
        "colab": {
          "base_uri": "https://localhost:8080/",
          "height": 206
        },
        "outputId": "7e0c923f-4639-4ab0-9e13-8d7dff9c5fdc"
      },
      "execution_count": 114,
      "outputs": [
        {
          "output_type": "execute_result",
          "data": {
            "text/plain": [
              "   longitude  latitude  housing_median_age  total_rooms  total_bedrooms  \\\n",
              "0    -122.05     37.37                27.0       3885.0           661.0   \n",
              "1    -118.30     34.26                43.0       1510.0           310.0   \n",
              "2    -117.81     33.78                27.0       3589.0           507.0   \n",
              "3    -118.36     33.82                28.0         67.0            15.0   \n",
              "4    -119.67     36.33                19.0       1241.0           244.0   \n",
              "\n",
              "   population  households  median_income  median_house_value  \n",
              "0      1537.0       606.0         6.6085            344700.0  \n",
              "1       809.0       277.0         3.5990            176500.0  \n",
              "2      1484.0       495.0         5.7934            270500.0  \n",
              "3        49.0        11.0         6.1359            330000.0  \n",
              "4       850.0       237.0         2.9375             81700.0  "
            ],
            "text/html": [
              "\n",
              "  <div id=\"df-20c72882-7ed6-44b2-8c76-7afa5c24b30a\">\n",
              "    <div class=\"colab-df-container\">\n",
              "      <div>\n",
              "<style scoped>\n",
              "    .dataframe tbody tr th:only-of-type {\n",
              "        vertical-align: middle;\n",
              "    }\n",
              "\n",
              "    .dataframe tbody tr th {\n",
              "        vertical-align: top;\n",
              "    }\n",
              "\n",
              "    .dataframe thead th {\n",
              "        text-align: right;\n",
              "    }\n",
              "</style>\n",
              "<table border=\"1\" class=\"dataframe\">\n",
              "  <thead>\n",
              "    <tr style=\"text-align: right;\">\n",
              "      <th></th>\n",
              "      <th>longitude</th>\n",
              "      <th>latitude</th>\n",
              "      <th>housing_median_age</th>\n",
              "      <th>total_rooms</th>\n",
              "      <th>total_bedrooms</th>\n",
              "      <th>population</th>\n",
              "      <th>households</th>\n",
              "      <th>median_income</th>\n",
              "      <th>median_house_value</th>\n",
              "    </tr>\n",
              "  </thead>\n",
              "  <tbody>\n",
              "    <tr>\n",
              "      <th>0</th>\n",
              "      <td>-122.05</td>\n",
              "      <td>37.37</td>\n",
              "      <td>27.0</td>\n",
              "      <td>3885.0</td>\n",
              "      <td>661.0</td>\n",
              "      <td>1537.0</td>\n",
              "      <td>606.0</td>\n",
              "      <td>6.6085</td>\n",
              "      <td>344700.0</td>\n",
              "    </tr>\n",
              "    <tr>\n",
              "      <th>1</th>\n",
              "      <td>-118.30</td>\n",
              "      <td>34.26</td>\n",
              "      <td>43.0</td>\n",
              "      <td>1510.0</td>\n",
              "      <td>310.0</td>\n",
              "      <td>809.0</td>\n",
              "      <td>277.0</td>\n",
              "      <td>3.5990</td>\n",
              "      <td>176500.0</td>\n",
              "    </tr>\n",
              "    <tr>\n",
              "      <th>2</th>\n",
              "      <td>-117.81</td>\n",
              "      <td>33.78</td>\n",
              "      <td>27.0</td>\n",
              "      <td>3589.0</td>\n",
              "      <td>507.0</td>\n",
              "      <td>1484.0</td>\n",
              "      <td>495.0</td>\n",
              "      <td>5.7934</td>\n",
              "      <td>270500.0</td>\n",
              "    </tr>\n",
              "    <tr>\n",
              "      <th>3</th>\n",
              "      <td>-118.36</td>\n",
              "      <td>33.82</td>\n",
              "      <td>28.0</td>\n",
              "      <td>67.0</td>\n",
              "      <td>15.0</td>\n",
              "      <td>49.0</td>\n",
              "      <td>11.0</td>\n",
              "      <td>6.1359</td>\n",
              "      <td>330000.0</td>\n",
              "    </tr>\n",
              "    <tr>\n",
              "      <th>4</th>\n",
              "      <td>-119.67</td>\n",
              "      <td>36.33</td>\n",
              "      <td>19.0</td>\n",
              "      <td>1241.0</td>\n",
              "      <td>244.0</td>\n",
              "      <td>850.0</td>\n",
              "      <td>237.0</td>\n",
              "      <td>2.9375</td>\n",
              "      <td>81700.0</td>\n",
              "    </tr>\n",
              "  </tbody>\n",
              "</table>\n",
              "</div>\n",
              "      <button class=\"colab-df-convert\" onclick=\"convertToInteractive('df-20c72882-7ed6-44b2-8c76-7afa5c24b30a')\"\n",
              "              title=\"Convert this dataframe to an interactive table.\"\n",
              "              style=\"display:none;\">\n",
              "        \n",
              "  <svg xmlns=\"http://www.w3.org/2000/svg\" height=\"24px\"viewBox=\"0 0 24 24\"\n",
              "       width=\"24px\">\n",
              "    <path d=\"M0 0h24v24H0V0z\" fill=\"none\"/>\n",
              "    <path d=\"M18.56 5.44l.94 2.06.94-2.06 2.06-.94-2.06-.94-.94-2.06-.94 2.06-2.06.94zm-11 1L8.5 8.5l.94-2.06 2.06-.94-2.06-.94L8.5 2.5l-.94 2.06-2.06.94zm10 10l.94 2.06.94-2.06 2.06-.94-2.06-.94-.94-2.06-.94 2.06-2.06.94z\"/><path d=\"M17.41 7.96l-1.37-1.37c-.4-.4-.92-.59-1.43-.59-.52 0-1.04.2-1.43.59L10.3 9.45l-7.72 7.72c-.78.78-.78 2.05 0 2.83L4 21.41c.39.39.9.59 1.41.59.51 0 1.02-.2 1.41-.59l7.78-7.78 2.81-2.81c.8-.78.8-2.07 0-2.86zM5.41 20L4 18.59l7.72-7.72 1.47 1.35L5.41 20z\"/>\n",
              "  </svg>\n",
              "      </button>\n",
              "      \n",
              "  <style>\n",
              "    .colab-df-container {\n",
              "      display:flex;\n",
              "      flex-wrap:wrap;\n",
              "      gap: 12px;\n",
              "    }\n",
              "\n",
              "    .colab-df-convert {\n",
              "      background-color: #E8F0FE;\n",
              "      border: none;\n",
              "      border-radius: 50%;\n",
              "      cursor: pointer;\n",
              "      display: none;\n",
              "      fill: #1967D2;\n",
              "      height: 32px;\n",
              "      padding: 0 0 0 0;\n",
              "      width: 32px;\n",
              "    }\n",
              "\n",
              "    .colab-df-convert:hover {\n",
              "      background-color: #E2EBFA;\n",
              "      box-shadow: 0px 1px 2px rgba(60, 64, 67, 0.3), 0px 1px 3px 1px rgba(60, 64, 67, 0.15);\n",
              "      fill: #174EA6;\n",
              "    }\n",
              "\n",
              "    [theme=dark] .colab-df-convert {\n",
              "      background-color: #3B4455;\n",
              "      fill: #D2E3FC;\n",
              "    }\n",
              "\n",
              "    [theme=dark] .colab-df-convert:hover {\n",
              "      background-color: #434B5C;\n",
              "      box-shadow: 0px 1px 3px 1px rgba(0, 0, 0, 0.15);\n",
              "      filter: drop-shadow(0px 1px 2px rgba(0, 0, 0, 0.3));\n",
              "      fill: #FFFFFF;\n",
              "    }\n",
              "  </style>\n",
              "\n",
              "      <script>\n",
              "        const buttonEl =\n",
              "          document.querySelector('#df-20c72882-7ed6-44b2-8c76-7afa5c24b30a button.colab-df-convert');\n",
              "        buttonEl.style.display =\n",
              "          google.colab.kernel.accessAllowed ? 'block' : 'none';\n",
              "\n",
              "        async function convertToInteractive(key) {\n",
              "          const element = document.querySelector('#df-20c72882-7ed6-44b2-8c76-7afa5c24b30a');\n",
              "          const dataTable =\n",
              "            await google.colab.kernel.invokeFunction('convertToInteractive',\n",
              "                                                     [key], {});\n",
              "          if (!dataTable) return;\n",
              "\n",
              "          const docLinkHtml = 'Like what you see? Visit the ' +\n",
              "            '<a target=\"_blank\" href=https://colab.research.google.com/notebooks/data_table.ipynb>data table notebook</a>'\n",
              "            + ' to learn more about interactive tables.';\n",
              "          element.innerHTML = '';\n",
              "          dataTable['output_type'] = 'display_data';\n",
              "          await google.colab.output.renderOutput(dataTable, element);\n",
              "          const docLink = document.createElement('div');\n",
              "          docLink.innerHTML = docLinkHtml;\n",
              "          element.appendChild(docLink);\n",
              "        }\n",
              "      </script>\n",
              "    </div>\n",
              "  </div>\n",
              "  "
            ]
          },
          "metadata": {},
          "execution_count": 114
        }
      ]
    },
    {
      "cell_type": "code",
      "source": [
        "sns.heatmap(df.corr(), annot = True, cmap = 'Greys')\n",
        "# 집의 방 수, 침대수, 인원수 상관관계 높다. \n",
        "# 중위소득과 집값의 상관관계가 높다."
      ],
      "metadata": {
        "colab": {
          "base_uri": "https://localhost:8080/",
          "height": 380
        },
        "id": "b-UXz6vXkPrw",
        "outputId": "b0faec8f-c3a7-4f63-9b47-ac23f2c241a1"
      },
      "execution_count": 115,
      "outputs": [
        {
          "output_type": "execute_result",
          "data": {
            "text/plain": [
              "<matplotlib.axes._subplots.AxesSubplot at 0x7fe7502dd710>"
            ]
          },
          "metadata": {},
          "execution_count": 115
        },
        {
          "output_type": "display_data",
          "data": {
            "text/plain": [
              "<Figure size 432x288 with 2 Axes>"
            ],
            "image/png": "[encoded data removed]"
          },
          "metadata": {
            "needs_background": "light"
          }
        }
      ]
    }
  ]
}