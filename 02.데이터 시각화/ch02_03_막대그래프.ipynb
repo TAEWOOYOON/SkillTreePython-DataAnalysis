{
  "nbformat": 4,
  "nbformat_minor": 0,
  "metadata": {
    "colab": {
      "name": "ch02_03_막대그래프.ipynb",
      "provenance": [],
      "collapsed_sections": [],
      "toc_visible": true
    },
    "kernelspec": {
      "name": "python3",
      "display_name": "Python 3"
    },
    "language_info": {
      "name": "python"
    }
  },
  "cells": [
    {
      "cell_type": "markdown",
      "source": [
        "# Ch02.03. 막대그래프\n",
        "\n",
        "---\n",
        "* 날짜: 2022.04.18\n",
        "* 이름: 윤태우\n",
        "\n",
        "```\n",
        "import numpy as np\n",
        "import pandas as pd\n",
        "import matplotlib.pyplot as plt\n",
        "import seaborn as sns\n",
        "\n",
        "plt.rcParams['figure.figsize'] = [6, 4]\n",
        "plt.style.use('seaborn-white')\n",
        "sns.set_style('white')\n",
        "```\n"
      ],
      "metadata": {
        "id": "ylXjSLUxXHxm"
      }
    },
    {
      "cell_type": "code",
      "execution_count": 1,
      "metadata": {
        "id": "TyVLPbux1Yu7"
      },
      "outputs": [],
      "source": [
        "import numpy as np\n",
        "import pandas as pd\n",
        "import matplotlib.pyplot as plt\n",
        "import seaborn as sns\n",
        "\n",
        "plt.rcParams['figure.figsize'] = [6, 4]\n",
        "plt.style.use('seaborn-white')\n",
        "sns.set_style('white')"
      ]
    },
    {
      "cell_type": "markdown",
      "source": [
        "\n",
        "## **개념정리**\n",
        "---\n",
        "\n",
        "\n"
      ],
      "metadata": {
        "id": "Ldw0qcLPfPTx"
      }
    },
    {
      "cell_type": "markdown",
      "source": [
        "### (1) Matplotlib 으로 그리기\n"
      ],
      "metadata": {
        "id": "xeLdvlaAfPTx"
      }
    },
    {
      "cell_type": "markdown",
      "source": [
        "#### **| 기본사용**\n",
        "\n",
        "```\n",
        "xs = ['Jan', 'Fab', 'Mar', 'Apr', 'May', 'Jun']\n",
        "nums = [35, 40, 35, 40, 55, 45]\n",
        "plt.bar(xs, nums)\n",
        "plt.show()\n",
        "```"
      ],
      "metadata": {
        "id": "etnS7PCoF-CE"
      }
    },
    {
      "cell_type": "code",
      "source": [
        "xs = ['Jan', 'Fab', 'Mar', 'Apr', 'May', 'Jun']\n",
        "nums = [35, 40, 35, 40, 55, 45]\n",
        "plt.plot(xs, nums)  # 플롯은 x값이 없어도 y값이 나올수 있음.\n",
        "plt.bar(xs, nums)   # 바는 x값이 반드시 있어야함.\n",
        "plt.show()"
      ],
      "metadata": {
        "id": "9VND05j315g8",
        "colab": {
          "base_uri": "https://localhost:8080/",
          "height": 262
        },
        "outputId": "8b29478e-5f90-4264-f727-ef650b95c7b7"
      },
      "execution_count": 5,
      "outputs": [
        {
          "output_type": "display_data",
          "data": {
            "text/plain": [
              "<Figure size 432x288 with 1 Axes>"
            ],
            "image/png": "[encoded data removed]"
          },
          "metadata": {
            "needs_background": "light"
          }
        }
      ]
    },
    {
      "cell_type": "markdown",
      "source": [
        "#### **| 옵션**\n",
        "\n",
        "```\n",
        "plt.bar(xs, nums, \n",
        "        color = '색깔'\n",
        "        edgecolor='테두리색'\n",
        "        width/ height=바의 너비/높이\n",
        "        linewidth=테두리두께\n",
        "        align=눈금위치('center'/'edge'), \n",
        "        tick_label=[])\n",
        "```"
      ],
      "metadata": {
        "id": "_tsJqPsZcSU3"
      }
    },
    {
      "cell_type": "code",
      "source": [
        "plt.bar(xs, nums, \n",
        "        color = 'blue',\n",
        "        edgecolor= 'k',\n",
        "        linewidth= 2,\n",
        "        alpha = 0.6)"
      ],
      "metadata": {
        "id": "PgrriT6kayt2",
        "colab": {
          "base_uri": "https://localhost:8080/",
          "height": 280
        },
        "outputId": "4f52c33d-763c-4408-da32-5741d291a245"
      },
      "execution_count": 18,
      "outputs": [
        {
          "output_type": "execute_result",
          "data": {
            "text/plain": [
              "<BarContainer object of 6 artists>"
            ]
          },
          "metadata": {},
          "execution_count": 18
        },
        {
          "output_type": "display_data",
          "data": {
            "text/plain": [
              "<Figure size 432x288 with 1 Axes>"
            ],
            "image/png": "[encoded data removed]"
          },
          "metadata": {
            "needs_background": "light"
          }
        }
      ]
    },
    {
      "cell_type": "markdown",
      "source": [
        "#### **| 수평 막대그래프**\n"
      ],
      "metadata": {
        "id": "k2kKU7ucc1Ev"
      }
    },
    {
      "cell_type": "markdown",
      "source": [
        "```\n",
        "plt.barh(xs, nums)\n",
        "```"
      ],
      "metadata": {
        "id": "mdudOY6cc1Ev"
      }
    },
    {
      "cell_type": "code",
      "source": [
        "plt.barh(xs, nums)"
      ],
      "metadata": {
        "id": "XbSAmW-cc1Ev",
        "colab": {
          "base_uri": "https://localhost:8080/",
          "height": 280
        },
        "outputId": "8e89a062-263c-4636-dcc4-6a672cca2ad7"
      },
      "execution_count": 19,
      "outputs": [
        {
          "output_type": "execute_result",
          "data": {
            "text/plain": [
              "<BarContainer object of 6 artists>"
            ]
          },
          "metadata": {},
          "execution_count": 19
        },
        {
          "output_type": "display_data",
          "data": {
            "text/plain": [
              "<Figure size 432x288 with 1 Axes>"
            ],
            "image/png": "[encoded data removed]"
          },
          "metadata": {
            "needs_background": "light"
          }
        }
      ]
    },
    {
      "cell_type": "markdown",
      "source": [
        "### (2) Seaborn 으로 그리기\n",
        "\n",
        "\n"
      ],
      "metadata": {
        "id": "ggjMd8im8gJx"
      }
    },
    {
      "cell_type": "markdown",
      "source": [
        "#### **| 기본사용**\n",
        "\n",
        "```\n",
        "sns.barplot(x=xs, y=nums)\n",
        "```"
      ],
      "metadata": {
        "id": "WCVykkIPXTmq"
      }
    },
    {
      "cell_type": "code",
      "source": [
        "sns.barplot(x=xs, y=nums)"
      ],
      "metadata": {
        "id": "caplckbRZt0Q",
        "colab": {
          "base_uri": "https://localhost:8080/",
          "height": 280
        },
        "outputId": "d93ab310-6518-40f7-da94-a22880312a0e"
      },
      "execution_count": 20,
      "outputs": [
        {
          "output_type": "execute_result",
          "data": {
            "text/plain": [
              "<matplotlib.axes._subplots.AxesSubplot at 0x7fa6e7285b50>"
            ]
          },
          "metadata": {},
          "execution_count": 20
        },
        {
          "output_type": "display_data",
          "data": {
            "text/plain": [
              "<Figure size 432x288 with 1 Axes>"
            ],
            "image/png": "[encoded data removed]"
          },
          "metadata": {
            "needs_background": "light"
          }
        }
      ]
    },
    {
      "cell_type": "markdown",
      "source": [
        "#### **| 옵션**\n",
        "\n",
        "```\n",
        "seaborn.barplot(x=None, y=None, \n",
        "                color=None, \n",
        "                palette=None, # 컬러맵\n",
        "                saturation=0.75, # 밝기\n",
        "                )\n",
        "```"
      ],
      "metadata": {
        "id": "kwbkAOvYI7kH"
      }
    },
    {
      "cell_type": "code",
      "source": [
        "sns.barplot(x=xs, y=nums)"
      ],
      "metadata": {
        "id": "HV1wyyrqI7kH",
        "colab": {
          "base_uri": "https://localhost:8080/",
          "height": 280
        },
        "outputId": "e20f3878-fcfd-4239-f1a2-4742386616ab"
      },
      "execution_count": 26,
      "outputs": [
        {
          "output_type": "execute_result",
          "data": {
            "text/plain": [
              "<matplotlib.axes._subplots.AxesSubplot at 0x7fa6e6ee8210>"
            ]
          },
          "metadata": {},
          "execution_count": 26
        },
        {
          "output_type": "display_data",
          "data": {
            "text/plain": [
              "<Figure size 432x288 with 1 Axes>"
            ],
            "image/png": "[encoded data removed]"
          },
          "metadata": {
            "needs_background": "light"
          }
        }
      ]
    },
    {
      "cell_type": "markdown",
      "source": [
        "#### **| 수평 막대그래프**\n"
      ],
      "metadata": {
        "id": "7RhgMjm3H17N"
      }
    },
    {
      "cell_type": "markdown",
      "source": [
        "```\n",
        "sns.barplot(x=nums, y=xs)\n",
        "```"
      ],
      "metadata": {
        "id": "KLPJpZ79H17O"
      }
    },
    {
      "cell_type": "code",
      "source": [
        "sns.barplot(x=nums, y=xs)"
      ],
      "metadata": {
        "id": "FxAMCcz2H17O",
        "colab": {
          "base_uri": "https://localhost:8080/",
          "height": 280
        },
        "outputId": "68dbc80f-2734-40d4-9df8-a469fd362c0e"
      },
      "execution_count": 27,
      "outputs": [
        {
          "output_type": "execute_result",
          "data": {
            "text/plain": [
              "<matplotlib.axes._subplots.AxesSubplot at 0x7fa6e6ed6250>"
            ]
          },
          "metadata": {},
          "execution_count": 27
        },
        {
          "output_type": "display_data",
          "data": {
            "text/plain": [
              "<Figure size 432x288 with 1 Axes>"
            ],
            "image/png": "[encoded data removed]"
          },
          "metadata": {
            "needs_background": "light"
          }
        }
      ]
    },
    {
      "cell_type": "markdown",
      "source": [
        "#### **| DataFrame 사용**\n",
        "\n"
      ],
      "metadata": {
        "id": "GCPmXaIIyLcr"
      }
    },
    {
      "cell_type": "markdown",
      "source": [
        "* 데이터 프레임을 만들어 줍니다.\n",
        "\n"
      ],
      "metadata": {
        "id": "3cKlgwTJOzBJ"
      }
    },
    {
      "cell_type": "code",
      "source": [
        "df = pd.DataFrame([xs,nums]).T\n",
        "df.columns=['Month', 'Count']\n",
        "df"
      ],
      "metadata": {
        "id": "so1ANfnzO4Jh",
        "colab": {
          "base_uri": "https://localhost:8080/",
          "height": 237
        },
        "outputId": "bb47a679-febd-4ebd-8d84-3c023880b632"
      },
      "execution_count": 30,
      "outputs": [
        {
          "output_type": "execute_result",
          "data": {
            "text/plain": [
              "  Month Count\n",
              "0   Jan    35\n",
              "1   Fab    40\n",
              "2   Mar    35\n",
              "3   Apr    40\n",
              "4   May    55\n",
              "5   Jun    45"
            ],
            "text/html": [
              "\n",
              "  <div id=\"df-7244b549-38cb-41e7-a2cd-42baaf5d7da8\">\n",
              "    <div class=\"colab-df-container\">\n",
              "      <div>\n",
              "<style scoped>\n",
              "    .dataframe tbody tr th:only-of-type {\n",
              "        vertical-align: middle;\n",
              "    }\n",
              "\n",
              "    .dataframe tbody tr th {\n",
              "        vertical-align: top;\n",
              "    }\n",
              "\n",
              "    .dataframe thead th {\n",
              "        text-align: right;\n",
              "    }\n",
              "</style>\n",
              "<table border=\"1\" class=\"dataframe\">\n",
              "  <thead>\n",
              "    <tr style=\"text-align: right;\">\n",
              "      <th></th>\n",
              "      <th>Month</th>\n",
              "      <th>Count</th>\n",
              "    </tr>\n",
              "  </thead>\n",
              "  <tbody>\n",
              "    <tr>\n",
              "      <th>0</th>\n",
              "      <td>Jan</td>\n",
              "      <td>35</td>\n",
              "    </tr>\n",
              "    <tr>\n",
              "      <th>1</th>\n",
              "      <td>Fab</td>\n",
              "      <td>40</td>\n",
              "    </tr>\n",
              "    <tr>\n",
              "      <th>2</th>\n",
              "      <td>Mar</td>\n",
              "      <td>35</td>\n",
              "    </tr>\n",
              "    <tr>\n",
              "      <th>3</th>\n",
              "      <td>Apr</td>\n",
              "      <td>40</td>\n",
              "    </tr>\n",
              "    <tr>\n",
              "      <th>4</th>\n",
              "      <td>May</td>\n",
              "      <td>55</td>\n",
              "    </tr>\n",
              "    <tr>\n",
              "      <th>5</th>\n",
              "      <td>Jun</td>\n",
              "      <td>45</td>\n",
              "    </tr>\n",
              "  </tbody>\n",
              "</table>\n",
              "</div>\n",
              "      <button class=\"colab-df-convert\" onclick=\"convertToInteractive('df-7244b549-38cb-41e7-a2cd-42baaf5d7da8')\"\n",
              "              title=\"Convert this dataframe to an interactive table.\"\n",
              "              style=\"display:none;\">\n",
              "        \n",
              "  <svg xmlns=\"http://www.w3.org/2000/svg\" height=\"24px\"viewBox=\"0 0 24 24\"\n",
              "       width=\"24px\">\n",
              "    <path d=\"M0 0h24v24H0V0z\" fill=\"none\"/>\n",
              "    <path d=\"M18.56 5.44l.94 2.06.94-2.06 2.06-.94-2.06-.94-.94-2.06-.94 2.06-2.06.94zm-11 1L8.5 8.5l.94-2.06 2.06-.94-2.06-.94L8.5 2.5l-.94 2.06-2.06.94zm10 10l.94 2.06.94-2.06 2.06-.94-2.06-.94-.94-2.06-.94 2.06-2.06.94z\"/><path d=\"M17.41 7.96l-1.37-1.37c-.4-.4-.92-.59-1.43-.59-.52 0-1.04.2-1.43.59L10.3 9.45l-7.72 7.72c-.78.78-.78 2.05 0 2.83L4 21.41c.39.39.9.59 1.41.59.51 0 1.02-.2 1.41-.59l7.78-7.78 2.81-2.81c.8-.78.8-2.07 0-2.86zM5.41 20L4 18.59l7.72-7.72 1.47 1.35L5.41 20z\"/>\n",
              "  </svg>\n",
              "      </button>\n",
              "      \n",
              "  <style>\n",
              "    .colab-df-container {\n",
              "      display:flex;\n",
              "      flex-wrap:wrap;\n",
              "      gap: 12px;\n",
              "    }\n",
              "\n",
              "    .colab-df-convert {\n",
              "      background-color: #E8F0FE;\n",
              "      border: none;\n",
              "      border-radius: 50%;\n",
              "      cursor: pointer;\n",
              "      display: none;\n",
              "      fill: #1967D2;\n",
              "      height: 32px;\n",
              "      padding: 0 0 0 0;\n",
              "      width: 32px;\n",
              "    }\n",
              "\n",
              "    .colab-df-convert:hover {\n",
              "      background-color: #E2EBFA;\n",
              "      box-shadow: 0px 1px 2px rgba(60, 64, 67, 0.3), 0px 1px 3px 1px rgba(60, 64, 67, 0.15);\n",
              "      fill: #174EA6;\n",
              "    }\n",
              "\n",
              "    [theme=dark] .colab-df-convert {\n",
              "      background-color: #3B4455;\n",
              "      fill: #D2E3FC;\n",
              "    }\n",
              "\n",
              "    [theme=dark] .colab-df-convert:hover {\n",
              "      background-color: #434B5C;\n",
              "      box-shadow: 0px 1px 3px 1px rgba(0, 0, 0, 0.15);\n",
              "      filter: drop-shadow(0px 1px 2px rgba(0, 0, 0, 0.3));\n",
              "      fill: #FFFFFF;\n",
              "    }\n",
              "  </style>\n",
              "\n",
              "      <script>\n",
              "        const buttonEl =\n",
              "          document.querySelector('#df-7244b549-38cb-41e7-a2cd-42baaf5d7da8 button.colab-df-convert');\n",
              "        buttonEl.style.display =\n",
              "          google.colab.kernel.accessAllowed ? 'block' : 'none';\n",
              "\n",
              "        async function convertToInteractive(key) {\n",
              "          const element = document.querySelector('#df-7244b549-38cb-41e7-a2cd-42baaf5d7da8');\n",
              "          const dataTable =\n",
              "            await google.colab.kernel.invokeFunction('convertToInteractive',\n",
              "                                                     [key], {});\n",
              "          if (!dataTable) return;\n",
              "\n",
              "          const docLinkHtml = 'Like what you see? Visit the ' +\n",
              "            '<a target=\"_blank\" href=https://colab.research.google.com/notebooks/data_table.ipynb>data table notebook</a>'\n",
              "            + ' to learn more about interactive tables.';\n",
              "          element.innerHTML = '';\n",
              "          dataTable['output_type'] = 'display_data';\n",
              "          await google.colab.output.renderOutput(dataTable, element);\n",
              "          const docLink = document.createElement('div');\n",
              "          docLink.innerHTML = docLinkHtml;\n",
              "          element.appendChild(docLink);\n",
              "        }\n",
              "      </script>\n",
              "    </div>\n",
              "  </div>\n",
              "  "
            ]
          },
          "metadata": {},
          "execution_count": 30
        }
      ]
    },
    {
      "cell_type": "markdown",
      "source": [
        "* 데이터프레임에서 기본적으로 플롯을 제공합니다.\n",
        "\n",
        "\n",
        "```\n",
        "df.plot.bar(x=x,y=y)\n",
        "```\n",
        "\n",
        "\n"
      ],
      "metadata": {
        "id": "j5x-0qTTgqK2"
      }
    },
    {
      "cell_type": "code",
      "source": [
        "df.plot.bar(x='Month',y='Count')  # x 값에 x = '컬럼명', y값에 y='컬럼명'"
      ],
      "metadata": {
        "id": "v4RUwYz5yPRs",
        "colab": {
          "base_uri": "https://localhost:8080/",
          "height": 305
        },
        "outputId": "856a4532-737c-4034-99b8-fc45a16170d6"
      },
      "execution_count": 33,
      "outputs": [
        {
          "output_type": "execute_result",
          "data": {
            "text/plain": [
              "<matplotlib.axes._subplots.AxesSubplot at 0x7fa6e6cf8590>"
            ]
          },
          "metadata": {},
          "execution_count": 33
        },
        {
          "output_type": "display_data",
          "data": {
            "text/plain": [
              "<Figure size 432x288 with 1 Axes>"
            ],
            "image/png": "[encoded data removed]"
          },
          "metadata": {
            "needs_background": "light"
          }
        }
      ]
    },
    {
      "cell_type": "markdown",
      "source": [
        "* 데이터프레임 기반으로 seaborn을 사용합니다.\n",
        "\n",
        "\n",
        "```\n",
        "sns.barplot(data=df,x=x, y=y)\n",
        "```\n"
      ],
      "metadata": {
        "id": "ycx-4x4Ag94u"
      }
    },
    {
      "cell_type": "code",
      "source": [
        "sns.barplot(data=df, x = 'Month', y = 'Count')"
      ],
      "metadata": {
        "id": "B8MgiEHyyjUt",
        "colab": {
          "base_uri": "https://localhost:8080/",
          "height": 295
        },
        "outputId": "deb3e066-b953-4989-b9cd-217cef9f8605"
      },
      "execution_count": 35,
      "outputs": [
        {
          "output_type": "execute_result",
          "data": {
            "text/plain": [
              "<matplotlib.axes._subplots.AxesSubplot at 0x7fa6e6f85f10>"
            ]
          },
          "metadata": {},
          "execution_count": 35
        },
        {
          "output_type": "display_data",
          "data": {
            "text/plain": [
              "<Figure size 432x288 with 1 Axes>"
            ],
            "image/png": "[encoded data removed]"
          },
          "metadata": {
            "needs_background": "light"
          }
        }
      ]
    },
    {
      "cell_type": "markdown",
      "source": [
        "\n",
        "## **실습**\n",
        "\n",
        "\n",
        "---\n",
        "\n",
        "\n"
      ],
      "metadata": {
        "id": "9BldG-nOgeoQ"
      }
    },
    {
      "cell_type": "markdown",
      "source": [
        "### (1) 과일 데이터 시각화\n",
        "\n",
        "\n",
        "```\n",
        "np.random.seed(42)\n",
        "fruits=['apple', 'banana','orange']\n",
        "fresh = np.random.randint(1,10,3)\n",
        "qual = np.random.randint(1,10,3)\n",
        "price = np.random.randint(1000,1500,3)\n",
        "sale = np.random.randint(700,1200,3)\n",
        "```"
      ],
      "metadata": {
        "id": "Sm_irK939Amm"
      }
    },
    {
      "cell_type": "code",
      "source": [
        "np.random.seed(42)\n",
        "fruits=['apple', 'banana','orange']\n",
        "fresh = np.random.randint(1,10,3)\n",
        "qual = np.random.randint(1,10,3)\n",
        "price = np.random.randint(1000,1500,3)\n",
        "sale = np.random.randint(700,1200,3)\n",
        "fresh,qual,price,sale"
      ],
      "metadata": {
        "id": "GHa1oGTdZuvO",
        "colab": {
          "base_uri": "https://localhost:8080/"
        },
        "outputId": "2d241328-3383-4d0b-8783-f4ec6e77fd70"
      },
      "execution_count": 37,
      "outputs": [
        {
          "output_type": "execute_result",
          "data": {
            "text/plain": [
              "(array([7, 4, 8]),\n",
              " array([5, 7, 3]),\n",
              " array([1214, 1330, 1458]),\n",
              " array([ 787, 1072,  799]))"
            ]
          },
          "metadata": {},
          "execution_count": 37
        }
      ]
    },
    {
      "cell_type": "markdown",
      "source": [
        "### (2) **kwargs 이용한 옵션적용\n",
        "\n",
        "\n"
      ],
      "metadata": {
        "id": "rRP4A2x7UfBH"
      }
    },
    {
      "cell_type": "code",
      "source": [
        "idx = np.arange(3) # 0,1,2\n",
        "width = 0.2\n",
        "\n",
        "plt.subplot(2,1,1)\n",
        "plt.bar(idx,fresh, label = 'fresh', width = width, \n",
        "        alpha = 0.5, linewidth = 3, edgecolor = 'g', color = 'g')\n",
        "plt.bar(idx+width,qual, label = 'quality', width=width)\n",
        "plt.xticks(idx+width/2, fruits) # ()눈금의 위치, 위치에 적을 값\n",
        "plt.tick_params('x', labelbottom = False)\n",
        "plt.legend(loc = (1,1))\n",
        "\n",
        "plt.subplot(2,1,2)\n",
        "plt.bar(idx, price, label = 'price', width = width, color = 'blue')\n",
        "plt.bar(idx+width, sale, label = 'sale', width = width, color = 'red')\n",
        "plt.xticks(idx+width/2, fruits)\n",
        "plt.legend(loc = (1,1))\n",
        "plt.show()"
      ],
      "metadata": {
        "id": "ibAFGPka4OAF",
        "colab": {
          "base_uri": "https://localhost:8080/",
          "height": 295
        },
        "outputId": "41cedba7-d78e-40ad-fb6c-e7ede85d0509"
      },
      "execution_count": 160,
      "outputs": [
        {
          "output_type": "display_data",
          "data": {
            "text/plain": [
              "<Figure size 432x288 with 2 Axes>"
            ],
            "image/png": "[encoded data removed]"
          },
          "metadata": {
            "needs_background": "light"
          }
        }
      ]
    },
    {
      "cell_type": "code",
      "source": [
        "plt.figure(figsize=(4,2))\n",
        "\n",
        "style = dict(width = width, alpha = 0.5, linewidth = 3, edgecolor = 'k')"
      ],
      "metadata": {
        "colab": {
          "base_uri": "https://localhost:8080/",
          "height": 35
        },
        "id": "gocTTq_vKYKL",
        "outputId": "b4106010-55e1-4d0e-c940-7c06c295c4c8"
      },
      "execution_count": 104,
      "outputs": [
        {
          "output_type": "display_data",
          "data": {
            "text/plain": [
              "<Figure size 288x144 with 0 Axes>"
            ]
          },
          "metadata": {}
        }
      ]
    },
    {
      "cell_type": "code",
      "source": [
        "idx = np.arange(3) # 0,1,2\n",
        "width = 0.2\n",
        "\n",
        "plt.subplot(2,1,1)\n",
        "plt.bar(idx,fresh, label = 'fresh', **style)\n",
        "plt.bar(idx+width,qual, label = 'quality', **style)\n",
        "plt.xticks(idx+width/2, fruits) # ()눈금의 위치, 위치에 적을 값\n",
        "plt.tick_params('x', labelbottom = False)\n",
        "plt.legend(loc = (1,1))\n",
        "\n",
        "plt.subplot(2,1,2)\n",
        "plt.bar(idx, price, label = 'price', **style)\n",
        "plt.bar(idx+width, sale, label = 'sale', **style)\n",
        "plt.xticks(idx+width/2, fruits)\n",
        "plt.legend(loc = (1,1))\n",
        "plt.show()"
      ],
      "metadata": {
        "colab": {
          "base_uri": "https://localhost:8080/",
          "height": 295
        },
        "id": "1muANbcINUt-",
        "outputId": "3123dd7a-43a6-4240-ef62-308eda48c63a"
      },
      "execution_count": 105,
      "outputs": [
        {
          "output_type": "display_data",
          "data": {
            "text/plain": [
              "<Figure size 432x288 with 2 Axes>"
            ],
            "image/png": "[encoded data removed]"
          },
          "metadata": {
            "needs_background": "light"
          }
        }
      ]
    },
    {
      "cell_type": "markdown",
      "source": [
        "\n",
        "## 과제\n"
      ],
      "metadata": {
        "id": "dWjmJj6NgznX"
      }
    },
    {
      "cell_type": "markdown",
      "source": [
        "### (1) 막대그래프를 이용한 flight 데이터 시각화\n",
        "\n",
        "```\n",
        "df=sns.load_dataset('flights')\n",
        "```\n",
        "\n",
        " `seaborn`의 `load_dataset`을 이용해 `flights` 데이터를 불러온 후 아래와 같은 플롯을 그리세요.\n",
        "\n",
        "![](https://github.com/yebiny/SkillTreePython-DataAnalysis/blob/main/imgs/ch0203-01.png?raw=true)\n",
        "\n",
        "\n",
        "\n"
      ],
      "metadata": {
        "id": "zYnrjxbfDyAt"
      }
    },
    {
      "cell_type": "code",
      "source": [
        "df = sns.load_dataset('flights')"
      ],
      "metadata": {
        "id": "aTj8nudQrJej"
      },
      "execution_count": 116,
      "outputs": []
    },
    {
      "cell_type": "code",
      "source": [
        "plt.figure(figsize = (12,6))\n",
        "\n",
        "mask1 = df['year'] == 1950\n",
        "df1950 = df[mask1]\n",
        "\n",
        "mask2 = df['year'] == 1955\n",
        "df1955 = df[mask2]\n",
        "\n",
        "mask3 = df['year'] == 1960\n",
        "df1960 = df[mask3]\n",
        "\n",
        "mask4 = df['year'].isin([1950, 1955, 1960])\n",
        "df_mean = df[mask4].groupby('month')\n",
        "df_mean = df_mean.mean()\n",
        "\n",
        "idx = np.arange(0,47,4)\n",
        "\n",
        "plt.bar(idx, df1950['passengers'], width = 1, label = '1950')\n",
        "plt.bar(idx+1, df1955['passengers'], width = 1, label = '1955')\n",
        "plt.bar(idx+2, df1960['passengers'], width = 1, label = '1960')\n",
        "plt.plot(idx+1, df_mean['passengers'],marker = 'o', markerfacecolor = 'r', linewidth = 2, color = 'black', markersize = 6, label = 'mean of each year(1950,1955,1960)')\n",
        "plt.legend(loc = 'upper left')\n",
        "plt.xticks(idx+1, df1950['month'])\n",
        "plt.tick_params(axis = 'x', width = 10)"
      ],
      "metadata": {
        "id": "NWL8pIMps5s0",
        "colab": {
          "base_uri": "https://localhost:8080/",
          "height": 371
        },
        "outputId": "0e5cfb9a-12a8-4bff-80a4-35a8cefe72f8"
      },
      "execution_count": 226,
      "outputs": [
        {
          "output_type": "display_data",
          "data": {
            "text/plain": [
              "<Figure size 864x432 with 1 Axes>"
            ],
            "image/png": "[encoded data removed]"
          },
          "metadata": {
            "needs_background": "light"
          }
        }
      ]
    }
  ]
}