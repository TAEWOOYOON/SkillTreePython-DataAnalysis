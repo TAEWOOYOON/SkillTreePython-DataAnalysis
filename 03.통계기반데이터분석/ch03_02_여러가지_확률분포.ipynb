{
  "nbformat": 4,
  "nbformat_minor": 0,
  "metadata": {
    "colab": {
      "name": "ch03_02_여러가지_확률분포.ipynb",
      "provenance": [],
      "collapsed_sections": [],
      "toc_visible": true
    },
    "kernelspec": {
      "name": "python3",
      "display_name": "Python 3"
    },
    "language_info": {
      "name": "python"
    }
  },
  "cells": [
    {
      "cell_type": "markdown",
      "metadata": {
        "id": "view-in-github"
      },
      "source": [
        "<a href=\"https://colab.research.google.com/github/yebiny/SkillTreePython-DataAnalysis/blob/main/03.%ED%86%B5%EA%B3%84%EA%B8%B0%EB%B0%98%EB%8D%B0%EC%9D%B4%ED%84%B0%EB%B6%84%EC%84%9D/ch03_02_%EC%97%AC%EB%9F%AC%EA%B0%80%EC%A7%80_%ED%99%95%EB%A5%A0%EB%B6%84%ED%8F%AC.ipynb\" target=\"_parent\"><img src=\"https://colab.research.google.com/assets/colab-badge.svg\" alt=\"Open In Colab\"/></a>"
      ]
    },
    {
      "cell_type": "markdown",
      "source": [
        "# ch03.02. 여러가지 확률 분포\n",
        "---\n",
        "* 날짜: 2022.05.04\n",
        "* 이름: 윤태우\n",
        "\n",
        "## 학습내용\n",
        "    * 연속형 확률변수 -> 확률 밀도 함수 -> 연속형 확률 분포\n",
        "      - 균등 분포\n",
        "      - 정규 분포\n",
        "      - 지수 분포\n",
        "      - 감마 분포\n",
        "      - 베타 분포\n",
        "      - 카이제곱 분포\n",
        "    * 이산형 확률변수 -> 확률 질량 함수 -> 이산형 확률 분포\n",
        "      - 베르누이 분포\n",
        "      - 이항분포\n",
        "      - 카테고리 확률 분포\n",
        "      - 포아송 분포\n",
        "      - 기하 분포\n",
        "      - 음이항 분포\n",
        "      - 초기하 분포\n"
      ],
      "metadata": {
        "id": "wWpXZc2fi39U"
      }
    },
    {
      "cell_type": "code",
      "source": [
        "import numpy as np\n",
        "import matplotlib.pyplot as plt\n",
        "import pandas as pd\n",
        "import scipy as sp # 사이파이 -> 데이터 사이언스에 필요한 함수들 포함한 라이브러리\n",
        "from scipy.stats import *  # * = 모든것을 임포트 하겠다는 뜻 \n",
        "import warnings\n",
        "warnings.filterwarnings('ignore')"
      ],
      "metadata": {
        "id": "uYLRSgCqw4YZ"
      },
      "execution_count": 1,
      "outputs": []
    },
    {
      "cell_type": "markdown",
      "source": [
        "## 연속형 확률 분포\n",
        "---\n",
        "\n"
      ],
      "metadata": {
        "id": "i76b_rugaaQh"
      }
    },
    {
      "cell_type": "markdown",
      "source": [
        "### **| 정규분포**\n",
        "\n",
        "\\begin{align}   \\mu = 뮤, 모수(파라미터) \\sigma = 시그마, 모수(파라미터)\n",
        "\\mathcal{N}(x; \\mu, \\sigma^2) = \\dfrac{1}{\\sqrt{2\\pi\\sigma^2}} \\exp \\left(-\\dfrac{(x-\\mu)^2}{2\\sigma^2}\\right)\n",
        "\\end{align}\n",
        "\n",
        "```\n",
        "sp.stats.norm(mu, std)\n",
        "```"
      ],
      "metadata": {
        "id": "1-OKBt9jah1A"
      }
    },
    {
      "cell_type": "code",
      "source": [
        "mu, std = 0, 1 # 표준 정규분포\n",
        "\n",
        "norm = sp.stats.norm(mu, std)    # 확률 함수\n"
      ],
      "metadata": {
        "id": "O_8p6vLnan54"
      },
      "execution_count": 2,
      "outputs": []
    },
    {
      "cell_type": "markdown",
      "source": [
        "* 확률 분포\n"
      ],
      "metadata": {
        "id": "K1g-lUcoav1y"
      }
    },
    {
      "cell_type": "code",
      "source": [
        "X = np.linspace(-5,5,10) # -5부터 5까지 100개\n",
        "P_X = norm.pdf(X) # 밀도함수\n",
        "print(P_X)"
      ],
      "metadata": {
        "id": "if7zfSErayZP",
        "colab": {
          "base_uri": "https://localhost:8080/"
        },
        "outputId": "405d20be-0361-4a34-fee7-9ab103788efb"
      },
      "execution_count": 3,
      "outputs": [
        {
          "output_type": "stream",
          "name": "stdout",
          "text": [
            "[1.48671951e-06 2.07440309e-04 8.42153448e-03 9.94771388e-02\n",
            " 3.41892294e-01 3.41892294e-01 9.94771388e-02 8.42153448e-03\n",
            " 2.07440309e-04 1.48671951e-06]\n"
          ]
        }
      ]
    },
    {
      "cell_type": "markdown",
      "source": [
        "* 누적 확률 분포\n"
      ],
      "metadata": {
        "id": "GXf2Mnfie-1t"
      }
    },
    {
      "cell_type": "code",
      "source": [
        "F_X = norm.cdf(X)\n",
        "print(F_X)"
      ],
      "metadata": {
        "id": "3XzNesNhe-1z",
        "colab": {
          "base_uri": "https://localhost:8080/"
        },
        "outputId": "cf2ec12c-e0d1-4b39-a437-ee5db643ebc6"
      },
      "execution_count": 4,
      "outputs": [
        {
          "output_type": "stream",
          "name": "stdout",
          "text": [
            "[2.86651572e-07 5.03521029e-05 2.73660179e-03 4.77903523e-02\n",
            " 2.89257361e-01 7.10742639e-01 9.52209648e-01 9.97263398e-01\n",
            " 9.99949648e-01 9.99999713e-01]\n"
          ]
        }
      ]
    },
    {
      "cell_type": "markdown",
      "source": [
        "* 표본 추출\n",
        "\n"
      ],
      "metadata": {
        "id": "yqKfsYtznOxw"
      }
    },
    {
      "cell_type": "code",
      "source": [
        "rvs = norm.rvs(1000, random_state = 0)\n",
        "_ = plt.hist(rvs)"
      ],
      "metadata": {
        "id": "qCNrdRXEnOxw",
        "colab": {
          "base_uri": "https://localhost:8080/",
          "height": 269
        },
        "outputId": "a4dc3817-2741-4f2d-826a-61b6890abd5a"
      },
      "execution_count": 5,
      "outputs": [
        {
          "output_type": "display_data",
          "data": {
            "text/plain": [
              "<Figure size 432x288 with 1 Axes>"
            ],
            "image/png": "[encoded data removed]"
          },
          "metadata": {
            "needs_background": "light"
          }
        }
      ]
    },
    {
      "cell_type": "markdown",
      "source": [
        "#### **예제 01. 파라미터 변경-평균**\n",
        "\n",
        "* 표준편차 `1`, 평균이 각각 `0.5, 1, 2, 4`인 확률분포와 확률누적분포를 그리세요."
      ],
      "metadata": {
        "id": "rKj9hDWacrgX"
      }
    },
    {
      "cell_type": "code",
      "source": [
        "mus = [0.5, 1, 2, 4]\n",
        "std = 1\n",
        "X = np.linspace(-5,5,100)\n",
        "\n",
        "fig, axes = plt.subplots(1,2,figsize=(10,5))\n",
        "axes = axes.flatten()\n",
        "\n",
        "for mu in mus :\n",
        "  norm =sp.stats.norm(mu, std)\n",
        "  P_X = norm.pdf(X) # 확률 밀도 함수\n",
        "  F_X = norm.cdf(X) # 누적 확률 함수\n",
        "\n",
        "\n",
        "  axes[0].plot(X, P_X)  # X에 대한 확률 값 그래프\n",
        "  axes[1].plot(X, F_X)  # X에 대한 누적 값 그래프\n",
        "  axes[0].set_xlim(-5,8) # x 범위조절\n",
        "  axes[1].set_xlim(-5,8) # x 범위조절\n",
        "axes[0].legend(mus) # 라벨\n",
        "axes[1].legend(mus)"
      ],
      "metadata": {
        "id": "XbHcwBmscrgX",
        "colab": {
          "base_uri": "https://localhost:8080/",
          "height": 338
        },
        "outputId": "aaf2d89b-74a2-4348-ad76-bb4e42302c0a"
      },
      "execution_count": 6,
      "outputs": [
        {
          "output_type": "execute_result",
          "data": {
            "text/plain": [
              "<matplotlib.legend.Legend at 0x7f684a275890>"
            ]
          },
          "metadata": {},
          "execution_count": 6
        },
        {
          "output_type": "display_data",
          "data": {
            "text/plain": [
              "<Figure size 720x360 with 2 Axes>"
            ],
            "image/png": "[encoded data removed]"
          },
          "metadata": {
            "needs_background": "light"
          }
        }
      ]
    },
    {
      "cell_type": "markdown",
      "source": [
        "#### **예제 02. 파라미터 변경-표준편차**\n",
        "\n",
        "* 평균 `0`, 표준편차가 각각 `0.5, 1, 2, 4`인 확률분포와 확률누적분포를 그리세요."
      ],
      "metadata": {
        "id": "68PJGdS4bhKx"
      }
    },
    {
      "cell_type": "code",
      "source": [
        "mus = 0\n",
        "stds = [0.5, 1, 2, 4]\n",
        "X = np.linspace(-5,10,100)\n",
        "\n",
        "fig, axes = plt.subplots(1,2,figsize=(10,5))\n",
        "axes = axes.flatten()\n",
        "\n",
        "for std in stds :\n",
        "  norm = sp.stats.norm(mu, std)\n",
        "  P_X = norm.pdf(X) # 확률 밀도 함수\n",
        "  F_X = norm.cdf(X) # 누적 확률 함수\n",
        "\n",
        "\n",
        "  axes[0].plot(X, P_X)  # X에 대한 확률 값 그래프\n",
        "  axes[1].plot(X, F_X)  # X에 대한 누적 값 그래프\n",
        "  axes[0].set_xlim(-5,8) # x 범위조절\n",
        "  axes[1].set_xlim(-5,8) # x 범위조절\n",
        "axes[0].legend(stds) # 라벨\n",
        "axes[1].legend(stds)"
      ],
      "metadata": {
        "id": "ar0jleVqaquI",
        "colab": {
          "base_uri": "https://localhost:8080/",
          "height": 338
        },
        "outputId": "bb50de09-6a31-41f3-b66a-ecfd8ae58b67"
      },
      "execution_count": 7,
      "outputs": [
        {
          "output_type": "execute_result",
          "data": {
            "text/plain": [
              "<matplotlib.legend.Legend at 0x7f684a72f6d0>"
            ]
          },
          "metadata": {},
          "execution_count": 7
        },
        {
          "output_type": "display_data",
          "data": {
            "text/plain": [
              "<Figure size 720x360 with 2 Axes>"
            ],
            "image/png": "[encoded data removed]"
          },
          "metadata": {
            "needs_background": "light"
          }
        }
      ]
    },
    {
      "cell_type": "markdown",
      "source": [
        "#### **예제 03. 손의 길이**\n",
        "\n",
        "성인 손의 길이의 평균은 15.2cm 이고 표준편차는 2.5cm를 따른다고 합니다. 1000명을 표본으로 뽑고 히스토 그램을 그리세요."
      ],
      "metadata": {
        "id": "IM5omP40m7QE"
      }
    },
    {
      "cell_type": "code",
      "source": [
        "mu, std = 15.2, 2.5\n",
        "norm = sp.stats.norm(mu, std)\n",
        "rvs = norm.rvs(1000)\n",
        "\n",
        "_ = plt.hist(rvs)"
      ],
      "metadata": {
        "id": "Ogc5cyhtnIuA",
        "colab": {
          "base_uri": "https://localhost:8080/",
          "height": 265
        },
        "outputId": "8e314b80-478b-40d5-a63c-e1546afae0a4"
      },
      "execution_count": 8,
      "outputs": [
        {
          "output_type": "display_data",
          "data": {
            "text/plain": [
              "<Figure size 432x288 with 1 Axes>"
            ],
            "image/png": "[encoded data removed]"
          },
          "metadata": {
            "needs_background": "light"
          }
        }
      ]
    },
    {
      "cell_type": "markdown",
      "source": [
        "### **| 지수 분포**\n",
        "\n",
        "\\begin{cases}\\lambda e^{-\\lambda x}&x\\geq 0\\\\0&x<0\\end{cases}\n",
        "**λ는 빈도를 나타내는 모수**\n",
        "\n",
        "---\n",
        "\n"
      ],
      "metadata": {
        "id": "uPLNgCcjAfGG"
      }
    },
    {
      "cell_type": "code",
      "source": [
        "# lamnda 값 설정 (5일에 4번 커피를 한번 먹는 민수)\n",
        "# 하루동안 커피를 먹을 확률 : 4/5\n",
        "# 한달 동안이면 4/5*30\n",
        "lam = 0.8*30\n",
        "X = np.linspace(0, 1, 30)\n",
        "\n",
        "def f(x) :\n",
        "  if x >= 0 :\n",
        "    return lam * np.exp(-lam*x)\n",
        "  else :\n",
        "    return 0\n",
        "\n",
        "P = list(map(f,X))\n",
        "F_P = np.cumsum(P)\n",
        "\n",
        "plt.plot(P, color = 'green')\n",
        "plt.plot(F_P, color = 'blue')\n",
        "plt.grid()\n",
        "plt.show()\n"
      ],
      "metadata": {
        "colab": {
          "base_uri": "https://localhost:8080/",
          "height": 265
        },
        "id": "vKn6p5F1CMKL",
        "outputId": "9ddbd8a0-dea5-4b88-9e13-b9dca9896562"
      },
      "execution_count": 9,
      "outputs": [
        {
          "output_type": "display_data",
          "data": {
            "text/plain": [
              "<Figure size 432x288 with 1 Axes>"
            ],
            "image/png": "[encoded data removed]"
          },
          "metadata": {
            "needs_background": "light"
          }
        }
      ]
    },
    {
      "cell_type": "markdown",
      "source": [
        "### **| 카이제곱 분포**\n",
        "\n",
        "\\begin{align}\n",
        "\\chi^2(x; \\nu) = \\frac{x^{(\\nu/2-1)} e^{-x/2}}{2^{\\nu/2} \\Gamma\\left(\\frac{\\nu}{2}\\right)}\n",
        "\\end{align}\n",
        "\n",
        "```\n",
        "sp.stats.chi2(df=df)\n",
        "```"
      ],
      "metadata": {
        "id": "3-ZZ9iGbgpQN"
      }
    },
    {
      "cell_type": "code",
      "source": [
        "df = 2  # k개의 서로 독립적인 표준정규 확률변수를 각각 제곱한 다음 합해서 얻어지는 분포이다. 이 때 k를 자유도라고 하며, 카이제곱 분포의 매개변수가 된다.\n",
        "X = np.linspace(0,20,201)\n",
        "Y = sp.stats.chi2(df).pdf(X)"
      ],
      "metadata": {
        "id": "RU7CmupYgpQN"
      },
      "execution_count": 10,
      "outputs": []
    },
    {
      "cell_type": "markdown",
      "source": [
        "* 확률 분포\n"
      ],
      "metadata": {
        "id": "PCozJCXVgpQN"
      }
    },
    {
      "cell_type": "code",
      "source": [
        "plt.plot(X,Y)\n",
        "plt.xlabel('X')\n",
        "plt.ylabel('P(X)')\n",
        "plt.title(f'$\\chi^2$ Distribution (df = {df})')\n",
        "plt.grid()\n",
        "plt.show()"
      ],
      "metadata": {
        "id": "s3y8Xi8ugpQN",
        "colab": {
          "base_uri": "https://localhost:8080/",
          "height": 299
        },
        "outputId": "d581016d-c559-43b8-ea5d-ceca1f2b10db"
      },
      "execution_count": 11,
      "outputs": [
        {
          "output_type": "display_data",
          "data": {
            "text/plain": [
              "<Figure size 432x288 with 1 Axes>"
            ],
            "image/png": "[encoded data removed]"
          },
          "metadata": {
            "needs_background": "light"
          }
        }
      ]
    },
    {
      "cell_type": "markdown",
      "source": [
        "* 누적 확률 분포\n"
      ],
      "metadata": {
        "id": "Q2KLFkCkgpQO"
      }
    },
    {
      "cell_type": "code",
      "source": [
        "Y = sp.stats.chi2(df).cdf(X)\n",
        "plt.plot(X,Y)\n",
        "plt.grid()\n",
        "plt.show()"
      ],
      "metadata": {
        "id": "Ga1U8gwjgpQO",
        "colab": {
          "base_uri": "https://localhost:8080/",
          "height": 265
        },
        "outputId": "1da66ed8-d7a8-473f-852c-e99a498c57bb"
      },
      "execution_count": 12,
      "outputs": [
        {
          "output_type": "display_data",
          "data": {
            "text/plain": [
              "<Figure size 432x288 with 1 Axes>"
            ],
            "image/png": "[encoded data removed]"
          },
          "metadata": {
            "needs_background": "light"
          }
        }
      ]
    },
    {
      "cell_type": "markdown",
      "source": [
        "* 표본 추출\n"
      ],
      "metadata": {
        "id": "zlxOZPKVn78e"
      }
    },
    {
      "cell_type": "code",
      "source": [
        "Y = sp.stats.chi2(df)\n",
        "rvs = Y.rvs(100, random_state=0)\n",
        "plt.hist(rvs)\n",
        "plt.grid()\n",
        "plt.show()"
      ],
      "metadata": {
        "id": "RXHpaI2Cn78f",
        "colab": {
          "base_uri": "https://localhost:8080/",
          "height": 265
        },
        "outputId": "2e92ecd1-028c-4ba2-9d12-2d2ea48175d9"
      },
      "execution_count": 13,
      "outputs": [
        {
          "output_type": "display_data",
          "data": {
            "text/plain": [
              "<Figure size 432x288 with 1 Axes>"
            ],
            "image/png": "[encoded data removed]"
          },
          "metadata": {
            "needs_background": "light"
          }
        }
      ]
    },
    {
      "cell_type": "markdown",
      "source": [
        "#### **예제 01. 파라미터 변경-자유도**\n",
        "\n",
        "* 자유도(df) 값이 각각 `1,2,3,4`인 카이제곱분포와 누적 확률 분포를 그리세요."
      ],
      "metadata": {
        "id": "zPzWqeCThJss"
      }
    },
    {
      "cell_type": "code",
      "source": [
        "dfs = [1,2,3,4]\n",
        "X = np.linspace(-10,10,100)\n",
        "for df in dfs:\n",
        "  Y = sp.stats.chi2(df)\n",
        "  plt.subplot(1,2,1)\n",
        "  plt.plot(Y.pdf(X))\n",
        "  plt.legend(dfs)\n",
        "  plt.title(f'$\\chi^2$ Distribution')\n",
        "  plt.subplot(1,2,2)\n",
        "  plt.plot(Y.cdf(X))\n",
        "  plt.legend(dfs)\n",
        "  plt.title(f'$\\chi^2$ c.d.f')\n",
        "  plt.grid()\n",
        "plt.show()"
      ],
      "metadata": {
        "id": "oLJOwFs0hJss",
        "colab": {
          "base_uri": "https://localhost:8080/",
          "height": 285
        },
        "outputId": "bda60bf5-4106-42d1-dabc-24eb2c1a74f6"
      },
      "execution_count": 14,
      "outputs": [
        {
          "output_type": "display_data",
          "data": {
            "text/plain": [
              "<Figure size 432x288 with 2 Axes>"
            ],
            "image/png": "[encoded data removed]"
          },
          "metadata": {
            "needs_background": "light"
          }
        }
      ]
    },
    {
      "cell_type": "markdown",
      "source": [
        "### **| 감마분포**\n",
        "\n",
        "\\begin{align}\n",
        "\\text{Gam}(x;a,b) = \\frac{1}{\\Gamma(a)} b^a x^{a-1}e^{-bx}\n",
        "\\end{align}\n",
        "\n",
        "```\n",
        "sp.stats.gamma(a=a, b=1)\n",
        "```"
      ],
      "metadata": {
        "id": "I4cJJ7BikOwC"
      }
    },
    {
      "cell_type": "markdown",
      "source": [
        "Gam(x;k,Θ)\n",
        "\n",
        "k = 형상모수, (k > 0)\n",
        "Θ = 척도모수, (Θ > 0)"
      ],
      "metadata": {
        "id": "E-z70DwC5qss"
      }
    },
    {
      "cell_type": "code",
      "source": [
        "# k=1,Θ =1/lambda }는 지수 분포가 된다.\n",
        "a1 = [1,2,4,8]\n",
        "b = 1\n",
        "X = np.linspace(-10,20,100)\n",
        "\n",
        "for a in a1 :\n",
        "  Y = sp.stats.gamma(a,b)"
      ],
      "metadata": {
        "id": "ai3TmH9kkOwC"
      },
      "execution_count": 15,
      "outputs": []
    },
    {
      "cell_type": "markdown",
      "source": [
        "* 확률 분포"
      ],
      "metadata": {
        "id": "NcMJTjsZkOwC"
      }
    },
    {
      "cell_type": "code",
      "source": [
        "for a in a1 :\n",
        "  Y = sp.stats.gamma(a,b)\n",
        "  plt.plot(Y.pdf(X))\n",
        "  plt.legend(a1)\n",
        "  plt.title('Gamma distribution / p.d.f')\n",
        "  plt.xlim(0,100)\n",
        "  plt.grid()"
      ],
      "metadata": {
        "id": "NzelXp2kkOwC",
        "colab": {
          "base_uri": "https://localhost:8080/",
          "height": 281
        },
        "outputId": "ec4a5b32-521f-4457-95ee-0a8639388c94"
      },
      "execution_count": 16,
      "outputs": [
        {
          "output_type": "display_data",
          "data": {
            "text/plain": [
              "<Figure size 432x288 with 1 Axes>"
            ],
            "image/png": "[encoded data removed]"
          },
          "metadata": {
            "needs_background": "light"
          }
        }
      ]
    },
    {
      "cell_type": "markdown",
      "source": [
        "* 누적 확률 분포\n"
      ],
      "metadata": {
        "id": "YpsnR4AMkOwD"
      }
    },
    {
      "cell_type": "code",
      "source": [
        "for a in a1 :\n",
        "  Y = sp.stats.gamma(a,b)\n",
        "  plt.plot(Y.cdf(X))\n",
        "  plt.legend(a1)\n",
        "  plt.title('Gamma distribution c.d.f')\n",
        "  plt.xlim(0,100)\n",
        "  plt.grid()"
      ],
      "metadata": {
        "id": "6xuAfh80kOwD",
        "colab": {
          "base_uri": "https://localhost:8080/",
          "height": 281
        },
        "outputId": "48cdbfa8-1dbc-48cf-efa3-b023b73aecba"
      },
      "execution_count": 17,
      "outputs": [
        {
          "output_type": "display_data",
          "data": {
            "text/plain": [
              "<Figure size 432x288 with 1 Axes>"
            ],
            "image/png": "[encoded data removed]"
          },
          "metadata": {
            "needs_background": "light"
          }
        }
      ]
    },
    {
      "cell_type": "markdown",
      "source": [
        "* 표본 추출"
      ],
      "metadata": {
        "id": "sapQZAdtoYSX"
      }
    },
    {
      "cell_type": "code",
      "source": [
        "rvs = Y.rvs(100)\n",
        "_=plt.hist(rvs)"
      ],
      "metadata": {
        "id": "jxd1q3o_oYSY",
        "colab": {
          "base_uri": "https://localhost:8080/",
          "height": 265
        },
        "outputId": "681b812f-59d2-438c-d781-31a9050e95eb"
      },
      "execution_count": 18,
      "outputs": [
        {
          "output_type": "display_data",
          "data": {
            "text/plain": [
              "<Figure size 432x288 with 1 Axes>"
            ],
            "image/png": "[encoded data removed]"
          },
          "metadata": {
            "needs_background": "light"
          }
        }
      ]
    },
    {
      "cell_type": "markdown",
      "source": [
        "#### **예제 01. 파라미터 변경-a**\n",
        "\n",
        "* a 값이 각각 `1,2,4,8`인 감마 분포와 누적 확률 분포를 그리세요."
      ],
      "metadata": {
        "id": "BxtZ4WMcmb_r"
      }
    },
    {
      "cell_type": "markdown",
      "source": [
        "## 이산형 확률 분포\n",
        "---"
      ],
      "metadata": {
        "id": "u_bkL0sQxRLB"
      }
    },
    {
      "cell_type": "markdown",
      "source": [
        "### |  **베르누이 분포**\n",
        "\n",
        "\\begin{split}\n",
        "\\begin{align}\n",
        "\\text{Bern}(x;\\mu) = \n",
        "\\begin{cases} \n",
        "\\mu   & \\text{if }x=1, \\\\\n",
        "1-\\mu & \\text{if }x=0\n",
        "\\end{cases}\n",
        "\\end{align}\n",
        "\\end{split}\n",
        "\n",
        "* 기본사용\n",
        "\n",
        "```\n",
        "mu = 0.5\n",
        "rv = sp.stats.bernoulli(mu)\n",
        "```"
      ],
      "metadata": {
        "id": "DZR4Ztbb2Hi_"
      }
    },
    {
      "cell_type": "code",
      "source": [
        "# 동전던지기 -> 앞,뒤 (0.5 확률)\n",
        "mu = 0.5\n",
        "bern = sp.stats.bernoulli(mu)"
      ],
      "metadata": {
        "id": "IWbIlD-p2HrT"
      },
      "execution_count": 19,
      "outputs": []
    },
    {
      "cell_type": "markdown",
      "source": [
        "* 확률 분포\n"
      ],
      "metadata": {
        "id": "yBSPcMFQ21KV"
      }
    },
    {
      "cell_type": "code",
      "source": [
        "# 확률 반환\n",
        "# 0과 1사이에서만 값이 확률값이 존재. 나머지는 0\n",
        "bern.pmf([0,1,2])"
      ],
      "metadata": {
        "id": "iAeMmd4U2bsO",
        "colab": {
          "base_uri": "https://localhost:8080/"
        },
        "outputId": "05b7d5d0-a4ee-41df-8093-ce6aebc63ab9"
      },
      "execution_count": 20,
      "outputs": [
        {
          "output_type": "execute_result",
          "data": {
            "text/plain": [
              "array([0.5, 0.5, 0. ])"
            ]
          },
          "metadata": {},
          "execution_count": 20
        }
      ]
    },
    {
      "cell_type": "markdown",
      "source": [
        "* 누적 확률 분포\n"
      ],
      "metadata": {
        "id": "5SxoR2Zx8md8"
      }
    },
    {
      "cell_type": "code",
      "source": [
        "bern.cdf([0,1])"
      ],
      "metadata": {
        "id": "K60MYhgC8md9",
        "colab": {
          "base_uri": "https://localhost:8080/"
        },
        "outputId": "61482b99-8aba-4fb9-e97c-b2819fbc7cec"
      },
      "execution_count": 21,
      "outputs": [
        {
          "output_type": "execute_result",
          "data": {
            "text/plain": [
              "array([0.5, 1. ])"
            ]
          },
          "metadata": {},
          "execution_count": 21
        }
      ]
    },
    {
      "cell_type": "markdown",
      "source": [
        "* 표본 추출"
      ],
      "metadata": {
        "id": "rJYDT6oQ2ttl"
      }
    },
    {
      "cell_type": "code",
      "source": [
        "bern.rvs(20)\n",
        "# rvs = random variable"
      ],
      "metadata": {
        "id": "SInJdkhz2Tnu",
        "colab": {
          "base_uri": "https://localhost:8080/"
        },
        "outputId": "559265b8-5700-4ac8-914f-72e4011b7a06"
      },
      "execution_count": 22,
      "outputs": [
        {
          "output_type": "execute_result",
          "data": {
            "text/plain": [
              "array([1, 1, 1, 0, 1, 0, 1, 0, 0, 0, 1, 1, 0, 0, 0, 1, 0, 1, 1, 0])"
            ]
          },
          "metadata": {},
          "execution_count": 22
        }
      ]
    },
    {
      "cell_type": "markdown",
      "source": [
        "#### **예제 01. 동전 던지기**\n",
        "\n",
        "동전을 던져서 앞면이 나온 확률\n",
        "\n"
      ],
      "metadata": {
        "id": "u2x8LQa74A_V"
      }
    },
    {
      "cell_type": "code",
      "source": [
        "# 동전던지기 -> 앞,뒤 (0.5 확률)\n",
        "mu = 0.5\n",
        "bern = sp.stats.bernoulli(mu)\n",
        "\n",
        "# 확률 반환\n",
        "# 0과 1사이에서만 값이 확률값이 존재. 나머지는 0\n",
        "print(f'pmf : {bern.pmf([0,1])}, cdf : {bern.cdf([0,1])}, rvs : {bern.rvs(20)}')"
      ],
      "metadata": {
        "id": "2ZzCyh9q3O7D",
        "colab": {
          "base_uri": "https://localhost:8080/"
        },
        "outputId": "6d6bd095-d658-440c-952a-ec30e2a12de3"
      },
      "execution_count": 23,
      "outputs": [
        {
          "output_type": "stream",
          "name": "stdout",
          "text": [
            "pmf : [0.5 0.5], cdf : [0.5 1. ], rvs : [1 1 0 0 0 1 0 1 1 1 0 0 1 0 1 0 1 1 0 0]\n"
          ]
        }
      ]
    },
    {
      "cell_type": "markdown",
      "source": [
        "#### **예제 02. 주사위 굴리기**\n",
        "\n",
        "주사위 던져서 6이 나온 확률\n"
      ],
      "metadata": {
        "id": "SdLG6-us4Ws9"
      }
    },
    {
      "cell_type": "code",
      "source": [
        "# 6이 나올 확률\n",
        "mu = 1/6\n",
        "x = [0,1]\n",
        "label = ['Probability of not getting 6', 'Probability of getting 6']\n",
        "bern = sp.stats.bernoulli(mu)\n",
        "\n",
        "# 확률 함수\n",
        "P = bern.pmf(x)\n",
        "print(P)\n",
        "plt.bar(x,P)\n",
        "plt.xticks(x, labels = label)\n",
        "plt.legend()\n",
        "plt.title('p.m.f')\n",
        "plt.show()\n",
        "\n",
        "# 누적 확률 함수\n",
        "F = bern.cdf(x)\n",
        "plt.plot(x, F)\n",
        "plt.title('c.d.f')\n",
        "plt.show()"
      ],
      "metadata": {
        "id": "HUuwegja4Ws-",
        "colab": {
          "base_uri": "https://localhost:8080/",
          "height": 582
        },
        "outputId": "89e68f99-d62a-414a-89ff-ddffb58fe3db"
      },
      "execution_count": 24,
      "outputs": [
        {
          "output_type": "stream",
          "name": "stderr",
          "text": [
            "No handles with labels found to put in legend.\n"
          ]
        },
        {
          "output_type": "stream",
          "name": "stdout",
          "text": [
            "[0.83333333 0.16666667]\n"
          ]
        },
        {
          "output_type": "display_data",
          "data": {
            "text/plain": [
              "<Figure size 432x288 with 1 Axes>"
            ],
            "image/png": "[encoded data removed]"
          },
          "metadata": {
            "needs_background": "light"
          }
        },
        {
          "output_type": "display_data",
          "data": {
            "text/plain": [
              "<Figure size 432x288 with 1 Axes>"
            ],
            "image/png": "[encoded data removed]"
          },
          "metadata": {
            "needs_background": "light"
          }
        }
      ]
    },
    {
      "cell_type": "markdown",
      "source": [
        "#### **예제 03. 같은 생일**\n",
        "\n",
        "두 사람의 생일 월(月)이 같을 확률\n"
      ],
      "metadata": {
        "id": "zbGZCly_4cok"
      }
    },
    {
      "cell_type": "code",
      "source": [
        "# 사람 1 생일 1~ 12월, 사람 2 생일 1 ~ 12월 -> 생일이 같을 확률 12/12*12\n",
        "mu = 1/12\n",
        "bern = sp.stats.bernoulli(mu)\n",
        "P = bern.pmf([0,1])\n",
        "x = ['Differnt birth','Same birth']\n",
        "plt.bar(x, P, width = 0.4, color = 'green')\n",
        "plt.title('Bernoulli distribution')\n",
        "plt.show()\n",
        "print(f'Different birth : {P[0]}, Same birth : {P[1]}')"
      ],
      "metadata": {
        "id": "674nneQn4cok",
        "colab": {
          "base_uri": "https://localhost:8080/",
          "height": 299
        },
        "outputId": "ea339349-41c9-4034-8f42-5fdbd550c15a"
      },
      "execution_count": 25,
      "outputs": [
        {
          "output_type": "display_data",
          "data": {
            "text/plain": [
              "<Figure size 432x288 with 1 Axes>"
            ],
            "image/png": "[encoded data removed]"
          },
          "metadata": {
            "needs_background": "light"
          }
        },
        {
          "output_type": "stream",
          "name": "stdout",
          "text": [
            "Different birth : 0.9166666666666666, Same birth : 0.08333333333333333\n"
          ]
        }
      ]
    },
    {
      "cell_type": "markdown",
      "source": [
        "#### **예제 04. 주머니 공**\n",
        "주머니에 5개의 공이 들어있고 3개는 빨강, 2개는 하양이다. 공 2개를 뽑았을 때 색깔이 모두 다를 확률은?"
      ],
      "metadata": {
        "id": "7q4TvtJM45nM"
      }
    },
    {
      "cell_type": "code",
      "source": [
        "# 총 5개, 빨강 3개, 하양 2개\n",
        "# 빨강 뽑을 확률 3/5, 하양 2/5 빨간공, 하얀공 동시에 뽑을 확률 : 3/5 * 2/4\n",
        "\n",
        "mu = 3/5 * 2/4\n",
        "bern = sp.stats.bernoulli(mu)\n",
        "P = bern.pmf([0,1])\n",
        "x = ['Same ball', 'Different ball']\n",
        "plt.bar(x, P, color = 'g', width = 0.3)\n",
        "plt.show()\n",
        "print(f'Same ball : {P[0]}, Differnt ball : {P[1]}')"
      ],
      "metadata": {
        "id": "McDZjQD845nS",
        "colab": {
          "base_uri": "https://localhost:8080/",
          "height": 283
        },
        "outputId": "31bd6f4e-772e-4325-876e-da3bb796ba86"
      },
      "execution_count": 26,
      "outputs": [
        {
          "output_type": "display_data",
          "data": {
            "text/plain": [
              "<Figure size 432x288 with 1 Axes>"
            ],
            "image/png": "[encoded data removed]"
          },
          "metadata": {
            "needs_background": "light"
          }
        },
        {
          "output_type": "stream",
          "name": "stdout",
          "text": [
            "Same ball : 0.7000000000000001, Differnt ball : 0.3\n"
          ]
        }
      ]
    },
    {
      "cell_type": "markdown",
      "source": [
        "### |  **이항분포**\n",
        "\n",
        "\\begin{align}\n",
        "\\text{Bin}(x;N,\\mu) = \\binom N x \\; \\mu^x(1-\\mu)^{N-x}\n",
        "\\end{align}\n",
        "\n",
        "\n",
        "```\n",
        "sp.stats.binom(N, mu)\n",
        "```"
      ],
      "metadata": {
        "id": "qvyEmd6IxTQq"
      }
    },
    {
      "cell_type": "code",
      "source": [
        "# 베르누이 시행을 N번 한 결과의 확률\n",
        "# 동전 던지기를 10번 시행\n",
        "N, mu = 10, 0.5 # mu를 앞면이 나올 확률로 설정.\n",
        "binom = sp.stats.binom(N,mu)"
      ],
      "metadata": {
        "id": "zzxF40t6XjoK"
      },
      "execution_count": 27,
      "outputs": []
    },
    {
      "cell_type": "markdown",
      "source": [
        "* 확률 분포\n"
      ],
      "metadata": {
        "id": "Ae04eAmT6uKh"
      }
    },
    {
      "cell_type": "code",
      "source": [
        "# x는 앞면이 나오는 횟수 (0, 1, 2, 3.....10)\n",
        "# p는 각 횟수에 대한 확룰\n",
        "binom.pmf(np.arange(11))"
      ],
      "metadata": {
        "id": "aUNhvBEO6uKh",
        "colab": {
          "base_uri": "https://localhost:8080/"
        },
        "outputId": "c9f25737-6a70-4421-ebc7-1231f82b1016"
      },
      "execution_count": 28,
      "outputs": [
        {
          "output_type": "execute_result",
          "data": {
            "text/plain": [
              "array([0.00097656, 0.00976563, 0.04394531, 0.1171875 , 0.20507813,\n",
              "       0.24609375, 0.20507813, 0.1171875 , 0.04394531, 0.00976563,\n",
              "       0.00097656])"
            ]
          },
          "metadata": {},
          "execution_count": 28
        }
      ]
    },
    {
      "cell_type": "markdown",
      "source": [
        "* 누적 확률  분포"
      ],
      "metadata": {
        "id": "c78f-pb4fga9"
      }
    },
    {
      "cell_type": "code",
      "source": [
        "binom.cdf(np.arange(11))"
      ],
      "metadata": {
        "id": "liw4-4MJfhQl",
        "colab": {
          "base_uri": "https://localhost:8080/"
        },
        "outputId": "e7647536-c04e-4601-c291-219bed4d9fcd"
      },
      "execution_count": 29,
      "outputs": [
        {
          "output_type": "execute_result",
          "data": {
            "text/plain": [
              "array([9.76562500e-04, 1.07421875e-02, 5.46875000e-02, 1.71875000e-01,\n",
              "       3.76953125e-01, 6.23046875e-01, 8.28125000e-01, 9.45312500e-01,\n",
              "       9.89257812e-01, 9.99023438e-01, 1.00000000e+00])"
            ]
          },
          "metadata": {},
          "execution_count": 29
        }
      ]
    },
    {
      "cell_type": "markdown",
      "source": [
        "* 확률 변수 표본 추출\n"
      ],
      "metadata": {
        "id": "BfFaFXrz6uKb"
      }
    },
    {
      "cell_type": "code",
      "source": [
        "binom.rvs(100)"
      ],
      "metadata": {
        "id": "Y-wueBTg6uKh",
        "colab": {
          "base_uri": "https://localhost:8080/"
        },
        "outputId": "16cbd940-fc62-47c3-956a-353271e894dd"
      },
      "execution_count": 30,
      "outputs": [
        {
          "output_type": "execute_result",
          "data": {
            "text/plain": [
              "array([5, 6, 6, 3, 5, 5, 4, 8, 6, 7, 6, 5, 6, 4, 7, 4, 6, 4, 3, 5, 5, 5,\n",
              "       7, 5, 3, 5, 5, 5, 5, 4, 7, 5, 5, 4, 5, 4, 3, 6, 4, 5, 6, 1, 6, 6,\n",
              "       6, 4, 5, 6, 5, 5, 4, 4, 6, 7, 4, 6, 4, 5, 5, 2, 5, 4, 7, 7, 6, 7,\n",
              "       8, 5, 7, 4, 8, 2, 8, 4, 6, 3, 4, 6, 4, 4, 6, 5, 8, 7, 5, 7, 5, 6,\n",
              "       4, 5, 5, 7, 4, 7, 5, 4, 4, 3, 7, 4])"
            ]
          },
          "metadata": {},
          "execution_count": 30
        }
      ]
    },
    {
      "cell_type": "markdown",
      "source": [
        "#### **예제 01. 동전 던지기**\n",
        "\n",
        "* 동전을 1번 던졌을 때 앞면이 나온 횟수의 확률분포\n",
        "\n"
      ],
      "metadata": {
        "id": "mfOJS2Ij63lL"
      }
    },
    {
      "cell_type": "code",
      "source": [
        "N = 1\n",
        "mu = 0.5\n",
        "bino = sp.stats.binom(N,mu)\n",
        "P = bino.pmf([1])\n",
        "P"
      ],
      "metadata": {
        "id": "iIZ2aPI90p0_",
        "colab": {
          "base_uri": "https://localhost:8080/"
        },
        "outputId": "c0d5935d-79d1-4b17-b4b0-9af450ff33d7"
      },
      "execution_count": 31,
      "outputs": [
        {
          "output_type": "execute_result",
          "data": {
            "text/plain": [
              "array([0.5])"
            ]
          },
          "metadata": {},
          "execution_count": 31
        }
      ]
    },
    {
      "cell_type": "markdown",
      "source": [
        "* 동전을 10번 던졌을 때 앞면이 나온 횟수의 확률분포\n"
      ],
      "metadata": {
        "id": "Dl3kr5v5aN2R"
      }
    },
    {
      "cell_type": "code",
      "source": [
        "N = 10\n",
        "mu = 0.5\n",
        "bino = sp.stats.binom(N,mu)\n",
        "P = bino.pmf(np.arange(1,11))\n",
        "plt.bar(np.arange(1,11),P,color = 'g', width = 0.7)\n",
        "plt.title('Binomial distribution')\n",
        "plt.xlabel('number of front')\n",
        "plt.show()\n",
        "print(P)"
      ],
      "metadata": {
        "id": "lLX3TRHMaGFI",
        "colab": {
          "base_uri": "https://localhost:8080/",
          "height": 332
        },
        "outputId": "ed98a352-2e92-4d9d-e888-c80a24d00f82"
      },
      "execution_count": 32,
      "outputs": [
        {
          "output_type": "display_data",
          "data": {
            "text/plain": [
              "<Figure size 432x288 with 1 Axes>"
            ],
            "image/png": "[encoded data removed]"
          },
          "metadata": {
            "needs_background": "light"
          }
        },
        {
          "output_type": "stream",
          "name": "stdout",
          "text": [
            "[0.00976563 0.04394531 0.1171875  0.20507813 0.24609375 0.20507813\n",
            " 0.1171875  0.04394531 0.00976563 0.00097656]\n"
          ]
        }
      ]
    },
    {
      "cell_type": "markdown",
      "source": [
        "#### **예제 02. 주사위 굴리기**\n",
        "\n",
        "* 주사위를 1번 던져서 짝수가 나온 횟수의 분포"
      ],
      "metadata": {
        "id": "BgCrd71ay0xo"
      }
    },
    {
      "cell_type": "code",
      "source": [
        "N = 1\n",
        "mu = 0.5\n",
        "bino = sp.stats.binom(N,mu)\n",
        "P = bino.pmf([1])\n",
        "P"
      ],
      "metadata": {
        "id": "FGt6Yv-hy0xp",
        "colab": {
          "base_uri": "https://localhost:8080/"
        },
        "outputId": "7789474b-5781-4b37-cd67-512e39b2dd9a"
      },
      "execution_count": 33,
      "outputs": [
        {
          "output_type": "execute_result",
          "data": {
            "text/plain": [
              "array([0.5])"
            ]
          },
          "metadata": {},
          "execution_count": 33
        }
      ]
    },
    {
      "cell_type": "markdown",
      "source": [
        "* 주사위를 6번 던져서 짝수가 나온 횟수의 분포"
      ],
      "metadata": {
        "id": "pQfzCX3C1O7e"
      }
    },
    {
      "cell_type": "code",
      "source": [
        "N = 6\n",
        "mu = 0.5\n",
        "x = np.arange(1,7)\n",
        "bino = sp.stats.binom(N,mu)\n",
        "P = bino.pmf(x)\n",
        "plt.bar(x, P, color = 'g', width = 0.7)\n",
        "plt.title('Binomial distribution')\n",
        "plt.xlabel('number of Even')\n",
        "plt.show()\n",
        "print(P)"
      ],
      "metadata": {
        "id": "dLTDN71b1O7f",
        "colab": {
          "base_uri": "https://localhost:8080/",
          "height": 313
        },
        "outputId": "c8b77d3d-2827-4d74-cce4-add4cf146254"
      },
      "execution_count": 34,
      "outputs": [
        {
          "output_type": "display_data",
          "data": {
            "text/plain": [
              "<Figure size 432x288 with 1 Axes>"
            ],
            "image/png": "[encoded data removed]"
          },
          "metadata": {
            "needs_background": "light"
          }
        },
        {
          "output_type": "stream",
          "name": "stdout",
          "text": [
            "[0.09375  0.234375 0.3125   0.234375 0.09375  0.015625]\n"
          ]
        }
      ]
    },
    {
      "cell_type": "markdown",
      "source": [
        "* 주사위를 20번 던져서 짝수가 나온 횟수의 분포"
      ],
      "metadata": {
        "id": "fYk90ripZv-p"
      }
    },
    {
      "cell_type": "code",
      "source": [
        "N = 20\n",
        "mu = 0.5\n",
        "x = np.arange(1,21)\n",
        "bino = sp.stats.binom(N,mu)\n",
        "P = bino.pmf(x)\n",
        "plt.bar(x, P, color = 'g', width = 0.7)\n",
        "plt.title('binomial distribution')\n",
        "plt.xlabel('number of Even')\n",
        "plt.show()\n",
        "print(P)"
      ],
      "metadata": {
        "id": "BBKpHijjZv-u",
        "colab": {
          "base_uri": "https://localhost:8080/",
          "height": 387
        },
        "outputId": "7eaae00f-6aa9-4f1b-d7de-ef8d71969422"
      },
      "execution_count": 35,
      "outputs": [
        {
          "output_type": "display_data",
          "data": {
            "text/plain": [
              "<Figure size 432x288 with 1 Axes>"
            ],
            "image/png": "[encoded data removed]"
          },
          "metadata": {
            "needs_background": "light"
          }
        },
        {
          "output_type": "stream",
          "name": "stdout",
          "text": [
            "[1.90734863e-05 1.81198120e-04 1.08718872e-03 4.62055206e-03\n",
            " 1.47857666e-02 3.69644165e-02 7.39288330e-02 1.20134354e-01\n",
            " 1.60179138e-01 1.76197052e-01 1.60179138e-01 1.20134354e-01\n",
            " 7.39288330e-02 3.69644165e-02 1.47857666e-02 4.62055206e-03\n",
            " 1.08718872e-03 1.81198120e-04 1.90734863e-05 9.53674316e-07]\n"
          ]
        }
      ]
    },
    {
      "cell_type": "markdown",
      "source": [
        "* 주사위를 1번 던져서 6이 나온 횟수의 분포"
      ],
      "metadata": {
        "id": "vTgdAm2_yFfp"
      }
    },
    {
      "cell_type": "code",
      "source": [
        "N = 1\n",
        "mu = 1/6\n",
        "x = np.arange(1)\n",
        "bino = sp.stats.binom(N,mu)\n",
        "P = bino.pmf(x)\n",
        "print(P)"
      ],
      "metadata": {
        "id": "BjL3tbaPxycR",
        "colab": {
          "base_uri": "https://localhost:8080/"
        },
        "outputId": "814e1f05-3e04-46fa-e912-4160a3fc0b31"
      },
      "execution_count": 36,
      "outputs": [
        {
          "output_type": "stream",
          "name": "stdout",
          "text": [
            "[0.83333333]\n"
          ]
        }
      ]
    },
    {
      "cell_type": "markdown",
      "source": [
        "* 주사위를 6번 던져서 6이 나온 횟수의 분포"
      ],
      "metadata": {
        "id": "yugdY-bMyf9w"
      }
    },
    {
      "cell_type": "code",
      "source": [
        "N = 6\n",
        "mu = 1/6\n",
        "x = np.arange(1,7)\n",
        "bino = sp.stats.binom(N,mu)\n",
        "P = bino.pmf(x)\n",
        "plt.bar(x, P, color = 'g', width = 0.7)\n",
        "plt.title('binomial distribution')\n",
        "plt.xlabel('number of six')\n",
        "plt.show()\n",
        "print(P)"
      ],
      "metadata": {
        "id": "5tOC9IWYyf9w",
        "colab": {
          "base_uri": "https://localhost:8080/",
          "height": 332
        },
        "outputId": "35db30ca-a02b-49bb-b705-20158960639c"
      },
      "execution_count": 37,
      "outputs": [
        {
          "output_type": "display_data",
          "data": {
            "text/plain": [
              "<Figure size 432x288 with 1 Axes>"
            ],
            "image/png": "[encoded data removed]"
          },
          "metadata": {
            "needs_background": "light"
          }
        },
        {
          "output_type": "stream",
          "name": "stdout",
          "text": [
            "[4.01877572e-01 2.00938786e-01 5.35836763e-02 8.03755144e-03\n",
            " 6.43004115e-04 2.14334705e-05]\n"
          ]
        }
      ]
    },
    {
      "cell_type": "markdown",
      "source": [
        "* 주사위를 20번 던져서 6이 나온 횟수의 분포"
      ],
      "metadata": {
        "id": "C2uBhXRr8ACU"
      }
    },
    {
      "cell_type": "code",
      "source": [
        "N = 20\n",
        "mu = 1/6\n",
        "x = np.arange(1,21)\n",
        "bino = sp.stats.binom(N,mu)\n",
        "P = bino.pmf(x)\n",
        "plt.bar(x, P, color = 'g', width = 0.7)\n",
        "plt.title('binomial distribution')\n",
        "plt.xlabel('number of six')\n",
        "plt.show()\n",
        "print(P)"
      ],
      "metadata": {
        "id": "Ylmr1SNR8ACU",
        "colab": {
          "base_uri": "https://localhost:8080/",
          "height": 387
        },
        "outputId": "1a1c04df-cc36-4c50-d408-48bc4a6c83b6"
      },
      "execution_count": 38,
      "outputs": [
        {
          "output_type": "display_data",
          "data": {
            "text/plain": [
              "<Figure size 432x288 with 1 Axes>"
            ],
            "image/png": "[encoded data removed]"
          },
          "metadata": {
            "needs_background": "light"
          }
        },
        {
          "output_type": "stream",
          "name": "stdout",
          "text": [
            "[1.04336213e-01 1.98238805e-01 2.37886566e-01 2.02203581e-01\n",
            " 1.29410292e-01 6.47051460e-02 2.58820584e-02 8.41166898e-03\n",
            " 2.24311173e-03 4.93484580e-04 8.97244691e-05 1.34586704e-05\n",
            " 1.65645174e-06 1.65645174e-07 1.32516139e-08 8.28225869e-10\n",
            " 3.89753350e-11 1.29917783e-12 2.73511123e-14 2.73511123e-16]\n"
          ]
        }
      ]
    },
    {
      "cell_type": "markdown",
      "source": [
        "### **| 카테고리 확률분포**\n",
        "\n",
        "\\begin{split} \n",
        "\\begin{align}\n",
        "\\text{Cat}(x;\\mu) = \n",
        "\\begin{cases}\n",
        "\\mu_1 & \\text{if } x = (1, 0, 0, \\cdots, 0) \\\\\n",
        "\\mu_2 & \\text{if } x = (0, 1, 0, \\cdots, 0) \\\\\n",
        "\\mu_3 & \\text{if } x = (0, 0, 1, \\cdots, 0) \\\\\n",
        "\\vdots & \\vdots \\\\\n",
        "\\mu_K & \\text{if } x = (0, 0, 0, \\cdots, 1) \\\\\n",
        "\\end{cases}\n",
        "\\end{align}\n",
        "\\end{split}\n",
        "\n",
        "\n",
        "```\n",
        "sp.stats.multinomial(1, mu)\n",
        "```"
      ],
      "metadata": {
        "id": "80kMNBkH_zez"
      }
    },
    {
      "cell_type": "code",
      "source": [
        "# x=(1,0,0,⋯,0) : 원-핫 인코딩\n",
        "# multinomial(N, mu)\n",
        "# N : N번 시행 -> 1로 고정\n",
        "# mus : 클래스 별 확률, 벡터 (리스트, 어레이)\n",
        "\n",
        "mult = sp.stats.multinomial(1,[1/3,1/3,1/3])"
      ],
      "metadata": {
        "id": "uU5fIlSRABLp"
      },
      "execution_count": 39,
      "outputs": []
    },
    {
      "cell_type": "markdown",
      "source": [
        "* 확률 분포\n"
      ],
      "metadata": {
        "id": "NPVTGlV3QkX3"
      }
    },
    {
      "cell_type": "code",
      "source": [
        "# 베르누이 시행에서  \n",
        "# X = [0, 1] -> p(xs) = [0.6, 0.4]\n",
        "# x값이 0일때, 확률 0.6이다\n",
        "\n",
        "# 카테고리 시행\n",
        "# x값이 'A' 일 때, 'B' 일 때, 'C' 일 때\n",
        "# 원-핫 인코딩 : 각 클래스를 벡터로 표현\n",
        "# 'A' = [1,0,0], 'B' = [0,1,0], 'C' = [0,0,1]\n",
        "mult.pmf([0,1,0]) # B가 나올 확률 \n",
        "\n",
        "one_h = ([1,0,0],\n",
        "         [0,1,0],\n",
        "         [0,0,1])"
      ],
      "metadata": {
        "id": "rl4lQtsdQkX3"
      },
      "execution_count": 40,
      "outputs": []
    },
    {
      "cell_type": "markdown",
      "source": [
        "* 표본 추출\n"
      ],
      "metadata": {
        "id": "B0fGcCvTACrJ"
      }
    },
    {
      "cell_type": "code",
      "source": [
        "mult.rvs(10)\n",
        "\n",
        "# 카테고리 확률분포는 누적확률 분포 없음."
      ],
      "metadata": {
        "id": "7pIEzR11ACrK",
        "colab": {
          "base_uri": "https://localhost:8080/"
        },
        "outputId": "5337d0b8-b039-41b7-8e0d-1b6e4ae18caa"
      },
      "execution_count": 41,
      "outputs": [
        {
          "output_type": "execute_result",
          "data": {
            "text/plain": [
              "array([[0, 0, 1],\n",
              "       [0, 1, 0],\n",
              "       [0, 0, 1],\n",
              "       [1, 0, 0],\n",
              "       [0, 1, 0],\n",
              "       [0, 1, 0],\n",
              "       [1, 0, 0],\n",
              "       [1, 0, 0],\n",
              "       [0, 1, 0],\n",
              "       [0, 0, 1]])"
            ]
          },
          "metadata": {},
          "execution_count": 41
        }
      ]
    },
    {
      "cell_type": "markdown",
      "source": [
        "#### **예제 01.공정하지 않은 주사위**\n",
        "\n",
        "* 주사위의 짝수 면이 나올 확률이 홀수 면이 나올 확률의 2배일 때 확률분포를 그래세요."
      ],
      "metadata": {
        "id": "qTi5CXlcVkgb"
      }
    },
    {
      "cell_type": "code",
      "source": [
        "# 홀수 나올 확률 = p, 짝수 = 2*p 주사위는 홀수 3개 짝수 3개 이므로 3p + 2*3*p = 9p, p = 1/9\n",
        "mu = [1/9, 2/9, 1/9, 2/9, 1/9, 2/9]\n",
        "multi = sp.stats.multinomial(1,mu)  # N = 1, \n",
        "x = np.arange(1,7)\n",
        "X = pd.get_dummies(x)        # 원-핫 인코딩 값\n",
        "\n",
        "P = multi.pmf(X.values)\n",
        "R = multi.rvs(100)           # 실제 확률과 시뮬레이션 확률(랜덤 변수의 확률)의 비교를 위해 만듦.\n",
        "R1 = sum(R)/len(R)           # R이 원-핫 인코딩값들이 100개 있고, 각 열을 합한 값에 길이를 나누면 6개의 값들이 각각 나올 확률이 나옴.\n",
        "\n",
        "plt.bar(x-0.15,P, width = 0.3, label = 'theoretical value')\n",
        "plt.bar(x+0.15,R1, width = 0.3, label = 'Simulation')\n",
        "plt.legend()\n",
        "plt.title('Categori distribution')\n",
        "plt.show()"
      ],
      "metadata": {
        "id": "j9LKA4bcVkgh",
        "colab": {
          "base_uri": "https://localhost:8080/",
          "height": 281
        },
        "outputId": "a0baebb7-bb3d-4116-a457-7522122e1052"
      },
      "execution_count": 42,
      "outputs": [
        {
          "output_type": "display_data",
          "data": {
            "text/plain": [
              "<Figure size 432x288 with 1 Axes>"
            ],
            "image/png": "[encoded data removed]"
          },
          "metadata": {
            "needs_background": "light"
          }
        }
      ]
    },
    {
      "cell_type": "markdown",
      "source": [
        "#### **예제 02. 주머니 공**\n",
        "\n",
        "주머니 안에 빨간색 5개, 노란색, 3개 초록색 2개 공이 들어 있을 때 공 한개를 뽑을 때 나오는 색깔의 확률 분포를 그리세요."
      ],
      "metadata": {
        "id": "4sA7w4hPPDR3"
      }
    },
    {
      "cell_type": "code",
      "source": [
        "# 총 10개, 빨간색 뽑을 확률 = 5/10, 노란색 = 3/10, 초록색 = 2/10\n",
        "mu = [5/10, 3/10, 2/10]\n",
        "multi = sp.stats.multinomial(1,mu)  # N = 1, \n",
        "x = np.arange(1,4)\n",
        "rv = pd.get_dummies(x)\n",
        "P = multi.pmf(rv.values)\n",
        "R = multi.rvs(100)           \n",
        "R1 = sum(R)/len(R)           \n",
        "\n",
        "plt.bar(x-0.15,P, width = 0.3, label = 'theoretical value')\n",
        "plt.bar(x+0.15,R1, width = 0.3, label = 'Simulation')\n",
        "plt.legend()\n",
        "plt.title('Categori distribution')\n",
        "plt.show()"
      ],
      "metadata": {
        "id": "KY8dsIRHPbXm",
        "colab": {
          "base_uri": "https://localhost:8080/",
          "height": 281
        },
        "outputId": "d846c342-74d9-4310-ee54-ed0d4843a14d"
      },
      "execution_count": 43,
      "outputs": [
        {
          "output_type": "display_data",
          "data": {
            "text/plain": [
              "<Figure size 432x288 with 1 Axes>"
            ],
            "image/png": "[encoded data removed]"
          },
          "metadata": {
            "needs_background": "light"
          }
        }
      ]
    },
    {
      "cell_type": "markdown",
      "source": [
        "#### **예제 03. 선호 자리**\n",
        "\n",
        "교실에 5개의 자리가 있고 학생이 x번째 자리에 앉을 확률이 $f(X=x)=\\frac{1}{2^{(x+1)}}$ 로 주어졌습니다. 확률 분포를 그리세요."
      ],
      "metadata": {
        "id": "nY1r7_HTXbAM"
      }
    },
    {
      "cell_type": "code",
      "source": [
        "# 자리에 앉을 확률 함수로 정의\n",
        "def f(x):\n",
        "  y = 1/(2**(x+1))\n",
        "  return y\n",
        "\n",
        "# 각 자리에 앉을 확률 mu에 바인딩\n",
        "mu = []\n",
        "for i in range(6) :\n",
        "  mu.append(f(i))\n",
        "\n",
        "multi = sp.stats.multinomial(1,mu)  # N = 1, \n",
        "x = np.arange(6)\n",
        "rv = pd.get_dummies(x)\n",
        "P = multi.pmf(rv.values)\n",
        "R = multi.rvs(100)           \n",
        "R1 = sum(R)/len(R)           \n",
        "\n",
        "plt.bar(x-0.15,P, width = 0.3, label = 'theoretical value')\n",
        "plt.bar(x+0.15,R1, width = 0.3, label = 'Simulation')\n",
        "plt.xlabel('seat number')\n",
        "plt.legend()\n",
        "plt.title('Categori distribution')\n",
        "plt.show()"
      ],
      "metadata": {
        "id": "1cbAe4SvXbAM",
        "colab": {
          "base_uri": "https://localhost:8080/",
          "height": 295
        },
        "outputId": "c4b59ffb-360f-44ca-9dd1-7f50fcae53c5"
      },
      "execution_count": 47,
      "outputs": [
        {
          "output_type": "display_data",
          "data": {
            "text/plain": [
              "<Figure size 432x288 with 1 Axes>"
            ],
            "image/png": "[encoded data removed]"
          },
          "metadata": {
            "needs_background": "light"
          }
        }
      ]
    },
    {
      "cell_type": "code",
      "source": [
        ""
      ],
      "metadata": {
        "id": "EAlNc9t6Ol1h"
      },
      "execution_count": null,
      "outputs": []
    }
  ]
}