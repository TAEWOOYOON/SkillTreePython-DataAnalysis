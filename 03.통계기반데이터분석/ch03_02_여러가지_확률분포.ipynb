{
  "nbformat": 4,
  "nbformat_minor": 0,
  "metadata": {
    "colab": {
      "name": "ch03_02_여러가지_확률분포.ipynb",
      "provenance": [],
      "collapsed_sections": [],
      "toc_visible": true
    },
    "kernelspec": {
      "name": "python3",
      "display_name": "Python 3"
    },
    "language_info": {
      "name": "python"
    }
  },
  "cells": [
    {
      "cell_type": "markdown",
      "metadata": {
        "id": "view-in-github"
      },
      "source": [
        "<a href=\"https://colab.research.google.com/github/yebiny/SkillTreePython-DataAnalysis/blob/main/03.%ED%86%B5%EA%B3%84%EA%B8%B0%EB%B0%98%EB%8D%B0%EC%9D%B4%ED%84%B0%EB%B6%84%EC%84%9D/ch03_02_%EC%97%AC%EB%9F%AC%EA%B0%80%EC%A7%80_%ED%99%95%EB%A5%A0%EB%B6%84%ED%8F%AC.ipynb\" target=\"_parent\"><img src=\"https://colab.research.google.com/assets/colab-badge.svg\" alt=\"Open In Colab\"/></a>"
      ]
    },
    {
      "cell_type": "markdown",
      "source": [
        "# ch03.02. 여러가지 확률 분포\n",
        "---\n",
        "* 날짜: 2022.05.04\n",
        "* 이름: 윤태우\n",
        "\n",
        "## 학습내용\n",
        "    * 연속형 확률변수 -> 확률 밀도 함수 -> 연속형 확률 분포\n",
        "      - 균등 분포\n",
        "      - 정규 분포\n",
        "      - 지수 분포\n",
        "      - 감마 분포\n",
        "      - 베타 분포\n",
        "      - 카이제곱 분포\n",
        "    * 이산형 확률변수 -> 확률 질량 함수 -> 이산형 확률 분포\n",
        "      - 베르누이 분포\n",
        "      - 이항분포\n",
        "      - 카테고리 확률 분포\n",
        "      - 포아송 분포\n",
        "      - 기하 분포\n",
        "      - 음이항 분포\n",
        "      - 초기하 분포\n"
      ],
      "metadata": {
        "id": "wWpXZc2fi39U"
      }
    },
    {
      "cell_type": "code",
      "source": [
        "import numpy as np\n",
        "import matplotlib.pyplot as plt\n",
        "import pandas as pd\n",
        "import scipy as sp # 사이파이 -> 데이터 사이언스에 필요한 함수들 포함한 라이브러리\n",
        "from scipy.stats import *  # * = 모든것을 임포트 하겠다는 뜻 \n",
        "import warnings\n",
        "warnings.filterwarnings('ignore')"
      ],
      "metadata": {
        "id": "uYLRSgCqw4YZ"
      },
      "execution_count": 1,
      "outputs": []
    },
    {
      "cell_type": "markdown",
      "source": [
        "## 연속형 확률 분포\n",
        "---\n",
        "\n"
      ],
      "metadata": {
        "id": "i76b_rugaaQh"
      }
    },
    {
      "cell_type": "markdown",
      "source": [
        "### **| 정규분포**\n",
        "\n",
        "\\begin{align}   \\mu = 뮤, 모수(파라미터) \\sigma = 시그마, 모수(파라미터)\n",
        "\\mathcal{N}(x; \\mu, \\sigma^2) = \\dfrac{1}{\\sqrt{2\\pi\\sigma^2}} \\exp \\left(-\\dfrac{(x-\\mu)^2}{2\\sigma^2}\\right)\n",
        "\\end{align}\n",
        "\n",
        "```\n",
        "sp.stats.norm(mu, std)\n",
        "```"
      ],
      "metadata": {
        "id": "1-OKBt9jah1A"
      }
    },
    {
      "cell_type": "code",
      "source": [
        "mu, std = 0, 1 # 표준 정규분포\n",
        "\n",
        "norm = sp.stats.norm(mu, std)    # 확률 함수\n"
      ],
      "metadata": {
        "id": "O_8p6vLnan54"
      },
      "execution_count": 2,
      "outputs": []
    },
    {
      "cell_type": "markdown",
      "source": [
        "* 확률 분포\n"
      ],
      "metadata": {
        "id": "K1g-lUcoav1y"
      }
    },
    {
      "cell_type": "code",
      "source": [
        "X = np.linspace(-5,5,10) # -5부터 5까지 100개\n",
        "P_X = norm.pdf(X) # 밀도함수\n",
        "print(P_X)"
      ],
      "metadata": {
        "id": "if7zfSErayZP",
        "colab": {
          "base_uri": "https://localhost:8080/"
        },
        "outputId": "ac3a0dd0-3e9c-4a9c-a6cd-e8ddc946a9b9"
      },
      "execution_count": 19,
      "outputs": [
        {
          "output_type": "stream",
          "name": "stdout",
          "text": [
            "[1.06220521e-15 3.49071894e-14 9.41531329e-13 2.08433780e-11\n",
            " 3.78717060e-10 5.64774486e-09 6.91271583e-08 6.94441675e-07\n",
            " 5.72580143e-06 3.87480834e-05]\n"
          ]
        }
      ]
    },
    {
      "cell_type": "markdown",
      "source": [
        "* 누적 확률 분포\n"
      ],
      "metadata": {
        "id": "GXf2Mnfie-1t"
      }
    },
    {
      "cell_type": "code",
      "source": [
        "F_X = norm.cdf(X)\n",
        "print(F_X)"
      ],
      "metadata": {
        "id": "3XzNesNhe-1z",
        "colab": {
          "base_uri": "https://localhost:8080/"
        },
        "outputId": "df11abbe-769c-4fda-d788-c673df9da358"
      },
      "execution_count": 20,
      "outputs": [
        {
          "output_type": "stream",
          "name": "stdout",
          "text": [
            "[3.23833866e-16 1.12424361e-14 3.21330770e-13 7.56401374e-12\n",
            " 1.46704038e-10 2.34550885e-09 3.09310872e-08 3.36688197e-07\n",
            " 3.02771780e-06 2.25178504e-05]\n"
          ]
        }
      ]
    },
    {
      "cell_type": "markdown",
      "source": [
        "* 표본 추출\n",
        "\n"
      ],
      "metadata": {
        "id": "yqKfsYtznOxw"
      }
    },
    {
      "cell_type": "code",
      "source": [
        "rvs = norm.rvs(1000, random_state = 0)\n",
        "_ = plt.hist(rvs)"
      ],
      "metadata": {
        "id": "qCNrdRXEnOxw",
        "colab": {
          "base_uri": "https://localhost:8080/",
          "height": 269
        },
        "outputId": "bc1d5e25-f464-4d76-e29c-e249f0bb8fd9"
      },
      "execution_count": 21,
      "outputs": [
        {
          "output_type": "display_data",
          "data": {
            "text/plain": [
              "<Figure size 432x288 with 1 Axes>"
            ],
            "image/png": "[encoded data removed]"
          },
          "metadata": {
            "needs_background": "light"
          }
        }
      ]
    },
    {
      "cell_type": "markdown",
      "source": [
        "#### **예제 01. 파라미터 변경-평균**\n",
        "\n",
        "* 표준편차 `1`, 평균이 각각 `0.5, 1, 2, 4`인 확률분포와 확률누적분포를 그리세요."
      ],
      "metadata": {
        "id": "rKj9hDWacrgX"
      }
    },
    {
      "cell_type": "code",
      "source": [
        "mus = [0.5, 1, 2, 4]\n",
        "std = 1\n",
        "X = np.linspace(-5,5,100)\n",
        "\n",
        "fig, axes = plt.subplots(1,2,figsize=(10,5))\n",
        "axes = axes.flatten()\n",
        "\n",
        "for mu in mus :\n",
        "  norm =sp.stats.norm(mu, std)\n",
        "  P_X = norm.pdf(X) # 확률 밀도 함수\n",
        "  F_X = norm.cdf(X) # 누적 확률 함수\n",
        "\n",
        "\n",
        "  axes[0].plot(X, P_X)  # X에 대한 확률 값 그래프\n",
        "  axes[1].plot(X, F_X)  # X에 대한 누적 값 그래프\n",
        "  axes[0].set_xlim(-5,8) # x 범위조절\n",
        "  axes[1].set_xlim(-5,8) # x 범위조절\n",
        "axes[0].legend(mus) # 라벨\n",
        "axes[1].legend(mus)"
      ],
      "metadata": {
        "id": "XbHcwBmscrgX",
        "colab": {
          "base_uri": "https://localhost:8080/",
          "height": 338
        },
        "outputId": "e6f30a14-b4d6-44e4-ea60-62a6b349cbad"
      },
      "execution_count": 22,
      "outputs": [
        {
          "output_type": "execute_result",
          "data": {
            "text/plain": [
              "<matplotlib.legend.Legend at 0x7fa7f09a8d50>"
            ]
          },
          "metadata": {},
          "execution_count": 22
        },
        {
          "output_type": "display_data",
          "data": {
            "text/plain": [
              "<Figure size 720x360 with 2 Axes>"
            ],
            "image/png": "[encoded data removed]"
          },
          "metadata": {
            "needs_background": "light"
          }
        }
      ]
    },
    {
      "cell_type": "markdown",
      "source": [
        "#### **예제 02. 파라미터 변경-표준편차**\n",
        "\n",
        "* 평균 `0`, 표준편차가 각각 `0.5, 1, 2, 4`인 확률분포와 확률누적분포를 그리세요."
      ],
      "metadata": {
        "id": "68PJGdS4bhKx"
      }
    },
    {
      "cell_type": "code",
      "source": [
        "mus = 0\n",
        "stds = [0.5, 1, 2, 4]\n",
        "X = np.linspace(-5,10,100)\n",
        "\n",
        "fig, axes = plt.subplots(1,2,figsize=(10,5))\n",
        "axes = axes.flatten()\n",
        "\n",
        "for std in stds :\n",
        "  norm = sp.stats.norm(mu, std)\n",
        "  P_X = norm.pdf(X) # 확률 밀도 함수\n",
        "  F_X = norm.cdf(X) # 누적 확률 함수\n",
        "\n",
        "\n",
        "  axes[0].plot(X, P_X)  # X에 대한 확률 값 그래프\n",
        "  axes[1].plot(X, F_X)  # X에 대한 누적 값 그래프\n",
        "  axes[0].set_xlim(-5,8) # x 범위조절\n",
        "  axes[1].set_xlim(-5,8) # x 범위조절\n",
        "axes[0].legend(stds) # 라벨\n",
        "axes[1].legend(stds)"
      ],
      "metadata": {
        "id": "ar0jleVqaquI",
        "colab": {
          "base_uri": "https://localhost:8080/",
          "height": 320
        },
        "outputId": "9c4e0ab9-c05c-4fd1-9f92-fa126ec007a1"
      },
      "execution_count": 27,
      "outputs": [
        {
          "output_type": "display_data",
          "data": {
            "text/plain": [
              "<Figure size 720x360 with 2 Axes>"
            ],
            "image/png": "[encoded data removed]"
          },
          "metadata": {
            "needs_background": "light"
          }
        }
      ]
    },
    {
      "cell_type": "markdown",
      "source": [
        "#### **예제 03. 손의 길이**\n",
        "\n",
        "성인 손의 길이의 평균은 15.2cm 이고 표준편차는 2.5cm를 따른다고 합니다. 1000명을 표본으로 뽑고 히스토 그램을 그리세요."
      ],
      "metadata": {
        "id": "IM5omP40m7QE"
      }
    },
    {
      "cell_type": "code",
      "source": [
        "mu, std = 15.2, 2.5\n",
        "norm = sp.stats.norm(mu, std)\n",
        "rvs = norm.rvs(1000)\n",
        "\n",
        "_ = plt.hist(rvs)"
      ],
      "metadata": {
        "id": "Ogc5cyhtnIuA",
        "colab": {
          "base_uri": "https://localhost:8080/",
          "height": 265
        },
        "outputId": "2f7d930f-f64c-4a6e-dfac-298ba55597d2"
      },
      "execution_count": 8,
      "outputs": [
        {
          "output_type": "display_data",
          "data": {
            "text/plain": [
              "<Figure size 432x288 with 1 Axes>"
            ],
            "image/png": "[encoded data removed]"
          },
          "metadata": {
            "needs_background": "light"
          }
        }
      ]
    },
    {
      "cell_type": "markdown",
      "source": [
        "### **| 지수 분포**\n",
        "\n",
        "\\begin{cases}\\lambda e^{-\\lambda x}&x\\geq 0\\\\0&x<0\\end{cases}\n",
        "**λ는 빈도를 나타내는 모수**\n",
        "\n",
        "---\n",
        "\n"
      ],
      "metadata": {
        "id": "uPLNgCcjAfGG"
      }
    },
    {
      "cell_type": "code",
      "source": [
        "# lamnda 값 설정 (5일에 4번 커피를 한번 먹는 민수)\n",
        "# 하루동안 커피를 먹을 확률 : 4/5\n",
        "# 한달 동안이면 4/5*30\n",
        "lam = 0.8*30\n",
        "X = np.linspace(0, 1, 30)\n",
        "\n",
        "def f(x) :\n",
        "  if x >= 0 :\n",
        "    return lam * np.exp(-lam*x)\n",
        "  else :\n",
        "    return 0\n",
        "\n",
        "P = list(map(f,X))\n",
        "F_P = np.cumsum(P)\n",
        "\n",
        "plt.plot(P, color = 'green')\n",
        "plt.plot(F_P, color = 'blue')\n",
        "plt.grid()\n",
        "plt.show()\n"
      ],
      "metadata": {
        "colab": {
          "base_uri": "https://localhost:8080/",
          "height": 265
        },
        "id": "vKn6p5F1CMKL",
        "outputId": "fe59443d-e587-41f4-87ed-09adf7afdb5b"
      },
      "execution_count": 29,
      "outputs": [
        {
          "output_type": "display_data",
          "data": {
            "text/plain": [
              "<Figure size 432x288 with 1 Axes>"
            ],
            "image/png": "[encoded data removed]"
          },
          "metadata": {
            "needs_background": "light"
          }
        }
      ]
    },
    {
      "cell_type": "markdown",
      "source": [
        "### **| 카이제곱 분포**\n",
        "\n",
        "\\begin{align}\n",
        "\\chi^2(x; \\nu) = \\frac{x^{(\\nu/2-1)} e^{-x/2}}{2^{\\nu/2} \\Gamma\\left(\\frac{\\nu}{2}\\right)}\n",
        "\\end{align}\n",
        "\n",
        "```\n",
        "sp.stats.chi2(df=df)\n",
        "```"
      ],
      "metadata": {
        "id": "3-ZZ9iGbgpQN"
      }
    },
    {
      "cell_type": "code",
      "source": [
        "df = 2  # k개의 서로 독립적인 표준정규 확률변수를 각각 제곱한 다음 합해서 얻어지는 분포이다. 이 때 k를 자유도라고 하며, 카이제곱 분포의 매개변수가 된다.\n",
        "X = np.linspace(0,20,201)\n",
        "Y = sp.stats.chi2(df).pdf(X)"
      ],
      "metadata": {
        "id": "RU7CmupYgpQN"
      },
      "execution_count": 10,
      "outputs": []
    },
    {
      "cell_type": "markdown",
      "source": [
        "* 확률 분포\n"
      ],
      "metadata": {
        "id": "PCozJCXVgpQN"
      }
    },
    {
      "cell_type": "code",
      "source": [
        "plt.plot(X,Y)\n",
        "plt.xlabel('X')\n",
        "plt.ylabel('P(X)')\n",
        "plt.title(f'$\\chi^2$ Distribution (df = {df})')\n",
        "plt.grid()\n",
        "plt.show()"
      ],
      "metadata": {
        "id": "s3y8Xi8ugpQN",
        "colab": {
          "base_uri": "https://localhost:8080/",
          "height": 299
        },
        "outputId": "9d9cd177-3fd4-4ec8-9edd-143e2936ac6a"
      },
      "execution_count": 11,
      "outputs": [
        {
          "output_type": "display_data",
          "data": {
            "text/plain": [
              "<Figure size 432x288 with 1 Axes>"
            ],
            "image/png": "[encoded data removed]"
          },
          "metadata": {
            "needs_background": "light"
          }
        }
      ]
    },
    {
      "cell_type": "markdown",
      "source": [
        "* 누적 확률 분포\n"
      ],
      "metadata": {
        "id": "Q2KLFkCkgpQO"
      }
    },
    {
      "cell_type": "code",
      "source": [
        "Y = sp.stats.chi2(df).cdf(X)\n",
        "plt.plot(X,Y)\n",
        "plt.grid()\n",
        "plt.show()"
      ],
      "metadata": {
        "id": "Ga1U8gwjgpQO",
        "colab": {
          "base_uri": "https://localhost:8080/",
          "height": 265
        },
        "outputId": "f04e32aa-cb37-4699-d08c-6b9b209bd638"
      },
      "execution_count": 12,
      "outputs": [
        {
          "output_type": "display_data",
          "data": {
            "text/plain": [
              "<Figure size 432x288 with 1 Axes>"
            ],
            "image/png": "[encoded data removed]"
          },
          "metadata": {
            "needs_background": "light"
          }
        }
      ]
    },
    {
      "cell_type": "markdown",
      "source": [
        "* 표본 추출\n"
      ],
      "metadata": {
        "id": "zlxOZPKVn78e"
      }
    },
    {
      "cell_type": "code",
      "source": [
        "Y = sp.stats.chi2(df)\n",
        "rvs = Y.rvs(100, random_state=0)\n",
        "plt.hist(rvs)\n",
        "plt.grid()\n",
        "plt.show()"
      ],
      "metadata": {
        "id": "RXHpaI2Cn78f",
        "colab": {
          "base_uri": "https://localhost:8080/",
          "height": 265
        },
        "outputId": "fdbd4847-d621-4d09-af3d-ede5c897b28e"
      },
      "execution_count": 13,
      "outputs": [
        {
          "output_type": "display_data",
          "data": {
            "text/plain": [
              "<Figure size 432x288 with 1 Axes>"
            ],
            "image/png": "[encoded data removed]"
          },
          "metadata": {
            "needs_background": "light"
          }
        }
      ]
    },
    {
      "cell_type": "markdown",
      "source": [
        "#### **예제 01. 파라미터 변경-자유도**\n",
        "\n",
        "* 자유도(df) 값이 각각 `1,2,3,4`인 카이제곱분포와 누적 확률 분포를 그리세요."
      ],
      "metadata": {
        "id": "zPzWqeCThJss"
      }
    },
    {
      "cell_type": "code",
      "source": [
        "dfs = [1,2,3,4]\n",
        "X = np.linspace(-10,10,100)\n",
        "for df in dfs:\n",
        "  Y = sp.stats.chi2(df)\n",
        "  plt.subplot(1,2,1)\n",
        "  plt.plot(Y.pdf(X))\n",
        "  plt.legend(dfs)\n",
        "  plt.title(f'$\\chi^2$ Distribution')\n",
        "  plt.subplot(1,2,2)\n",
        "  plt.plot(Y.cdf(X))\n",
        "  plt.legend(dfs)\n",
        "  plt.title(f'$\\chi^2$ c.d.f')\n",
        "  plt.grid()\n",
        "plt.show()"
      ],
      "metadata": {
        "id": "oLJOwFs0hJss",
        "colab": {
          "base_uri": "https://localhost:8080/",
          "height": 285
        },
        "outputId": "e56ed3cb-c16b-41e8-e046-53ef8feec5a4"
      },
      "execution_count": 14,
      "outputs": [
        {
          "output_type": "display_data",
          "data": {
            "text/plain": [
              "<Figure size 432x288 with 2 Axes>"
            ],
            "image/png": "[encoded data removed]"
          },
          "metadata": {
            "needs_background": "light"
          }
        }
      ]
    },
    {
      "cell_type": "markdown",
      "source": [
        "### **| 감마분포**\n",
        "\n",
        "\\begin{align}\n",
        "\\text{Gam}(x;a,b) = \\frac{1}{\\Gamma(a)} b^a x^{a-1}e^{-bx}\n",
        "\\end{align}\n",
        "\n",
        "```\n",
        "sp.stats.gamma(a=a, b=1)\n",
        "```"
      ],
      "metadata": {
        "id": "I4cJJ7BikOwC"
      }
    },
    {
      "cell_type": "markdown",
      "source": [
        "Gam(x;k,Θ)\n",
        "\n",
        "k = 형상모수, (k > 0)\n",
        "Θ = 척도모수, (Θ > 0)"
      ],
      "metadata": {
        "id": "E-z70DwC5qss"
      }
    },
    {
      "cell_type": "code",
      "source": [
        "# k=1,Θ =1/lambda }는 지수 분포가 된다.\n",
        "a1 = [1,2,4,8]\n",
        "b = 1\n",
        "X = np.linspace(-10,20,100)\n",
        "\n",
        "for a in a1 :\n",
        "  Y = sp.stats.gamma(a,b)"
      ],
      "metadata": {
        "id": "ai3TmH9kkOwC"
      },
      "execution_count": 15,
      "outputs": []
    },
    {
      "cell_type": "markdown",
      "source": [
        "* 확률 분포"
      ],
      "metadata": {
        "id": "NcMJTjsZkOwC"
      }
    },
    {
      "cell_type": "code",
      "source": [
        "for a in a1 :\n",
        "  Y = sp.stats.gamma(a,b)\n",
        "  plt.plot(Y.pdf(X))\n",
        "  plt.legend(a1)\n",
        "  plt.title('Gamma distribution / p.d.f')\n",
        "  plt.xlim(0,100)\n",
        "  plt.grid()"
      ],
      "metadata": {
        "id": "NzelXp2kkOwC",
        "colab": {
          "base_uri": "https://localhost:8080/",
          "height": 281
        },
        "outputId": "1e6ed569-7c27-43cf-87c7-700d6268dcb2"
      },
      "execution_count": 16,
      "outputs": [
        {
          "output_type": "display_data",
          "data": {
            "text/plain": [
              "<Figure size 432x288 with 1 Axes>"
            ],
            "image/png": "[encoded data removed]"
          },
          "metadata": {
            "needs_background": "light"
          }
        }
      ]
    },
    {
      "cell_type": "markdown",
      "source": [
        "* 누적 확률 분포\n"
      ],
      "metadata": {
        "id": "YpsnR4AMkOwD"
      }
    },
    {
      "cell_type": "code",
      "source": [
        "for a in a1 :\n",
        "  Y = sp.stats.gamma(a,b)\n",
        "  plt.plot(Y.cdf(X))\n",
        "  plt.legend(a1)\n",
        "  plt.title('Gamma distribution c.d.f')\n",
        "  plt.xlim(0,100)\n",
        "  plt.grid()"
      ],
      "metadata": {
        "id": "6xuAfh80kOwD",
        "colab": {
          "base_uri": "https://localhost:8080/",
          "height": 281
        },
        "outputId": "24ea2929-a170-405f-a320-a8ac96016050"
      },
      "execution_count": 17,
      "outputs": [
        {
          "output_type": "display_data",
          "data": {
            "text/plain": [
              "<Figure size 432x288 with 1 Axes>"
            ],
            "image/png": "[encoded data removed]"
          },
          "metadata": {
            "needs_background": "light"
          }
        }
      ]
    },
    {
      "cell_type": "markdown",
      "source": [
        "* 표본 추출"
      ],
      "metadata": {
        "id": "sapQZAdtoYSX"
      }
    },
    {
      "cell_type": "code",
      "source": [
        "rvs = Y.rvs(100)\n",
        "_=plt.hist(rvs)"
      ],
      "metadata": {
        "id": "jxd1q3o_oYSY",
        "colab": {
          "base_uri": "https://localhost:8080/",
          "height": 265
        },
        "outputId": "faf2458c-d0f1-4036-9a21-2d5f935139d4"
      },
      "execution_count": 18,
      "outputs": [
        {
          "output_type": "display_data",
          "data": {
            "text/plain": [
              "<Figure size 432x288 with 1 Axes>"
            ],
            "image/png": "[encoded data removed]"
          },
          "metadata": {
            "needs_background": "light"
          }
        }
      ]
    },
    {
      "cell_type": "markdown",
      "source": [
        "#### **예제 01. 파라미터 변경-a**\n",
        "\n",
        "* a 값이 각각 `1,2,4,8`인 감마 분포와 누적 확률 분포를 그리세요."
      ],
      "metadata": {
        "id": "BxtZ4WMcmb_r"
      }
    },
    {
      "cell_type": "markdown",
      "source": [
        "## 이산형 확률 분포\n",
        "---"
      ],
      "metadata": {
        "id": "u_bkL0sQxRLB"
      }
    },
    {
      "cell_type": "markdown",
      "source": [
        "### |  **베르누이 분포**\n",
        "\n",
        "\\begin{split}\n",
        "\\begin{align}\n",
        "\\text{Bern}(x;\\mu) = \n",
        "\\begin{cases} \n",
        "\\mu   & \\text{if }x=1, \\\\\n",
        "1-\\mu & \\text{if }x=0\n",
        "\\end{cases}\n",
        "\\end{align}\n",
        "\\end{split}\n",
        "\n",
        "* 기본사용\n",
        "\n",
        "```\n",
        "mu = 0.5\n",
        "rv = sp.stats.bernoulli(mu)\n",
        "```"
      ],
      "metadata": {
        "id": "DZR4Ztbb2Hi_"
      }
    },
    {
      "cell_type": "code",
      "source": [
        ""
      ],
      "metadata": {
        "id": "IWbIlD-p2HrT"
      },
      "execution_count": 18,
      "outputs": []
    },
    {
      "cell_type": "markdown",
      "source": [
        "* 확률 분포\n"
      ],
      "metadata": {
        "id": "yBSPcMFQ21KV"
      }
    },
    {
      "cell_type": "code",
      "source": [
        ""
      ],
      "metadata": {
        "id": "iAeMmd4U2bsO"
      },
      "execution_count": 18,
      "outputs": []
    },
    {
      "cell_type": "markdown",
      "source": [
        "* 누적 확률 분포\n"
      ],
      "metadata": {
        "id": "5SxoR2Zx8md8"
      }
    },
    {
      "cell_type": "code",
      "source": [
        ""
      ],
      "metadata": {
        "id": "K60MYhgC8md9"
      },
      "execution_count": 18,
      "outputs": []
    },
    {
      "cell_type": "markdown",
      "source": [
        "* 표본 추출"
      ],
      "metadata": {
        "id": "rJYDT6oQ2ttl"
      }
    },
    {
      "cell_type": "code",
      "source": [
        ""
      ],
      "metadata": {
        "id": "SInJdkhz2Tnu"
      },
      "execution_count": 18,
      "outputs": []
    },
    {
      "cell_type": "markdown",
      "source": [
        "#### **예제 01. 동전 던지기**\n",
        "\n",
        "동전을 던져서 앞면이 나온 확률\n",
        "\n"
      ],
      "metadata": {
        "id": "u2x8LQa74A_V"
      }
    },
    {
      "cell_type": "code",
      "source": [
        ""
      ],
      "metadata": {
        "id": "2ZzCyh9q3O7D"
      },
      "execution_count": 18,
      "outputs": []
    },
    {
      "cell_type": "markdown",
      "source": [
        "#### **예제 02. 주사위 굴리기**\n",
        "\n",
        "주사위 던져서 6이 나온 확률\n"
      ],
      "metadata": {
        "id": "SdLG6-us4Ws9"
      }
    },
    {
      "cell_type": "code",
      "source": [
        ""
      ],
      "metadata": {
        "id": "HUuwegja4Ws-"
      },
      "execution_count": 18,
      "outputs": []
    },
    {
      "cell_type": "markdown",
      "source": [
        "#### **예제 03. 같은 생일**\n",
        "\n",
        "두 사람의 생일 월(月)이 같을 확률\n"
      ],
      "metadata": {
        "id": "zbGZCly_4cok"
      }
    },
    {
      "cell_type": "code",
      "source": [
        ""
      ],
      "metadata": {
        "id": "674nneQn4cok"
      },
      "execution_count": 18,
      "outputs": []
    },
    {
      "cell_type": "markdown",
      "source": [
        "#### **예제 04. 주머니 공**\n",
        "주머니에 5개의 공이 들어있고 3개는 빨강, 2개는 하양이다. 공 2개를 뽑았을 때 색깔이 모두 다를 확률은?"
      ],
      "metadata": {
        "id": "7q4TvtJM45nM"
      }
    },
    {
      "cell_type": "code",
      "source": [
        ""
      ],
      "metadata": {
        "id": "McDZjQD845nS"
      },
      "execution_count": 18,
      "outputs": []
    },
    {
      "cell_type": "markdown",
      "source": [
        "### |  **이항분포**\n",
        "\n",
        "\\begin{align}\n",
        "\\text{Bin}(x;N,\\mu) = \\binom N x \\; \\mu^x(1-\\mu)^{N-x}\n",
        "\\end{align}\n",
        "\n",
        "\n",
        "```\n",
        "sp.stats.binom(N, mu)\n",
        "```"
      ],
      "metadata": {
        "id": "qvyEmd6IxTQq"
      }
    },
    {
      "cell_type": "code",
      "source": [
        ""
      ],
      "metadata": {
        "id": "zzxF40t6XjoK"
      },
      "execution_count": 18,
      "outputs": []
    },
    {
      "cell_type": "markdown",
      "source": [
        "* 확률 분포\n"
      ],
      "metadata": {
        "id": "Ae04eAmT6uKh"
      }
    },
    {
      "cell_type": "code",
      "source": [
        ""
      ],
      "metadata": {
        "id": "aUNhvBEO6uKh"
      },
      "execution_count": 18,
      "outputs": []
    },
    {
      "cell_type": "markdown",
      "source": [
        "* 누적 확률  분포"
      ],
      "metadata": {
        "id": "c78f-pb4fga9"
      }
    },
    {
      "cell_type": "code",
      "source": [
        ""
      ],
      "metadata": {
        "id": "liw4-4MJfhQl"
      },
      "execution_count": 18,
      "outputs": []
    },
    {
      "cell_type": "markdown",
      "source": [
        "* 확률 변수 표본 추출\n"
      ],
      "metadata": {
        "id": "BfFaFXrz6uKb"
      }
    },
    {
      "cell_type": "code",
      "source": [
        ""
      ],
      "metadata": {
        "id": "Y-wueBTg6uKh"
      },
      "execution_count": 18,
      "outputs": []
    },
    {
      "cell_type": "markdown",
      "source": [
        "#### **예제 01. 동전 던지기**\n",
        "\n",
        "* 동전을 1번 던졌을 때 앞면이 나온 횟수의 확률분포\n",
        "\n"
      ],
      "metadata": {
        "id": "mfOJS2Ij63lL"
      }
    },
    {
      "cell_type": "code",
      "source": [
        ""
      ],
      "metadata": {
        "id": "iIZ2aPI90p0_"
      },
      "execution_count": 18,
      "outputs": []
    },
    {
      "cell_type": "markdown",
      "source": [
        "* 동전을 10번 던졌을 때 앞면이 나온 횟수의 확률분포\n"
      ],
      "metadata": {
        "id": "Dl3kr5v5aN2R"
      }
    },
    {
      "cell_type": "code",
      "source": [
        ""
      ],
      "metadata": {
        "id": "lLX3TRHMaGFI"
      },
      "execution_count": 18,
      "outputs": []
    },
    {
      "cell_type": "markdown",
      "source": [
        "#### **예제 02. 주사위 굴리기**\n",
        "\n",
        "* 주사위를 1번 던져서 짝수가 나온 횟수의 분포"
      ],
      "metadata": {
        "id": "BgCrd71ay0xo"
      }
    },
    {
      "cell_type": "code",
      "source": [
        ""
      ],
      "metadata": {
        "id": "FGt6Yv-hy0xp"
      },
      "execution_count": 18,
      "outputs": []
    },
    {
      "cell_type": "markdown",
      "source": [
        "* 주사위를 6번 던져서 짝수가 나온 횟수의 분포"
      ],
      "metadata": {
        "id": "pQfzCX3C1O7e"
      }
    },
    {
      "cell_type": "code",
      "source": [
        ""
      ],
      "metadata": {
        "id": "dLTDN71b1O7f"
      },
      "execution_count": 18,
      "outputs": []
    },
    {
      "cell_type": "markdown",
      "source": [
        "* 주사위를 20번 던져서 짝수가 나온 횟수의 분포"
      ],
      "metadata": {
        "id": "fYk90ripZv-p"
      }
    },
    {
      "cell_type": "code",
      "source": [
        ""
      ],
      "metadata": {
        "id": "BBKpHijjZv-u"
      },
      "execution_count": 18,
      "outputs": []
    },
    {
      "cell_type": "markdown",
      "source": [
        "* 주사위를 1번 던져서 6이 나온 횟수의 분포"
      ],
      "metadata": {
        "id": "vTgdAm2_yFfp"
      }
    },
    {
      "cell_type": "code",
      "source": [
        ""
      ],
      "metadata": {
        "id": "BjL3tbaPxycR"
      },
      "execution_count": 18,
      "outputs": []
    },
    {
      "cell_type": "markdown",
      "source": [
        "* 주사위를 6번 던져서 6이 나온 횟수의 분포"
      ],
      "metadata": {
        "id": "yugdY-bMyf9w"
      }
    },
    {
      "cell_type": "code",
      "source": [
        ""
      ],
      "metadata": {
        "id": "5tOC9IWYyf9w"
      },
      "execution_count": 18,
      "outputs": []
    },
    {
      "cell_type": "markdown",
      "source": [
        "* 주사위를 20번 던져서 6이 나온 횟수의 분포"
      ],
      "metadata": {
        "id": "C2uBhXRr8ACU"
      }
    },
    {
      "cell_type": "code",
      "source": [
        ""
      ],
      "metadata": {
        "id": "Ylmr1SNR8ACU"
      },
      "execution_count": 18,
      "outputs": []
    },
    {
      "cell_type": "markdown",
      "source": [
        "### **| 카테고리 확률분포**\n",
        "\n",
        "\\begin{split} \n",
        "\\begin{align}\n",
        "\\text{Cat}(x;\\mu) = \n",
        "\\begin{cases}\n",
        "\\mu_1 & \\text{if } x = (1, 0, 0, \\cdots, 0) \\\\\n",
        "\\mu_2 & \\text{if } x = (0, 1, 0, \\cdots, 0) \\\\\n",
        "\\mu_3 & \\text{if } x = (0, 0, 1, \\cdots, 0) \\\\\n",
        "\\vdots & \\vdots \\\\\n",
        "\\mu_K & \\text{if } x = (0, 0, 0, \\cdots, 1) \\\\\n",
        "\\end{cases}\n",
        "\\end{align}\n",
        "\\end{split}\n",
        "\n",
        "\n",
        "```\n",
        "sp.stats.multinomial(1, mu)\n",
        "```"
      ],
      "metadata": {
        "id": "80kMNBkH_zez"
      }
    },
    {
      "cell_type": "code",
      "source": [
        ""
      ],
      "metadata": {
        "id": "uU5fIlSRABLp"
      },
      "execution_count": 18,
      "outputs": []
    },
    {
      "cell_type": "markdown",
      "source": [
        "* 확률 분포\n"
      ],
      "metadata": {
        "id": "NPVTGlV3QkX3"
      }
    },
    {
      "cell_type": "code",
      "source": [
        ""
      ],
      "metadata": {
        "id": "rl4lQtsdQkX3"
      },
      "execution_count": 18,
      "outputs": []
    },
    {
      "cell_type": "markdown",
      "source": [
        "* 표본 추출\n"
      ],
      "metadata": {
        "id": "B0fGcCvTACrJ"
      }
    },
    {
      "cell_type": "code",
      "source": [
        ""
      ],
      "metadata": {
        "id": "7pIEzR11ACrK"
      },
      "execution_count": 18,
      "outputs": []
    },
    {
      "cell_type": "markdown",
      "source": [
        "#### **예제 01.공정하지 않은 주사위**\n",
        "\n",
        "* 주사위의 짝수 면이 나올 확률이 홀수 면이 나올 확률의 2배일 때 확률분포를 그래세요."
      ],
      "metadata": {
        "id": "qTi5CXlcVkgb"
      }
    },
    {
      "cell_type": "code",
      "source": [
        ""
      ],
      "metadata": {
        "id": "j9LKA4bcVkgh"
      },
      "execution_count": 18,
      "outputs": []
    },
    {
      "cell_type": "markdown",
      "source": [
        "#### **예제 02. 주머니 공**\n",
        "\n",
        "주머니 안에 빨간색 5개, 노란색, 3개 초록색 2개 공이 들어 있을 때 공 한개를 뽑을 때 나오는 색깔의 확률 분포를 그리세요."
      ],
      "metadata": {
        "id": "4sA7w4hPPDR3"
      }
    },
    {
      "cell_type": "code",
      "source": [
        ""
      ],
      "metadata": {
        "id": "KY8dsIRHPbXm"
      },
      "execution_count": 18,
      "outputs": []
    },
    {
      "cell_type": "markdown",
      "source": [
        "#### **예제 03. 선호 자리**\n",
        "\n",
        "교실에 5개의 자리가 있고 학생이 x번째 자리에 앉을 확률이 $f(X=x)=\\frac{1}{2^{(x+1)}}$ 로 주어졌습니다. 확률 분포를 그리세요."
      ],
      "metadata": {
        "id": "nY1r7_HTXbAM"
      }
    },
    {
      "cell_type": "code",
      "source": [
        ""
      ],
      "metadata": {
        "id": "1cbAe4SvXbAM"
      },
      "execution_count": 18,
      "outputs": []
    }
  ]
}