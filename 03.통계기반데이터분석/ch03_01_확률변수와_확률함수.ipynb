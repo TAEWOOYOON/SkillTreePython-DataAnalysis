{
  "nbformat": 4,
  "nbformat_minor": 0,
  "metadata": {
    "colab": {
      "name": "ch03_01_확률변수와_확률함수.ipynb",
      "provenance": [],
      "collapsed_sections": []
    },
    "kernelspec": {
      "name": "python3",
      "display_name": "Python 3"
    },
    "language_info": {
      "name": "python"
    }
  },
  "cells": [
    {
      "cell_type": "markdown",
      "metadata": {
        "id": "view-in-github"
      },
      "source": [
        "<a href=\"https://colab.research.google.com/github/yebiny/SkillTreePython-DataAnalysis/blob/main/03.%ED%86%B5%EA%B3%84%EA%B8%B0%EB%B0%98%EB%8D%B0%EC%9D%B4%ED%84%B0%EB%B6%84%EC%84%9D/ch03_01_%ED%99%95%EB%A5%A0%EB%B3%80%EC%88%98%EC%99%80_%ED%99%95%EB%A5%A0%ED%95%A8%EC%88%98.ipynb\" target=\"_parent\"><img src=\"https://colab.research.google.com/assets/colab-badge.svg\" alt=\"Open In Colab\"/></a>"
      ]
    },
    {
      "cell_type": "markdown",
      "source": [
        "# ch03.01. 확률 변수와 확률 함수\n",
        "---\n",
        "* 날짜: 2022.05.04\n",
        "* 이름: 윤태우\n",
        "\n",
        "## 학습내용\n",
        "    - 실험 (Experiment) : 데이터셋을 생성하는 모든 프로세스 \n",
        "    - 표본 공간 (Sample space): 실험에서 도출되는 모든 결과를 포함하는 공간\n",
        "    - 사건 (Event) : 표본 공간 S의 부분집합\n",
        "    - 확률 변수 (Random variable) : 표본공간의 모든 요소를 실수로 매핑하는 함수\n",
        "    - 확률 함수 (Probability function) : 확률을 매핑하는 함수"
      ],
      "metadata": {
        "id": "wWpXZc2fi39U"
      }
    },
    {
      "cell_type": "code",
      "execution_count": null,
      "metadata": {
        "id": "ASwbQ96XXSib"
      },
      "outputs": [],
      "source": [
        ""
      ]
    },
    {
      "cell_type": "markdown",
      "source": [
        "#### **예제 01. 공정한 주사위**\n",
        "\n"
      ],
      "metadata": {
        "id": "82a3GtBCNjto"
      }
    },
    {
      "cell_type": "markdown",
      "source": [
        "* 확률변수가 '주사위를 굴려 나온 눈의 값' 일 때, 확률변수 $X$를 정의하세요."
      ],
      "metadata": {
        "id": "1ACJgMN1N3Jn"
      }
    },
    {
      "cell_type": "code",
      "source": [
        "X = [1,2,3,4,5,6]  # 벡터"
      ],
      "metadata": {
        "id": "i0hS4O76OIFP"
      },
      "execution_count": 27,
      "outputs": []
    },
    {
      "cell_type": "markdown",
      "source": [
        "* 주사위의 모든 면이 '공정' 할 때, 확률 질량 함수 $P$를 정의하세요."
      ],
      "metadata": {
        "id": "uP4JqP4lOMnW"
      }
    },
    {
      "cell_type": "code",
      "source": [
        "def P(x) : \n",
        "  if 1 <= x <= 6:\n",
        "    return 1/6\n",
        "  else :\n",
        "    0\n",
        "P_X = list(map(P,X))\n",
        "print(P_X)"
      ],
      "metadata": {
        "id": "pWiNfRAoi2oU",
        "colab": {
          "base_uri": "https://localhost:8080/"
        },
        "outputId": "6e89587a-062a-4281-c605-409cff16b20d"
      },
      "execution_count": 28,
      "outputs": [
        {
          "output_type": "stream",
          "name": "stdout",
          "text": [
            "[0.16666666666666666, 0.16666666666666666, 0.16666666666666666, 0.16666666666666666, 0.16666666666666666, 0.16666666666666666]\n"
          ]
        }
      ]
    },
    {
      "cell_type": "markdown",
      "source": [
        "* 확률 분포를 그리세요."
      ],
      "metadata": {
        "id": "YT_NwyHEOZpQ"
      }
    },
    {
      "cell_type": "code",
      "source": [
        "import matplotlib.pyplot as plt\n",
        "import numpy as np\n",
        "plt.bar(X,P_X)\n",
        "print(sum(P_X))"
      ],
      "metadata": {
        "id": "PPNa5Kpim7Bx",
        "colab": {
          "base_uri": "https://localhost:8080/",
          "height": 283
        },
        "outputId": "5fbf9c88-dbe3-4b31-ee46-2f618e3b090b"
      },
      "execution_count": 33,
      "outputs": [
        {
          "output_type": "stream",
          "name": "stdout",
          "text": [
            "0.9999999999999999\n"
          ]
        },
        {
          "output_type": "display_data",
          "data": {
            "text/plain": [
              "<Figure size 432x288 with 1 Axes>"
            ],
            "image/png": "[encoded data removed]"
          },
          "metadata": {
            "needs_background": "light"
          }
        }
      ]
    },
    {
      "cell_type": "markdown",
      "source": [
        "* 누적 확률 분포를 그리세요."
      ],
      "metadata": {
        "id": "u5_TJcvKOmjn"
      }
    },
    {
      "cell_type": "code",
      "source": [
        "F_X = np.cumsum(P_X)\n",
        "print(F_X)\n",
        "plt.title('c.d.f') # 누적 밀도 함수 -> 연속형 분포 (p.d.f)        (여기선 그냥 그려보는것)\n",
        "plt.plot(X, F_X, marker = 'o')"
      ],
      "metadata": {
        "id": "JjzXLhk9rpyv",
        "colab": {
          "base_uri": "https://localhost:8080/",
          "height": 318
        },
        "outputId": "a0453aa8-d35c-4679-9f4a-8568f85ebbfa"
      },
      "execution_count": 34,
      "outputs": [
        {
          "output_type": "stream",
          "name": "stdout",
          "text": [
            "[0.16666667 0.33333333 0.5        0.66666667 0.83333333 1.        ]\n"
          ]
        },
        {
          "output_type": "execute_result",
          "data": {
            "text/plain": [
              "[<matplotlib.lines.Line2D at 0x7ff9be09ee50>]"
            ]
          },
          "metadata": {},
          "execution_count": 34
        },
        {
          "output_type": "display_data",
          "data": {
            "text/plain": [
              "<Figure size 432x288 with 1 Axes>"
            ],
            "image/png": "[encoded data removed]"
          },
          "metadata": {
            "needs_background": "light"
          }
        }
      ]
    },
    {
      "cell_type": "markdown",
      "source": [
        "#### **예제 02. 동전 두번 던지기**\n"
      ],
      "metadata": {
        "id": "aaiN5uQHVCe7"
      }
    },
    {
      "cell_type": "markdown",
      "source": [
        "* 확률변수가 '앞면이 나온 횟수' 일 때, 확률변수 $X$를 정의하세요."
      ],
      "metadata": {
        "id": "EmhyKeQ1VCe8"
      }
    },
    {
      "cell_type": "code",
      "source": [
        ""
      ],
      "metadata": {
        "id": "scnOXxGQVCe8"
      },
      "execution_count": null,
      "outputs": []
    },
    {
      "cell_type": "markdown",
      "source": [
        "* 확률 질량 함수를 정의하세요."
      ],
      "metadata": {
        "id": "0DKjpoFLVCe8"
      }
    },
    {
      "cell_type": "code",
      "source": [
        ""
      ],
      "metadata": {
        "id": "oqqQDpWsVCe8"
      },
      "execution_count": null,
      "outputs": []
    },
    {
      "cell_type": "markdown",
      "source": [
        "* 확률 분포를 그리세요."
      ],
      "metadata": {
        "id": "9R9x4M08VCe9"
      }
    },
    {
      "cell_type": "code",
      "source": [
        ""
      ],
      "metadata": {
        "id": "1WUTddGpVCe9"
      },
      "execution_count": null,
      "outputs": []
    },
    {
      "cell_type": "markdown",
      "source": [
        "* 누적 확률 분포를 그리세요."
      ],
      "metadata": {
        "id": "uWoDJPIlVCe9"
      }
    },
    {
      "cell_type": "code",
      "source": [
        ""
      ],
      "metadata": {
        "id": "kkEvt6eNrlnX"
      },
      "execution_count": null,
      "outputs": []
    },
    {
      "cell_type": "markdown",
      "source": [
        "#### **예제 03. 화재 발생**\n"
      ],
      "metadata": {
        "id": "csb8tewGVmvb"
      }
    },
    {
      "cell_type": "markdown",
      "source": [
        "*  확률변수가 '1년간 발생한 화재건수' 일 때 $X$를 정의하세요."
      ],
      "metadata": {
        "id": "fFwyEMxkVmvh"
      }
    },
    {
      "cell_type": "code",
      "source": [
        "X = [i for i in range(11)]\n",
        "\n",
        "X1 = np.arange(11)"
      ],
      "metadata": {
        "id": "o-ZY6qYBVmvh"
      },
      "execution_count": 42,
      "outputs": []
    },
    {
      "cell_type": "markdown",
      "source": [
        "* 화재발생 확률이 다음과 같이 주어졌을 때 함수 $f$ 를 정의하세요.\n",
        "\n",
        "\\begin{align}\n",
        "f(X=x)=\\frac{1}{2^{(x+1)}}\n",
        "\\end{align}"
      ],
      "metadata": {
        "id": "YQa-1CopVmvh"
      }
    },
    {
      "cell_type": "code",
      "source": [
        "def f(x) :\n",
        "  y = 1/2**(x+1)\n",
        "  return y\n",
        " "
      ],
      "metadata": {
        "id": "Ez1kBPTTVmvh"
      },
      "execution_count": 9,
      "outputs": []
    },
    {
      "cell_type": "markdown",
      "source": [
        "* 확률 분포를 그리세요."
      ],
      "metadata": {
        "id": "9HAIHU1HVmvh"
      }
    },
    {
      "cell_type": "code",
      "source": [
        "P = list(map(f,X))\n",
        "\n",
        "P1 = list(map(f,X1))\n",
        "\n",
        "plt.subplot(1,2,1)\n",
        "plt.plot(P)\n",
        "plt.title('p.m.f (list)')\n",
        "plt.subplot(1,2,2)\n",
        "plt.title('p.m.f (array)')\n",
        "plt.plot(P1)\n",
        "plt.show()"
      ],
      "metadata": {
        "id": "NcO2LheUVmvi",
        "colab": {
          "base_uri": "https://localhost:8080/",
          "height": 281
        },
        "outputId": "6db3302f-b980-4aea-80c8-80ac5d77fc59"
      },
      "execution_count": 48,
      "outputs": [
        {
          "output_type": "display_data",
          "data": {
            "text/plain": [
              "<Figure size 432x288 with 2 Axes>"
            ],
            "image/png": "[encoded data removed]"
          },
          "metadata": {
            "needs_background": "light"
          }
        }
      ]
    },
    {
      "cell_type": "markdown",
      "source": [
        "* 누적 확률 분포를 그리세요."
      ],
      "metadata": {
        "id": "deIDtmURVmvi"
      }
    },
    {
      "cell_type": "code",
      "source": [
        "F_X = np.cumsum(P1)\n",
        "\n",
        "plt.plot(F_X)"
      ],
      "metadata": {
        "id": "L1lhlFfNVmvi",
        "colab": {
          "base_uri": "https://localhost:8080/",
          "height": 283
        },
        "outputId": "bd5b2868-18eb-4c41-9b1e-5ceb0b563ab9"
      },
      "execution_count": 50,
      "outputs": [
        {
          "output_type": "execute_result",
          "data": {
            "text/plain": [
              "[<matplotlib.lines.Line2D at 0x7ff9bdc2d4d0>]"
            ]
          },
          "metadata": {},
          "execution_count": 50
        },
        {
          "output_type": "display_data",
          "data": {
            "text/plain": [
              "<Figure size 432x288 with 1 Axes>"
            ],
            "image/png": "[encoded data removed]"
          },
          "metadata": {
            "needs_background": "light"
          }
        }
      ]
    },
    {
      "cell_type": "markdown",
      "source": [
        "#### **예제 04. 공정하지 않은 주사위**\n"
      ],
      "metadata": {
        "id": "JbMCXAgaOrw_"
      }
    },
    {
      "cell_type": "markdown",
      "source": [
        "* 확률변수가 '주사위를 굴려 나온 눈의 값' 일 때, 확률변수 $X$를 정의하세요."
      ],
      "metadata": {
        "id": "TFXEpuObOrxA"
      }
    },
    {
      "cell_type": "code",
      "source": [
        "X = [1,2,3,4,5,6]"
      ],
      "metadata": {
        "id": "k0267EHiOrxA"
      },
      "execution_count": 104,
      "outputs": []
    },
    {
      "cell_type": "markdown",
      "source": [
        "* 주사위의 짝수 면이 나올 확률이 홀수 면이 나올 확률의 2배일 때, 확률 질량 함수 $P$를 정의하세요."
      ],
      "metadata": {
        "id": "TWicXFFdOrxA"
      }
    },
    {
      "cell_type": "code",
      "source": [
        "# P(x % 2 == 0) -> P(x % 2 == 1)*2\n",
        "\n",
        "# 홀수 주사위눈이 나올 확률을 n 이라 했을때, 짝수는 2n 이다. 따라서\n",
        "n = 0\n",
        "for i in X :\n",
        "  if i % 2 == 1 :\n",
        "    n += 1\n",
        "  elif i % 2 == 0 :\n",
        "    n = n+2\n",
        "print(n)\n",
        "\n",
        "\n",
        "def p(x) :\n",
        "\n",
        "  if x % 2 == 1 :\n",
        "    return 1/9\n",
        "  else :\n",
        "    return 2/9\n",
        "\n",
        "P = list(map(p,X))\n",
        "print(P)"
      ],
      "metadata": {
        "id": "ir4IqIO9OrxA",
        "colab": {
          "base_uri": "https://localhost:8080/"
        },
        "outputId": "29e24ace-7d1a-4fd6-adde-c8e48e99448c"
      },
      "execution_count": 106,
      "outputs": [
        {
          "output_type": "stream",
          "name": "stdout",
          "text": [
            "9\n",
            "[0.1111111111111111, 0.2222222222222222, 0.1111111111111111, 0.2222222222222222, 0.1111111111111111, 0.2222222222222222]\n"
          ]
        }
      ]
    },
    {
      "cell_type": "markdown",
      "source": [
        "* 확률분포 를 그리세요."
      ],
      "metadata": {
        "id": "JOWFqozBOrxA"
      }
    },
    {
      "cell_type": "code",
      "source": [
        "plt.bar(X,P)"
      ],
      "metadata": {
        "id": "WfgOLsxbOrxA",
        "colab": {
          "base_uri": "https://localhost:8080/",
          "height": 283
        },
        "outputId": "e6c9199c-9ca2-4b29-88ad-8df37d041617"
      },
      "execution_count": 107,
      "outputs": [
        {
          "output_type": "execute_result",
          "data": {
            "text/plain": [
              "<BarContainer object of 6 artists>"
            ]
          },
          "metadata": {},
          "execution_count": 107
        },
        {
          "output_type": "display_data",
          "data": {
            "text/plain": [
              "<Figure size 432x288 with 1 Axes>"
            ],
            "image/png": "[encoded data removed]"
          },
          "metadata": {
            "needs_background": "light"
          }
        }
      ]
    },
    {
      "cell_type": "markdown",
      "source": [
        "* 누적 확률 분포를 그리세요."
      ],
      "metadata": {
        "id": "DivVdhyrOrxB"
      }
    },
    {
      "cell_type": "code",
      "source": [
        "F_X =  np.cumsum(P)\n",
        "plt.plot(F_X)"
      ],
      "metadata": {
        "id": "KHe2uMwmOrxB",
        "colab": {
          "base_uri": "https://localhost:8080/",
          "height": 283
        },
        "outputId": "4ec177d0-7e06-4b6d-fcab-ce90ab00efb0"
      },
      "execution_count": 108,
      "outputs": [
        {
          "output_type": "execute_result",
          "data": {
            "text/plain": [
              "[<matplotlib.lines.Line2D at 0x7ff9be241150>]"
            ]
          },
          "metadata": {},
          "execution_count": 108
        },
        {
          "output_type": "display_data",
          "data": {
            "text/plain": [
              "<Figure size 432x288 with 1 Axes>"
            ],
            "image/png": "[encoded data removed]"
          },
          "metadata": {
            "needs_background": "light"
          }
        }
      ]
    },
    {
      "cell_type": "markdown",
      "source": [
        "#### **예제 05. 주사위 두번 굴리기**\n"
      ],
      "metadata": {
        "id": "MkZcbqe2Xhmh"
      }
    },
    {
      "cell_type": "markdown",
      "source": [
        "* 확률변수가 '주사위를 두번 굴려 나온 눈의 합' 일 때, 확률변수 $X$를 정의하세요."
      ],
      "metadata": {
        "id": "D_JC-aFkXhmi"
      }
    },
    {
      "cell_type": "code",
      "source": [
        "X = [i for i in range(2,13)]"
      ],
      "metadata": {
        "id": "lg4_wfZNXhmi"
      },
      "execution_count": 76,
      "outputs": []
    },
    {
      "cell_type": "markdown",
      "source": [
        "*  확률 질량 함수 $P$ 를 정의하세요."
      ],
      "metadata": {
        "id": "9vdwsNYgXhmi"
      }
    },
    {
      "cell_type": "code",
      "source": [
        "def p(x) :\n",
        "  if x<=7 :\n",
        "    y = (x-1)/36\n",
        "    return y\n",
        "  else :\n",
        "    y = (13-x)/36\n",
        "    return y\n",
        "\n",
        "P = list(map(p,X))\n",
        "print(sum(P), P)"
      ],
      "metadata": {
        "id": "QbV0gd4tXhmi",
        "colab": {
          "base_uri": "https://localhost:8080/"
        },
        "outputId": "dd8bfbfa-a94d-4940-d777-af1034b0e8a0"
      },
      "execution_count": 82,
      "outputs": [
        {
          "output_type": "stream",
          "name": "stdout",
          "text": [
            "1.0000000000000002 [0.027777777777777776, 0.05555555555555555, 0.08333333333333333, 0.1111111111111111, 0.1388888888888889, 0.16666666666666666, 0.1388888888888889, 0.1111111111111111, 0.08333333333333333, 0.05555555555555555, 0.027777777777777776]\n"
          ]
        }
      ]
    },
    {
      "cell_type": "markdown",
      "source": [
        "* 확률 분포를 그리세요."
      ],
      "metadata": {
        "id": "dENmsSwIXhmi"
      }
    },
    {
      "cell_type": "code",
      "source": [
        "plt.bar(X,P)"
      ],
      "metadata": {
        "colab": {
          "base_uri": "https://localhost:8080/",
          "height": 283
        },
        "id": "3vAtp3699kWA",
        "outputId": "43c2f3e6-2d0b-43e1-c46a-ef3dd27bf585"
      },
      "execution_count": 156,
      "outputs": [
        {
          "output_type": "execute_result",
          "data": {
            "text/plain": [
              "<BarContainer object of 1000 artists>"
            ]
          },
          "metadata": {},
          "execution_count": 156
        },
        {
          "output_type": "display_data",
          "data": {
            "text/plain": [
              "<Figure size 432x288 with 1 Axes>"
            ],
            "image/png": "[encoded data removed]"
          },
          "metadata": {
            "needs_background": "light"
          }
        }
      ]
    },
    {
      "cell_type": "markdown",
      "source": [
        "* 누적 확률 분포를 그리세요."
      ],
      "metadata": {
        "id": "VWD3Q1jRXhmi"
      }
    },
    {
      "cell_type": "code",
      "source": [
        "F_P = np.cumsum(P)\n",
        "plt.plot(F_P)"
      ],
      "metadata": {
        "id": "4zuqckh3Xhmj",
        "colab": {
          "base_uri": "https://localhost:8080/",
          "height": 283
        },
        "outputId": "4d440eab-1c69-4e06-dd6d-8abde9d7257a"
      },
      "execution_count": 86,
      "outputs": [
        {
          "output_type": "execute_result",
          "data": {
            "text/plain": [
              "[<matplotlib.lines.Line2D at 0x7ff9bd975390>]"
            ]
          },
          "metadata": {},
          "execution_count": 86
        },
        {
          "output_type": "display_data",
          "data": {
            "text/plain": [
              "<Figure size 432x288 with 1 Axes>"
            ],
            "image/png": "[encoded data removed]"
          },
          "metadata": {
            "needs_background": "light"
          }
        }
      ]
    },
    {
      "cell_type": "markdown",
      "source": [
        "#### **예제 06. 손의 길이**\n"
      ],
      "metadata": {
        "id": "PkwoNqyoiQ8i"
      }
    },
    {
      "cell_type": "markdown",
      "source": [
        "* 확률변수가 '성인의 손 길이(cm)' 입니다. $X$를 10부터 20까지 1000개의 값으로 정의하세요."
      ],
      "metadata": {
        "id": "ZOyUQpNtiQ8o"
      }
    },
    {
      "cell_type": "code",
      "source": [
        "X = np.linspace(10,20,1000)"
      ],
      "metadata": {
        "id": "NIdnQlEaiQ8o"
      },
      "execution_count": 147,
      "outputs": []
    },
    {
      "cell_type": "markdown",
      "source": [
        "* 손 길이에 대한 확률이 다음과 같이 주어졌을 때 함수 $f$ 를 정의하세요. ($\\sigma$ = 1)\n",
        "\n",
        "\n",
        "\n",
        "\\begin{align}\n",
        " f(x)=\\frac{1}{\\sqrt{2\\pi}\\sigma}\\exp^{-\\frac{(x-15.2)^2}{2*\\sigma^2}}\n",
        "\\end{align}"
      ],
      "metadata": {
        "id": "gj2dFgBJiQ8o"
      }
    },
    {
      "cell_type": "code",
      "source": [
        "def f(x) :\n",
        "  import numpy as np\n",
        "  pi = np.pi\n",
        "  k = -((x-15.2)**2)/2\n",
        "  exp = np.exp(k)\n",
        "  y = (1/((2*pi)**0.5))*exp\n",
        "  return y"
      ],
      "metadata": {
        "id": "P4ytpN5giQ8o"
      },
      "execution_count": 148,
      "outputs": []
    },
    {
      "cell_type": "markdown",
      "source": [
        "* 확률 분포를 그리세요."
      ],
      "metadata": {
        "id": "y-d1Q_EdiQ8o"
      }
    },
    {
      "cell_type": "code",
      "source": [
        "P = list(map(f,X))\n",
        "\n",
        "plt.bar(X,P)\n",
        "print(sum(P))"
      ],
      "metadata": {
        "id": "F6y785cJiQ8o",
        "colab": {
          "base_uri": "https://localhost:8080/",
          "height": 283
        },
        "outputId": "bc8071b0-431f-4138-9ebc-4ea076a1efed"
      },
      "execution_count": 149,
      "outputs": [
        {
          "output_type": "stream",
          "name": "stdout",
          "text": [
            "99.8999130225711\n"
          ]
        },
        {
          "output_type": "display_data",
          "data": {
            "text/plain": [
              "<Figure size 432x288 with 1 Axes>"
            ],
            "image/png": "[encoded data removed]"
          },
          "metadata": {
            "needs_background": "light"
          }
        }
      ]
    },
    {
      "cell_type": "markdown",
      "source": [
        "* 누적 확률 분포를 그리세요."
      ],
      "metadata": {
        "id": "TKCRdDB4iQ8p"
      }
    },
    {
      "cell_type": "code",
      "source": [
        "F_P = np.cumsum(P)\n",
        "plt.plot(F_P)"
      ],
      "metadata": {
        "id": "vOPgzT8SiQ8p",
        "colab": {
          "base_uri": "https://localhost:8080/",
          "height": 283
        },
        "outputId": "43da37d1-5604-48e5-f04d-83a248b185f3"
      },
      "execution_count": 150,
      "outputs": [
        {
          "output_type": "execute_result",
          "data": {
            "text/plain": [
              "[<matplotlib.lines.Line2D at 0x7ff9b17cdb10>]"
            ]
          },
          "metadata": {},
          "execution_count": 150
        },
        {
          "output_type": "display_data",
          "data": {
            "text/plain": [
              "<Figure size 432x288 with 1 Axes>"
            ],
            "image/png": "[encoded data removed]"
          },
          "metadata": {
            "needs_background": "light"
          }
        }
      ]
    },
    {
      "cell_type": "markdown",
      "source": [
        "#### **예제 07. 파라미터 변경**\n",
        "\n",
        "예제 06 에서 정의한 함수 $f$의 파라미터 $\\sigma$를 각각 `0.5, 1, 2, 4`로 정의한 후 확률분포와 누적확률 분포를 그리세요.\n",
        "\n",
        "\\begin{align}\n",
        " f(x)=\\frac{1}{\\sqrt{2\\pi}\\sigma}\\exp^{-\\frac{(x-15.2)^2}{2*\\sigma^2}}\n",
        "\\end{align}"
      ],
      "metadata": {
        "id": "fIC9ftgHuQdj"
      }
    },
    {
      "cell_type": "code",
      "source": [
        "def f1(x) :\n",
        "  import numpy as np\n",
        "  pi = np.pi\n",
        "  n = 0.5\n",
        "  k = -((x-15.2)**2)/(2*(n**2))\n",
        "  exp = np.exp(k)\n",
        "  y = (1/(((2*pi)**0.5)*n))*exp\n",
        "  return y\n",
        "\n",
        "def f2(x) :\n",
        "  import numpy as np\n",
        "  pi = np.pi\n",
        "  n = 2\n",
        "  k = -((x-15.2)**2)/(2*(n**2))\n",
        "  exp = np.exp(k)\n",
        "  y = (1/(((2*pi)**0.5)*n))*exp\n",
        "  return y\n",
        "\n",
        "def f3(x) :\n",
        "  import numpy as np\n",
        "  pi = np.pi\n",
        "  n = 4\n",
        "  k = -((x-15.2)**2)/(2*(n**2))\n",
        "  exp = np.exp(k)\n",
        "  y = (1/(((2*pi)**0.5)*n))*exp\n",
        "  return y"
      ],
      "metadata": {
        "id": "DbFc1_8BtM5i"
      },
      "execution_count": 151,
      "outputs": []
    },
    {
      "cell_type": "code",
      "source": [
        "plt.figure(figsize=(12,6))\n",
        "\n",
        "# 시그마 0.5 일때\n",
        "P1 = list(map(f1,X))\n",
        "plt.subplot(1,3,1)\n",
        "plt.plot(X,P1)\n",
        "\n",
        "# 시그마 2일때\n",
        "P2 = list(map(f2,X))\n",
        "plt.subplot(1,3,2)\n",
        "plt.plot(X,P2)\n",
        "\n",
        "# 시그마 4일때\n",
        "P3 = list(map(f3,X))\n",
        "plt.subplot(1,3,3)\n",
        "plt.plot(X,P3)"
      ],
      "metadata": {
        "colab": {
          "base_uri": "https://localhost:8080/",
          "height": 392
        },
        "id": "OVcVwFAfJSIE",
        "outputId": "37ef25fb-d638-4b09-c905-c4cf67fde668"
      },
      "execution_count": 153,
      "outputs": [
        {
          "output_type": "execute_result",
          "data": {
            "text/plain": [
              "[<matplotlib.lines.Line2D at 0x7ff9b1643090>]"
            ]
          },
          "metadata": {},
          "execution_count": 153
        },
        {
          "output_type": "display_data",
          "data": {
            "text/plain": [
              "<Figure size 864x432 with 3 Axes>"
            ],
            "image/png": "[encoded data removed]"
          },
          "metadata": {
            "needs_background": "light"
          }
        }
      ]
    },
    {
      "cell_type": "code",
      "source": [
        "F_P1 = np.cumsum(P1)\n",
        "F_P2 = np.cumsum(P2)\n",
        "F_P3 = np.cumsum(P3)\n",
        "\n",
        "plt.plot(F_P1, label = 'sigma:0.5')\n",
        "plt.plot(F_P2, label = 'sigma:2')\n",
        "plt.plot(F_P3, label = 'sigma:4')\n",
        "plt.show()"
      ],
      "metadata": {
        "colab": {
          "base_uri": "https://localhost:8080/",
          "height": 265
        },
        "id": "yzTROPj2J7Xb",
        "outputId": "45debc80-828c-4bd0-ed7c-bdad49d3f824"
      },
      "execution_count": 155,
      "outputs": [
        {
          "output_type": "display_data",
          "data": {
            "text/plain": [
              "<Figure size 432x288 with 1 Axes>"
            ],
            "image/png": "[encoded data removed]"
          },
          "metadata": {
            "needs_background": "light"
          }
        }
      ]
    },
    {
      "cell_type": "code",
      "source": [
        ""
      ],
      "metadata": {
        "id": "ngmbeQVrXGeD"
      },
      "execution_count": null,
      "outputs": []
    }
  ]
}