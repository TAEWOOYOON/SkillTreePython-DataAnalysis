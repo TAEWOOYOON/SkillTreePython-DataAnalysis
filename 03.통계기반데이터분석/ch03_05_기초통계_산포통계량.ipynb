{
  "nbformat": 4,
  "nbformat_minor": 0,
  "metadata": {
    "colab": {
      "name": "ch03_05_기초통계-산포통계량.ipynb",
      "provenance": [],
      "collapsed_sections": []
    },
    "kernelspec": {
      "name": "python3",
      "display_name": "Python 3"
    },
    "language_info": {
      "name": "python"
    }
  },
  "cells": [
    {
      "cell_type": "markdown",
      "source": [
        "# ch03.05. 기초통계 - 산포통계량\n",
        "---\n",
        "* 날짜: 2022.05.09\n",
        "* 이름: 윤태우\n",
        "\n",
        "## 학습내용\n",
        "    * 산포 통계량\n",
        "      - 분산\n",
        "      - 표준편차\n",
        "      - 변동계수\n",
        "      - 스케일링\n",
        "      - 범위와 사분위 범위"
      ],
      "metadata": {
        "id": "wWpXZc2fi39U"
      }
    },
    {
      "cell_type": "code",
      "source": [
        "import numpy as np\n",
        "import matplotlib.pyplot as plt\n",
        "import pandas as pd\n",
        "import seaborn as sns"
      ],
      "metadata": {
        "id": "uYLRSgCqw4YZ"
      },
      "execution_count": 33,
      "outputs": []
    },
    {
      "cell_type": "markdown",
      "source": [
        "##  산포 통계\n",
        "---\n",
        "\n",
        "* 산포란 데이터가 얼마나 퍼져있는지를 의미\n",
        "\n",
        "* 따라서 산포 통계량이란 데이터의 산포를 나타내는 통계량이라 할 수 있다."
      ],
      "metadata": {
        "id": "rx3G1AI_nCTw"
      }
    },
    {
      "cell_type": "markdown",
      "source": [
        "### **| 데이터 생성**\n",
        "\n",
        "```\n",
        "# 아래의 함수는 정규분포를 따르는 랜덤한 실수를 반환합니다.\n",
        "np.random.normal(loc, scale, size)\n",
        "# loc = 평균\n",
        "# scale = 표준편차\n",
        "# size = 추출할 데이터(표본)의 크기\n",
        "```\n"
      ],
      "metadata": {
        "id": "Qamnn6ffuxFL"
      }
    },
    {
      "cell_type": "markdown",
      "source": [
        "* 평균 0, 표준편차 1인 정규분포 데이터 1000개를 생성하기"
      ],
      "metadata": {
        "id": "T8BAXON4vIxO"
      }
    },
    {
      "cell_type": "code",
      "source": [
        "# 넘파이 랜덤 시드 0으로 설정\n",
        "# 넘파이 배열 `a1`로 바인딩\n",
        "np.random.seed(0)\n",
        "a1 = np.random.normal(0,1,1000)\n",
        "\n",
        "# 판다스 시리즈 `s1`로 바인딩\n",
        "s1 = pd.Series(a1)"
      ],
      "metadata": {
        "id": "QGUgicvFFpBp"
      },
      "execution_count": 34,
      "outputs": []
    },
    {
      "cell_type": "markdown",
      "source": [
        "* 평균 0, 표준편차 3인 정규분포 데이터 1000개를 생성하기"
      ],
      "metadata": {
        "id": "AS6fAssFvJdi"
      }
    },
    {
      "cell_type": "code",
      "source": [
        "# 넘파이 랜덤 시드 0으로 설정\n",
        "# 넘파이 배열 `a3`로 바인딩\n",
        "np.random.seed(0)\n",
        "a3 = np.random.normal(0,3,1000)\n",
        "# 판다스 시리즈 `s3`로 바인딩\n",
        "s3 = pd.Series(a3)"
      ],
      "metadata": {
        "id": "4L4smlIDvPA5"
      },
      "execution_count": 35,
      "outputs": []
    },
    {
      "cell_type": "markdown",
      "source": [
        "* `a1`와 `a3`의 분포 그리기"
      ],
      "metadata": {
        "id": "tiM7-w9kvR7W"
      }
    },
    {
      "cell_type": "code",
      "source": [
        "plt.figure(figsize=(10,5))\n",
        "plt.hist([a1,a3], alpha = 0.5, histtype = 'stepfilled', bins = 50)\n",
        "plt.legend(['std = 1', 'std = 3'])"
      ],
      "metadata": {
        "id": "gz9cjV1FwGQH",
        "colab": {
          "base_uri": "https://localhost:8080/",
          "height": 338
        },
        "outputId": "072ebc58-0d0c-4d90-c8ee-ed6ed3dc0091"
      },
      "execution_count": 36,
      "outputs": [
        {
          "output_type": "execute_result",
          "data": {
            "text/plain": [
              "<matplotlib.legend.Legend at 0x7f11a246b790>"
            ]
          },
          "metadata": {},
          "execution_count": 36
        },
        {
          "output_type": "display_data",
          "data": {
            "text/plain": [
              "<Figure size 720x360 with 1 Axes>"
            ],
            "image/png": "[encoded data removed]"
          },
          "metadata": {
            "needs_background": "light"
          }
        }
      ]
    },
    {
      "cell_type": "markdown",
      "metadata": {
        "id": "YUHtaUMySASi"
      },
      "source": [
        "### **| 분산**\n",
        "\n",
        "\\begin{align}\n",
        "var(x) = \\frac{\\sum^{n}_{i=1}(x_i-\\mu)^2}{n-1} \n",
        "\\end{align}\n",
        "\\begin{align}\n",
        " & \\\\\n",
        " & x_i :? \\\\\n",
        " & \\mu : ?\\\\\n",
        " & n : ?\\\\ \n",
        "\\end{align}\n",
        "\n",
        "\n",
        "```\n",
        "np.var(a, ddof) \n",
        "a.var(ddof)\n",
        "s.var(ddof)\n",
        "```"
      ]
    },
    {
      "cell_type": "markdown",
      "source": [
        "* `a1`과 `a3`의 분산을 계산"
      ],
      "metadata": {
        "id": "XsFgISoBwYFX"
      }
    },
    {
      "cell_type": "code",
      "execution_count": 37,
      "metadata": {
        "id": "SXfmaEFfSASj",
        "colab": {
          "base_uri": "https://localhost:8080/"
        },
        "outputId": "bff71da5-af33-4ac5-fdb6-fbc9ec90c653"
      },
      "outputs": [
        {
          "output_type": "execute_result",
          "data": {
            "text/plain": [
              "(0.9742344563121542, 0.9752096659781323, 8.768110106809388, 8.776886993803192)"
            ]
          },
          "metadata": {},
          "execution_count": 37
        }
      ],
      "source": [
        "np.var(a1, ddof = 0), np.var(a1, ddof = 1), np.var(a3, ddof = 0), np.var(a3, ddof = 1)     # 자유도 ddof = 1 형식으로 적어야함."
      ]
    },
    {
      "cell_type": "markdown",
      "metadata": {
        "id": "Nx5x3UnTSASk"
      },
      "source": [
        "### **| 표준편차**\n",
        "\n",
        "\n",
        "\\begin{align}\n",
        "std(x)= \\sqrt{var(x)} = \n",
        "\\sqrt{\\frac{\\sum^{n}_{i=1}(x_i-\\mu)^2}{n-1}} \n",
        "\\end{align}\n",
        "\\begin{align}\n",
        " & \\\\\n",
        " & x_i : ? \\\\\n",
        " & \\mu : ?\\\\\n",
        " & n : ?\\\\ \n",
        "\\end{align}\n",
        "\n",
        "\n",
        "```\n",
        "np.std(a, ddof) \n",
        "a.std(ddof)\n",
        "s.std(ddof)\n",
        "```"
      ]
    },
    {
      "cell_type": "markdown",
      "source": [
        "* `a1`과 `a3`의 표준편차 계산"
      ],
      "metadata": {
        "id": "JS7Nh7HIwx3l"
      }
    },
    {
      "cell_type": "code",
      "execution_count": 38,
      "metadata": {
        "id": "dXnFgMtnwx3m",
        "colab": {
          "base_uri": "https://localhost:8080/"
        },
        "outputId": "4e2904be-5763-4376-e474-cc87f47175d3"
      },
      "outputs": [
        {
          "output_type": "stream",
          "name": "stdout",
          "text": [
            "std \n",
            "a1(ddof = 0) : 0.9870331586690257, a1(ddof = 1) : 0.9875270456945128 \n",
            "a3(ddof = 0) : 2.9610994760070772, a3(ddof = 1) : 2.9625811370835384\n"
          ]
        }
      ],
      "source": [
        "print(f'std \\na1(ddof = 0) : {np.std(a1, ddof = 0)}, a1(ddof = 1) : {np.std(a1, ddof = 1)} \\na3(ddof = 0) : {np.std(a3, ddof = 0)}, a3(ddof = 1) : {np.std(a3, ddof = 1)}')"
      ]
    },
    {
      "cell_type": "markdown",
      "source": [
        "* `a1`의 분산과 `a1`의 표준편차제곱을 비교"
      ],
      "metadata": {
        "id": "KTIXQnIkw9iQ"
      }
    },
    {
      "cell_type": "code",
      "source": [
        "print(f'ddof = 0 >>> var : {np.var(a1, ddof = 0)}, sigma^2 : {(np.std(a1, ddof = 0))**2}')\n",
        "print(f'ddof = 1 >>> var : {np.var(a1, ddof = 1)}, sigma^2 : {(np.std(a1, ddof = 1))**2}')"
      ],
      "metadata": {
        "id": "R7gkCYF1xC06",
        "colab": {
          "base_uri": "https://localhost:8080/"
        },
        "outputId": "c8fb49e2-6def-44ca-cb11-7708d613a7ef"
      },
      "execution_count": 39,
      "outputs": [
        {
          "output_type": "stream",
          "name": "stdout",
          "text": [
            "ddof = 0 >>> var : 0.9742344563121542, sigma^2 : 0.9742344563121541\n",
            "ddof = 1 >>> var : 0.9752096659781323, sigma^2 : 0.9752096659781323\n"
          ]
        }
      ]
    },
    {
      "cell_type": "markdown",
      "source": [
        "### **| 변동계수**\n",
        "\n",
        "분산 혹은 표준편차를 스케일에 영향을 받지 않도록 데이터를 스케일링 한 후 분산 혹은 표준편차를 계산\n",
        "\n",
        "\n",
        "\\begin{align}\n",
        "변동계수 = \\frac{var(x) \\ or \\ std(x) }{Scale(x)} \n",
        "\\end{align}\n"
      ],
      "metadata": {
        "id": "G6ilAY14xkFc"
      }
    },
    {
      "cell_type": "markdown",
      "metadata": {
        "id": "KY2wlX1ASASl"
      },
      "source": [
        "#### **변동계수의 필요성**"
      ]
    },
    {
      "cell_type": "markdown",
      "source": [
        "* `a1`의 모든 요소에 10을 곱한 배열 `a10`을 생성"
      ],
      "metadata": {
        "id": "QFH6d7L9xSK9"
      }
    },
    {
      "cell_type": "code",
      "source": [
        "a10 = a1*10"
      ],
      "metadata": {
        "id": "6VUHM85MNgLG"
      },
      "execution_count": 40,
      "outputs": []
    },
    {
      "cell_type": "markdown",
      "source": [
        "* `a1`과 `a10`의 분산 계산"
      ],
      "metadata": {
        "id": "2MWKjJX0xki1"
      }
    },
    {
      "cell_type": "code",
      "source": [
        "print(f'a1(var) : {np.var(a1, ddof = 1)}, a10(var) : {np.var(a10, ddof = 1)}')"
      ],
      "metadata": {
        "id": "sgoJOUH3xopo",
        "colab": {
          "base_uri": "https://localhost:8080/"
        },
        "outputId": "84e9f973-7a6f-455c-9cec-d1a4ec7e6653"
      },
      "execution_count": 41,
      "outputs": [
        {
          "output_type": "stream",
          "name": "stdout",
          "text": [
            "a1(var) : 0.9752096659781323, a10(var) : 97.52096659781323\n"
          ]
        }
      ]
    },
    {
      "cell_type": "markdown",
      "metadata": {
        "id": "MdTQTl-ZSASo"
      },
      "source": [
        "#### **스케일링: min-max**\n",
        "\n",
        "**min-max scaling** : 최대값을 1로, 최소값을 0으로 스켕일링 하는  기법.\n",
        "\n",
        "\\begin{align}\n",
        "minmax(x)=\\frac{x-min(x)}{max(x)-min(x)}\n",
        "\\end{align}\n",
        "\n",
        "\\begin{align}\n",
        " & \\\\\n",
        " & x : ? \\\\\n",
        " & min(x) : ?\\\\\n",
        " & max(x) : ?\\\\ \n",
        "\\end{align}\n",
        "\n"
      ]
    },
    {
      "cell_type": "markdown",
      "source": [
        "* min-max 함수 생성"
      ],
      "metadata": {
        "id": "ZtfohRLysjzk"
      }
    },
    {
      "cell_type": "code",
      "source": [
        "def minmax(X) :\n",
        "  X1 = np.array([])\n",
        "  for i in X :\n",
        "    X1 = np.append(X1, (  i - np.min(X)  ) / (  np.max(X) - np.min(X)  )  )\n",
        "  return X1"
      ],
      "metadata": {
        "id": "59mzhjd5r4j2"
      },
      "execution_count": 42,
      "outputs": []
    },
    {
      "cell_type": "markdown",
      "source": [
        "* `a1`을 min-max scaling 하여 `a1_minmax` 로 바인딩"
      ],
      "metadata": {
        "id": "y2-9KhEksc2A"
      }
    },
    {
      "cell_type": "code",
      "execution_count": 43,
      "metadata": {
        "id": "xTMzYDPHSASo"
      },
      "outputs": [],
      "source": [
        "a1_minmax = minmax(a1)"
      ]
    },
    {
      "cell_type": "markdown",
      "source": [
        "* `a10`을 min-max scaling 하여 `a10_minmax` 로 바인딩"
      ],
      "metadata": {
        "id": "k_Ci-tvAyC1W"
      }
    },
    {
      "cell_type": "code",
      "execution_count": 44,
      "metadata": {
        "id": "ceA7GBikyC1W"
      },
      "outputs": [],
      "source": [
        "a10_minmax = minmax(a10)"
      ]
    },
    {
      "cell_type": "code",
      "source": [
        "np.max(a1_minmax) "
      ],
      "metadata": {
        "colab": {
          "base_uri": "https://localhost:8080/"
        },
        "id": "-rXmTu2sPq6J",
        "outputId": "c666adaa-52e0-4482-faf5-f867cff5265f"
      },
      "execution_count": 45,
      "outputs": [
        {
          "output_type": "execute_result",
          "data": {
            "text/plain": [
              "1.0"
            ]
          },
          "metadata": {},
          "execution_count": 45
        }
      ]
    },
    {
      "cell_type": "markdown",
      "source": [
        "* `a1`과 `a1_minmax`의 분포를 (1x2) 플롯에 그려 비교하기"
      ],
      "metadata": {
        "id": "hpHAqKBZyIee"
      }
    },
    {
      "cell_type": "code",
      "source": [
        "plt.figure(figsize = (10,5))\n",
        "plt.subplot(1,2,1)\n",
        "plt.hist(a1)\n",
        "plt.title('Before minmax')\n",
        "\n",
        "plt.subplot(1,2,2)\n",
        "plt.hist(a1_minmax)\n",
        "plt.title('After minmax')\n",
        "plt.show()"
      ],
      "metadata": {
        "id": "ZHJYrPCSyO4a",
        "colab": {
          "base_uri": "https://localhost:8080/",
          "height": 336
        },
        "outputId": "6b07451d-7208-4546-ccc2-3d2d6b58fb78"
      },
      "execution_count": 46,
      "outputs": [
        {
          "output_type": "display_data",
          "data": {
            "text/plain": [
              "<Figure size 720x360 with 2 Axes>"
            ],
            "image/png": "[encoded data removed]"
          },
          "metadata": {
            "needs_background": "light"
          }
        }
      ]
    },
    {
      "cell_type": "markdown",
      "source": [
        "* `a10`과 `a10_minmax`의 분포를 (1x2) 플롯에 그려 비교하기"
      ],
      "metadata": {
        "id": "ZfJ52b-iysv1"
      }
    },
    {
      "cell_type": "code",
      "source": [
        "plt.figure(figsize = (10,5))\n",
        "plt.subplot(1,2,1)\n",
        "plt.hist(a10)\n",
        "plt.title('Before minmax')\n",
        "\n",
        "plt.subplot(1,2,2)\n",
        "plt.hist(a10_minmax)\n",
        "plt.title('After minmax')\n",
        "plt.show()"
      ],
      "metadata": {
        "id": "vrBzYymhysv1",
        "colab": {
          "base_uri": "https://localhost:8080/",
          "height": 336
        },
        "outputId": "587837e9-f652-44d2-b114-52586b563c73"
      },
      "execution_count": 47,
      "outputs": [
        {
          "output_type": "display_data",
          "data": {
            "text/plain": [
              "<Figure size 720x360 with 2 Axes>"
            ],
            "image/png": "[encoded data removed]"
          },
          "metadata": {
            "needs_background": "light"
          }
        }
      ]
    },
    {
      "cell_type": "markdown",
      "source": [
        "* `a1`과 `a10` 두 데이터의 스케일링 전, 후 데이터가 가지는 값의 범위를 요약하기"
      ],
      "metadata": {
        "id": "GxWolaowzd7X"
      }
    },
    {
      "cell_type": "code",
      "source": [
        "print(f'before : {np.ptp(a1)}, after : {np.ptp(a1_minmax)}')\n",
        "print(f'before : {np.ptp(a10)}, after : {np.ptp(a10_minmax)}')"
      ],
      "metadata": {
        "id": "dLdhab_DznRS",
        "colab": {
          "base_uri": "https://localhost:8080/"
        },
        "outputId": "9e5c16b6-f97b-4123-c336-82e95117b01f"
      },
      "execution_count": 48,
      "outputs": [
        {
          "output_type": "stream",
          "name": "stdout",
          "text": [
            "before : 5.805498168821509, after : 1.0\n",
            "before : 58.05498168821509, after : 1.0\n"
          ]
        }
      ]
    },
    {
      "cell_type": "markdown",
      "source": [
        "* 스케일링 후 `a1_minmax`, `a10_minmax`의 분산 구하기"
      ],
      "metadata": {
        "id": "hBPs1JzyzuM9"
      }
    },
    {
      "cell_type": "code",
      "source": [
        "print(f'before : {np.var(a1, ddof = 1)}, after : {np.var(a1_minmax, ddof = 1)}')\n",
        "print(f'before : {np.var(a10, ddof = 1)}, after : {np.var(a10_minmax, ddof = 1)}')"
      ],
      "metadata": {
        "id": "11gRv_kUzztl",
        "colab": {
          "base_uri": "https://localhost:8080/"
        },
        "outputId": "e26f4d65-6e5f-4cd7-a53f-574542731e05"
      },
      "execution_count": 49,
      "outputs": [
        {
          "output_type": "stream",
          "name": "stdout",
          "text": [
            "before : 0.9752096659781323, after : 0.028934701900306115\n",
            "before : 97.52096659781323, after : 0.02893470190030611\n"
          ]
        }
      ]
    },
    {
      "cell_type": "markdown",
      "metadata": {
        "id": "URGjKjGdsoqV"
      },
      "source": [
        "#### **스케일링: z-score**\n",
        "\n",
        "**standard(z-socre) scaling** : 평균 0, 표준편차 1을 따르는 정규분포로 스케일링 하는  기법.\n",
        "\n",
        "\\begin{align}\n",
        "\\\\\n",
        "standard(x)=\\frac{x-\\mu}{\\sigma}\n",
        "\\end{align}\n",
        "\\begin{align}\n",
        " & \\\\\n",
        " & x : ? \\\\\n",
        " & \\mu : ?\\\\\n",
        " & \\sigma : ?\\\\ \n",
        "\\end{align}\n"
      ]
    },
    {
      "cell_type": "markdown",
      "source": [
        "* standard 함수 생성"
      ],
      "metadata": {
        "id": "-m5HGk_QsoqV"
      }
    },
    {
      "cell_type": "code",
      "source": [
        "# 표준 편차 = 분산의 제곱근\n",
        "\n",
        "def standard(X) :\n",
        "  return ( X - np.mean(X) ) /  np.std(X, ddof = 0)"
      ],
      "metadata": {
        "id": "jLIfy5MYsoqW"
      },
      "execution_count": 50,
      "outputs": []
    },
    {
      "cell_type": "markdown",
      "source": [
        "* `a1`을 standard 하여 `a1_standard` 로 바인딩"
      ],
      "metadata": {
        "id": "MLhSVJcJz_Ie"
      }
    },
    {
      "cell_type": "code",
      "execution_count": 51,
      "metadata": {
        "id": "phcra2xpz_If"
      },
      "outputs": [],
      "source": [
        "a1_standard = standard(a1)"
      ]
    },
    {
      "cell_type": "markdown",
      "source": [
        "* `a10`을 standard 하여 `a10_standard` 로 바인딩"
      ],
      "metadata": {
        "id": "CXVTHP-2z_If"
      }
    },
    {
      "cell_type": "code",
      "execution_count": 52,
      "metadata": {
        "id": "7xBnlZmIz_If"
      },
      "outputs": [],
      "source": [
        "a10_standard = standard(a10)"
      ]
    },
    {
      "cell_type": "markdown",
      "source": [
        "* `a1`과 `a10_standard`의 분포를 (1x2) 플롯에 그려 비교하기"
      ],
      "metadata": {
        "id": "G-zv1Y9Wz_If"
      }
    },
    {
      "cell_type": "code",
      "source": [
        "plt.figure(figsize = (10,5))\n",
        "\n",
        "plt.subplot(1,2,1)\n",
        "plt.hist(a1)\n",
        "plt.title('a1')\n",
        "\n",
        "plt.subplot(1,2,2)\n",
        "plt.hist(a10_standard)\n",
        "plt.title('a10_standard')\n",
        "plt.show()"
      ],
      "metadata": {
        "id": "vl70HGvqz_If",
        "colab": {
          "base_uri": "https://localhost:8080/",
          "height": 336
        },
        "outputId": "14494d04-5753-4727-a7d8-0f5b6db39af3"
      },
      "execution_count": 53,
      "outputs": [
        {
          "output_type": "display_data",
          "data": {
            "text/plain": [
              "<Figure size 720x360 with 2 Axes>"
            ],
            "image/png": "[encoded data removed]"
          },
          "metadata": {
            "needs_background": "light"
          }
        }
      ]
    },
    {
      "cell_type": "markdown",
      "source": [
        "* `a10`과 `a10_standard`의 분포를 (1x2) 플롯에 그려 비교하기"
      ],
      "metadata": {
        "id": "PE9kVQfkz_If"
      }
    },
    {
      "cell_type": "code",
      "source": [
        "plt.figure(figsize = (10,5))\n",
        "plt.subplot(1,2,1)\n",
        "plt.hist(a10)\n",
        "plt.title('a10')\n",
        "\n",
        "plt.subplot(1,2,2)\n",
        "plt.hist(a10_standard)\n",
        "plt.title('a10_standard')\n",
        "plt.show()"
      ],
      "metadata": {
        "id": "t5G7ewP2z_Ig",
        "colab": {
          "base_uri": "https://localhost:8080/",
          "height": 336
        },
        "outputId": "0ddbf040-aaa1-480b-d5a2-457c9b874c02"
      },
      "execution_count": 61,
      "outputs": [
        {
          "output_type": "display_data",
          "data": {
            "text/plain": [
              "<Figure size 720x360 with 2 Axes>"
            ],
            "image/png": "[encoded data removed]"
          },
          "metadata": {
            "needs_background": "light"
          }
        }
      ]
    },
    {
      "cell_type": "markdown",
      "source": [
        "* `a1`과 `a10` 두 데이터의 스케일링 전, 후 데이터가 가지는 값의 범위를 요약하기"
      ],
      "metadata": {
        "id": "UhZ-Wploz_Ig"
      }
    },
    {
      "cell_type": "code",
      "source": [
        "print(f'before(a1) : {np.ptp(a1)}  after(a1) : {np.ptp(a1_standard)} \\nbefore(a10) : {np.ptp(a10)}, after(a10) : {np.ptp(a10_standard)}')"
      ],
      "metadata": {
        "id": "wHVML9Zpz_Ig",
        "colab": {
          "base_uri": "https://localhost:8080/"
        },
        "outputId": "98703462-2114-41cc-b773-b49f27aeef17"
      },
      "execution_count": 55,
      "outputs": [
        {
          "output_type": "stream",
          "name": "stdout",
          "text": [
            "before(a1) : 5.805498168821509  after(a1) : 5.881766096541263 \n",
            "before(a10) : 58.05498168821509, after(a10) : 5.881766096541263\n"
          ]
        }
      ]
    },
    {
      "cell_type": "markdown",
      "source": [
        "* 스케일링 후 `a1_standard`, `a10_standard`의 분산 구하기"
      ],
      "metadata": {
        "id": "Za5xe-lDz_Ig"
      }
    },
    {
      "cell_type": "code",
      "source": [
        "print(f'before(a1) : {np.var(a1)}  after(a1) : {np.var(a1_standard)} \\nbefore(a10) : {np.var(a10)}, after(a10) : {np.var(a10_standard)}')"
      ],
      "metadata": {
        "id": "xjgMc74tz_Ig",
        "colab": {
          "base_uri": "https://localhost:8080/"
        },
        "outputId": "b669d05d-446a-4b0b-c02c-599f3cfe0a2a"
      },
      "execution_count": 56,
      "outputs": [
        {
          "output_type": "stream",
          "name": "stdout",
          "text": [
            "before(a1) : 0.9742344563121542  after(a1) : 1.0000000000000002 \n",
            "before(a10) : 97.42344563121542, after(a10) : 1.0000000000000002\n"
          ]
        }
      ]
    },
    {
      "cell_type": "markdown",
      "metadata": {
        "id": "Af9cq1EnSASr"
      },
      "source": [
        "### **| 범위와 사분위 범위**\n",
        "\n",
        "<p align='center'>\n",
        "<img src=https://github.com/yebiny/SkillTreePython-DataAnalysis/blob/main/imgs/ch0305-01.png?raw=true?raw=true width=800>\n",
        "</p>\n"
      ]
    },
    {
      "cell_type": "markdown",
      "source": [
        "* `a10` 의 분포 그리기"
      ],
      "metadata": {
        "id": "h-PX4Us32keF"
      }
    },
    {
      "cell_type": "code",
      "execution_count": 57,
      "metadata": {
        "id": "zwnSE67dSASr",
        "colab": {
          "base_uri": "https://localhost:8080/",
          "height": 269
        },
        "outputId": "854470ad-d3ee-4960-cfa5-ae802ceaa3aa"
      },
      "outputs": [
        {
          "output_type": "display_data",
          "data": {
            "text/plain": [
              "<Figure size 432x288 with 1 Axes>"
            ],
            "image/png": "[encoded data removed]"
          },
          "metadata": {
            "needs_background": "light"
          }
        }
      ],
      "source": [
        "plt.hist(a10)\n",
        "plt.show()"
      ]
    },
    {
      "cell_type": "markdown",
      "source": [
        "#### **범위**\n",
        "\n",
        "\\begin{align}\n",
        "\\\\\n",
        "범위 = max(x)-min(x)\n",
        "\\end{align}\n",
        "\n",
        "```\n",
        "np.ptp(x)\n",
        "```"
      ],
      "metadata": {
        "id": "_RZq1F5xzdbT"
      }
    },
    {
      "cell_type": "markdown",
      "source": [
        "* `a10`의 범위 구하기"
      ],
      "metadata": {
        "id": "E21v3wDg3nZy"
      }
    },
    {
      "cell_type": "code",
      "execution_count": 58,
      "metadata": {
        "id": "XC2V_offSASr",
        "colab": {
          "base_uri": "https://localhost:8080/"
        },
        "outputId": "84e76a13-f250-44f9-ceb5-368c11f51dd1"
      },
      "outputs": [
        {
          "output_type": "stream",
          "name": "stdout",
          "text": [
            "58.05498168821509\n",
            "1.0\n"
          ]
        }
      ],
      "source": [
        "# np.ptp 사용\n",
        "print(np.ptp(a10))\n",
        "# max-min 사용\n",
        "print(np.ptp(a10_minmax))"
      ]
    },
    {
      "cell_type": "markdown",
      "source": [
        "\n",
        "#### **사분위 범위**\n",
        "\n",
        "\\begin{align}\n",
        "\\\\\n",
        "사분위 범위 = 3사분위수 - 1사분위수 = 하위 75 \\% 수 - 하위 25\\% 수\n",
        "\\end{align}\n",
        "\n",
        "```\n",
        "np.quntile(x, percent)\n",
        "```"
      ],
      "metadata": {
        "id": "LgpC0EN1zjmc"
      }
    },
    {
      "cell_type": "markdown",
      "source": [
        "* `a10`의 사분위 범위 구하기"
      ],
      "metadata": {
        "id": "x3nqHdR54ILX"
      }
    },
    {
      "cell_type": "code",
      "execution_count": 59,
      "metadata": {
        "id": "Y857hyZ3SASr",
        "colab": {
          "base_uri": "https://localhost:8080/"
        },
        "outputId": "6f1e6baa-bcd0-42ff-f3a5-c2eec5a2654d"
      },
      "outputs": [
        {
          "output_type": "execute_result",
          "data": {
            "text/plain": [
              "13.053706612482689"
            ]
          },
          "metadata": {},
          "execution_count": 59
        }
      ],
      "source": [
        "np.quantile(a10, 0.75)-np.quantile(a10, 0.25)"
      ]
    },
    {
      "cell_type": "code",
      "source": [
        "s = pd.Series(a10)\n",
        "s.describe()"
      ],
      "metadata": {
        "colab": {
          "base_uri": "https://localhost:8080/"
        },
        "id": "v4IaOO2ubAxr",
        "outputId": "3661c36e-aacc-4391-84f5-31cfbab05b88"
      },
      "execution_count": 60,
      "outputs": [
        {
          "output_type": "execute_result",
          "data": {
            "text/plain": [
              "count    1000.000000\n",
              "mean       -0.452567\n",
              "std         9.875270\n",
              "min       -30.461431\n",
              "25%        -6.984201\n",
              "50%        -0.580280\n",
              "75%         6.069506\n",
              "max        27.593551\n",
              "dtype: float64"
            ]
          },
          "metadata": {},
          "execution_count": 60
        }
      ]
    }
  ]
}