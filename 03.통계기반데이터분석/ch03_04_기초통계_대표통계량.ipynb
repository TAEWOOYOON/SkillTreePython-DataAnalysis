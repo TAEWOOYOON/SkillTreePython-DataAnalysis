{
  "nbformat": 4,
  "nbformat_minor": 0,
  "metadata": {
    "colab": {
      "name": "ch03_04_기초통계-대표통계량.ipynb",
      "provenance": [],
      "collapsed_sections": []
    },
    "kernelspec": {
      "name": "python3",
      "display_name": "Python 3"
    },
    "language_info": {
      "name": "python"
    }
  },
  "cells": [
    {
      "cell_type": "markdown",
      "source": [
        "# ch03.04. 기초통계 - 대표통계량\n",
        "---\n",
        "* 날짜: 2022.05.09\n",
        "* 이름: 윤태우\n",
        "\n",
        "## 학습내용\n",
        "    - 최빈값\n",
        "    - 중앙값\n",
        "    - 산술 평균\n",
        "    - 조화 평균\n",
        "    - 절사 평균\n"
      ],
      "metadata": {
        "id": "wWpXZc2fi39U"
      }
    },
    {
      "cell_type": "code",
      "source": [
        "import numpy as np\n",
        "import pandas as pd\n",
        "import matplotlib.pyplot as plt\n",
        "import seaborn as sns\n",
        "from scipy.stats import *"
      ],
      "metadata": {
        "id": "uYLRSgCqw4YZ"
      },
      "execution_count": 2,
      "outputs": []
    },
    {
      "cell_type": "markdown",
      "source": [
        "## 대표 통계 - 수치자료형\n",
        "---"
      ],
      "metadata": {
        "id": "HFfrNCQzwC8p"
      }
    },
    {
      "cell_type": "markdown",
      "source": [
        "### **| 데이터 생성**\n",
        "\n",
        "```\n",
        "# 아래 함수는 랜덤한 정수를 반환합니다.\n",
        "np.random.randint(low, hight, shape)\n",
        "# low = 최소값\n",
        "# hight = 최대값\n",
        "# shape = 추출할 데이터의 크기\n",
        "```"
      ],
      "metadata": {
        "id": "FyMW-z9A5Dym"
      }
    },
    {
      "cell_type": "markdown",
      "source": [
        "* 최소값 1, 최대값 100인 데이터 1000개 생성하기"
      ],
      "metadata": {
        "id": "C61Z7FkB5dhN"
      }
    },
    {
      "cell_type": "code",
      "source": [
        "# 넘파이 랜덤 시드 0으로 설정\n",
        "# 넘파이 배열 `a`로 바인딩\n",
        "np.random.seed(0)\n",
        "a = np.random.randint(1, 101, 1000)\n",
        "\n",
        "# 판다스 시리즈 `s`로 바인딩\n",
        "s = pd.Series(a)"
      ],
      "metadata": {
        "id": "QGUgicvFFpBp"
      },
      "execution_count": 13,
      "outputs": []
    },
    {
      "cell_type": "markdown",
      "source": [
        "* 데이터 분포 그리기"
      ],
      "metadata": {
        "id": "MNH_qxNE7ihh"
      }
    },
    {
      "cell_type": "code",
      "source": [
        "plt.hist(a, width = 1, bins = 100)\n",
        "plt.xlabel('Number')\n",
        "plt.ylabel('Counts')\n",
        "plt.title('Random int')\n",
        "plt.show()"
      ],
      "metadata": {
        "colab": {
          "base_uri": "https://localhost:8080/",
          "height": 295
        },
        "id": "wOzMn5X9YWHv",
        "outputId": "df3913c6-1894-4260-e5aa-489d7227a03f"
      },
      "execution_count": 69,
      "outputs": [
        {
          "output_type": "display_data",
          "data": {
            "text/plain": [
              "<Figure size 432x288 with 1 Axes>"
            ],
            "image/png": "[encoded data removed]"
          },
          "metadata": {
            "needs_background": "light"
          }
        }
      ]
    },
    {
      "cell_type": "code",
      "source": [
        "num_a = []\n",
        "x = np.arange(1,101)\n",
        "for i in range(1,101) :\n",
        "  num_a.append(list(a).count(i))\n",
        "plt.bar(x,num_a)\n",
        "plt.xlabel('Number')\n",
        "plt.ylabel('Counts')\n",
        "plt.title('Random int')\n",
        "plt.show()"
      ],
      "metadata": {
        "colab": {
          "base_uri": "https://localhost:8080/",
          "height": 295
        },
        "id": "pgLujey-WQUQ",
        "outputId": "34032179-c775-4805-a1b2-6a4519c74e0a"
      },
      "execution_count": 50,
      "outputs": [
        {
          "output_type": "display_data",
          "data": {
            "text/plain": [
              "<Figure size 432x288 with 1 Axes>"
            ],
            "image/png": "[encoded data removed]"
          },
          "metadata": {
            "needs_background": "light"
          }
        }
      ]
    },
    {
      "cell_type": "markdown",
      "source": [
        "### **| 중앙값**\n",
        "```\n",
        "np.median(a)\n",
        "s.median()\n",
        "```"
      ],
      "metadata": {
        "id": "B7iX0zzqFl7P"
      }
    },
    {
      "cell_type": "markdown",
      "source": [
        "* 중앙값 계산"
      ],
      "metadata": {
        "id": "qp29xCkV72Xv"
      }
    },
    {
      "cell_type": "code",
      "source": [
        "print(f'np : {np.median(a)}, series : {s.median()}')"
      ],
      "metadata": {
        "id": "4axJO9zWFpEm",
        "colab": {
          "base_uri": "https://localhost:8080/"
        },
        "outputId": "7eb6b5e5-1150-42c2-8270-81f5ec55e914"
      },
      "execution_count": 52,
      "outputs": [
        {
          "output_type": "stream",
          "name": "stdout",
          "text": [
            "np : 50.0, series : 50.0\n"
          ]
        }
      ]
    },
    {
      "cell_type": "markdown",
      "source": [
        "### **| 산술평균**\n",
        "\n",
        "가장 보편적으로 사용되는 평균\n",
        "\n",
        "\\begin{align}\n",
        "\\mu = \\frac{\\sum^n_{i=1}x_i}{n}\n",
        "\\end{align}\n",
        "\n",
        "\\begin{align}\n",
        " & \\\\\n",
        " & x_i :? \\\\\n",
        " & n : ?\\\\ \n",
        "\\end{align}\n",
        "\n",
        "```\n",
        "np.mean(a)\n",
        "s.mean()\n",
        "```"
      ],
      "metadata": {
        "id": "DgEXAIV-Dezx"
      }
    },
    {
      "cell_type": "markdown",
      "source": [
        "* 평균 계산"
      ],
      "metadata": {
        "id": "Eyj9kkzd8Yve"
      }
    },
    {
      "cell_type": "code",
      "source": [
        "print(f'np : {np.mean(a)}, series : {s.mean()}')"
      ],
      "metadata": {
        "id": "JOkkVco_Dj7Q",
        "colab": {
          "base_uri": "https://localhost:8080/"
        },
        "outputId": "8bc60765-fdec-44ff-dc4c-3dc7db65dcfa"
      },
      "execution_count": 54,
      "outputs": [
        {
          "output_type": "stream",
          "name": "stdout",
          "text": [
            "np : 50.397, series : 50.397\n"
          ]
        }
      ]
    },
    {
      "cell_type": "markdown",
      "metadata": {
        "id": "3sVibZeXD7XB"
      },
      "source": [
        "### **| 조화 평균**\n",
        "\n",
        "비율 및 변화율에 등에 대한 평균을 계산할 때 사용\n",
        "\n",
        "\\begin{align}\n",
        "\\mu_{harmonic} = \\frac{n}{\\sum^n_{i=1}\\frac{1}{x_i}}\n",
        "\\end{align}\n",
        "\n",
        "\\begin{align}\n",
        " & \\\\\n",
        " & x_i :? \\\\\n",
        " & n : ?\\\\ \n",
        "\\end{align}"
      ]
    },
    {
      "cell_type": "markdown",
      "source": [
        "* 함수 `harmonic` 생성"
      ],
      "metadata": {
        "id": "I_bo0Xpn8lvJ"
      }
    },
    {
      "cell_type": "code",
      "execution_count": 55,
      "metadata": {
        "id": "bbvOee7xD7XB"
      },
      "outputs": [],
      "source": [
        "def harmonic(X) :\n",
        "    \n",
        "  return len(X) / sum(( 1/X ))"
      ]
    },
    {
      "cell_type": "markdown",
      "source": [
        "* 조화 평균 계산"
      ],
      "metadata": {
        "id": "98ULxx_-8xJL"
      }
    },
    {
      "cell_type": "code",
      "source": [
        "print(harmonic(a), harmonic(s))"
      ],
      "metadata": {
        "id": "e2eFFgrY8ylD",
        "colab": {
          "base_uri": "https://localhost:8080/"
        },
        "outputId": "82271bf0-335b-4645-b19c-effe2035d303"
      },
      "execution_count": 57,
      "outputs": [
        {
          "output_type": "stream",
          "name": "stdout",
          "text": [
            "17.083487839894165 17.083487839894165\n"
          ]
        }
      ]
    },
    {
      "cell_type": "markdown",
      "source": [
        "### **| 절사 평균**\n",
        "\n",
        "데이터에서 $\\alpha$ 개를 제거한 후 평균을 내는 방법\n",
        "\n",
        "\\begin{align}\n",
        "\\mu_{cut}=\\frac{\\sum^{|n(1-\\alpha)|}_{i=|n\\alpha|} x_i}{ |n(1-\\alpha)|-|n\\alpha| }\n",
        "\\end{align}\n",
        "\n",
        "\\begin{align}\n",
        " & \\\\\n",
        " & x_i :? \\\\\n",
        " & n : ?\\\\ \n",
        " & \\alpha : ?\n",
        "\\end{align}\n",
        "\n",
        "```\n",
        "from scipy.stats import trim_mean\n",
        "trim_mean(x, alpha) \n",
        "```\n"
      ],
      "metadata": {
        "id": "pfvnB5ljFiPP"
      }
    },
    {
      "cell_type": "markdown",
      "source": [
        "* alpha 비율 0.1일 때 절사 평균 계산"
      ],
      "metadata": {
        "id": "HJvDmFFs88l1"
      }
    },
    {
      "cell_type": "code",
      "source": [
        "trim_mean(a,0.1)"
      ],
      "metadata": {
        "id": "byF7axwMyb1J",
        "colab": {
          "base_uri": "https://localhost:8080/"
        },
        "outputId": "61b4660d-59c0-4c76-d314-7ced044ef14c"
      },
      "execution_count": 58,
      "outputs": [
        {
          "output_type": "execute_result",
          "data": {
            "text/plain": [
              "50.5025"
            ]
          },
          "metadata": {},
          "execution_count": 58
        }
      ]
    },
    {
      "cell_type": "markdown",
      "source": [
        "## 대표 통계 - 범주자료형\n",
        "---"
      ],
      "metadata": {
        "id": "JPdOBwZwwkcF"
      }
    },
    {
      "cell_type": "markdown",
      "source": [
        "### **| 데이터 생성**\n",
        "\n",
        "```\n",
        "# 아래 함수는 리스트 안의 요소를 랜덤하게 반환합니다.\n",
        "np.random.choice(list, shape)\n",
        "# list = 카테고리가 들어있는 리스트\n",
        "# shape = 추출할 데이터의 크기\n",
        "```"
      ],
      "metadata": {
        "id": "ns3PTnjU9WXN"
      }
    },
    {
      "cell_type": "markdown",
      "source": [
        "* `A, B, C` 세개의 카테고리에서 데이터 1000개 생성하기"
      ],
      "metadata": {
        "id": "s-N5kc3F9WXT"
      }
    },
    {
      "cell_type": "code",
      "execution_count": 78,
      "metadata": {
        "id": "KmNsIamiD7XG"
      },
      "outputs": [],
      "source": [
        "# 넘파이 랜덤 시드 0으로 설정\n",
        "# 넘파이 배열 `a`로 바인딩\n",
        "np.random.seed(0)\n",
        "list_1 = ['A','B','C']\n",
        "a = np.random.choice(list_1,1000)\n",
        "# 판다스 시리즈 `s`로 바 인딩\n",
        "s = pd.Series(a)"
      ]
    },
    {
      "cell_type": "markdown",
      "source": [
        "* 데이터 분포 그리기"
      ],
      "metadata": {
        "id": "VNsc3MM0GTpR"
      }
    },
    {
      "cell_type": "code",
      "source": [
        "plt.figure(figsize = (9,5))\n",
        "plt.subplot(1,2,1)\n",
        "plt.hist(a)\n",
        "plt.ylabel('Counts')\n",
        "plt.title('Numpy')\n",
        "plt.subplot(1,2,2)\n",
        "plt.hist(s)\n",
        "plt.ylabel('Counts')\n",
        "plt.title('Series')\n",
        "plt.show()"
      ],
      "metadata": {
        "colab": {
          "base_uri": "https://localhost:8080/",
          "height": 336
        },
        "id": "mY7ZTzUicpkn",
        "outputId": "76015fae-83ac-423e-955a-e6374f4f7da1"
      },
      "execution_count": 84,
      "outputs": [
        {
          "output_type": "display_data",
          "data": {
            "text/plain": [
              "<Figure size 648x360 with 2 Axes>"
            ],
            "image/png": "[encoded data removed]"
          },
          "metadata": {
            "needs_background": "light"
          }
        }
      ]
    },
    {
      "cell_type": "markdown",
      "metadata": {
        "id": "6xsxy1RoD7XG"
      },
      "source": [
        "### **| 최빈값**\n",
        "\n",
        "```\n",
        "s.value_counts()\n",
        "\n",
        "from scipy.stats import mode\n",
        "mode(a)\n",
        "```"
      ]
    },
    {
      "cell_type": "markdown",
      "source": [
        "* `value_counts()` 사용하기"
      ],
      "metadata": {
        "id": "OV3eC4UtGl38"
      }
    },
    {
      "cell_type": "code",
      "source": [
        "s.value_counts()"
      ],
      "metadata": {
        "colab": {
          "base_uri": "https://localhost:8080/"
        },
        "id": "bk9DQ_9fdjZR",
        "outputId": "efd95551-2191-484b-e7c1-a51f6b44ac96"
      },
      "execution_count": 86,
      "outputs": [
        {
          "output_type": "execute_result",
          "data": {
            "text/plain": [
              "A    337\n",
              "B    335\n",
              "C    328\n",
              "dtype: int64"
            ]
          },
          "metadata": {},
          "execution_count": 86
        }
      ]
    },
    {
      "cell_type": "code",
      "source": [
        "s_1 = pd.DataFrame(s)\n",
        "s_1.value_counts()"
      ],
      "metadata": {
        "colab": {
          "base_uri": "https://localhost:8080/"
        },
        "id": "5fBB6cYCdnIL",
        "outputId": "3c2613e0-1a57-4db1-eff3-e2915c29282c"
      },
      "execution_count": 99,
      "outputs": [
        {
          "output_type": "execute_result",
          "data": {
            "text/plain": [
              "A    337\n",
              "B    335\n",
              "C    328\n",
              "dtype: int64"
            ]
          },
          "metadata": {},
          "execution_count": 99
        }
      ]
    },
    {
      "cell_type": "markdown",
      "source": [
        "* 사이파이 함수 `mode` 사용하기"
      ],
      "metadata": {
        "id": "nxipy7_cGqAn"
      }
    },
    {
      "cell_type": "code",
      "source": [
        "mode(a)"
      ],
      "metadata": {
        "id": "F3JjvNqAtcUk",
        "colab": {
          "base_uri": "https://localhost:8080/"
        },
        "outputId": "a11d7006-3114-461a-c8f4-94aa5a16d2e9"
      },
      "execution_count": 100,
      "outputs": [
        {
          "output_type": "execute_result",
          "data": {
            "text/plain": [
              "ModeResult(mode=array(['A'], dtype='<U1'), count=array([337]))"
            ]
          },
          "metadata": {},
          "execution_count": 100
        }
      ]
    },
    {
      "cell_type": "markdown",
      "source": [
        "## 예제\n",
        "---"
      ],
      "metadata": {
        "id": "z6JYAMB_4Xq7"
      }
    },
    {
      "cell_type": "markdown",
      "source": [
        "#### **예제 01**\n",
        "\n",
        "1. 평균이 200만원이고 표준편차가 50만원인 정규분포를 따르는 데이터를 아래 넘파이 함수를 이용해 100개 생성하세요.\n",
        "```\n",
        "np.random.normal(mu, std, n)\n",
        "```\n",
        "\n",
        "2. 위에서 생성한 데이터의 히스토그램을 그리세요\n",
        "\n",
        "3. 10억원의 소득을 가지는 데이터 한개를 위 데이터에 추가하세요.\n",
        "\n",
        "4. 데이터의 히스토그램을 그리세요\n",
        "\n",
        "5. 10억원의 소득을 추가하기 전과 후의 데이터의 산술평균을 비교하세요.\n",
        "\n",
        "5. 10억원의 소득을 추가하기 전과 후의 데이터의 절사평균(alpha=0.1)을 비교하세요."
      ],
      "metadata": {
        "id": "S0gYqvK22tij"
      }
    },
    {
      "cell_type": "code",
      "execution_count": 215,
      "metadata": {
        "id": "to3bS7CBD7XD",
        "colab": {
          "base_uri": "https://localhost:8080/",
          "height": 265
        },
        "outputId": "02058e79-7ec3-4361-c1ce-d4d1db6c148d"
      },
      "outputs": [
        {
          "output_type": "display_data",
          "data": {
            "text/plain": [
              "<Figure size 432x288 with 1 Axes>"
            ],
            "image/png": "[encoded data removed]"
          },
          "metadata": {
            "needs_background": "light"
          }
        }
      ],
      "source": [
        "num = np.random.normal(200, 50, 100)\n",
        "plt.hist(num)\n",
        "plt.show()"
      ]
    },
    {
      "cell_type": "code",
      "source": [
        "num1 = np.append(num, np.array([1000000000]))\n",
        "plt.hist(num1)\n",
        "plt.show()"
      ],
      "metadata": {
        "colab": {
          "base_uri": "https://localhost:8080/",
          "height": 278
        },
        "id": "TxSpM5MYg4IZ",
        "outputId": "a91e9244-ebea-48a3-bf91-79679ff63e81"
      },
      "execution_count": 216,
      "outputs": [
        {
          "output_type": "display_data",
          "data": {
            "text/plain": [
              "<Figure size 432x288 with 1 Axes>"
            ],
            "image/png": "[encoded data removed]"
          },
          "metadata": {
            "needs_background": "light"
          }
        }
      ]
    },
    {
      "cell_type": "code",
      "source": [
        "print(f'mean => before : {np.mean(num)}  after : {np.mean(num1)}')\n",
        "print(f'trim_mean => before : {trim_mean(num,0.1)}  after : {trim_mean(num1, 0.1)}')"
      ],
      "metadata": {
        "colab": {
          "base_uri": "https://localhost:8080/"
        },
        "id": "Z4PBYiNFm2T7",
        "outputId": "36aa10f0-188c-4fcd-b6dc-bed3f8a4cd4e"
      },
      "execution_count": 217,
      "outputs": [
        {
          "output_type": "stream",
          "name": "stdout",
          "text": [
            "mean => before : 204.10064853739186  after : 9901192.178859938\n",
            "trim_mean => before : 202.07770294587976  after : 203.10967125620797\n"
          ]
        }
      ]
    },
    {
      "cell_type": "markdown",
      "source": [
        "#### **예제 02**\n",
        "\n",
        "타이타닉 데이터셋을 가져오고, 각 변수들의 대표값을 정리하세요."
      ],
      "metadata": {
        "id": "vC9QE_7R5njn"
      }
    },
    {
      "cell_type": "code",
      "source": [
        "from google.colab import drive\n",
        "drive.mount('/content/drive')"
      ],
      "metadata": {
        "colab": {
          "base_uri": "https://localhost:8080/"
        },
        "id": "u4uQJYikg3ho",
        "outputId": "36751cfb-6dec-4529-845b-3fb2f850ab90"
      },
      "execution_count": 202,
      "outputs": [
        {
          "output_type": "stream",
          "name": "stdout",
          "text": [
            "Mounted at /content/drive\n"
          ]
        }
      ]
    },
    {
      "cell_type": "code",
      "source": [
        "df = pd.read_csv('/content/drive/MyDrive/딥러닝 프레임워크 실무/SkillTreePython-DataAnalysis-main/data/타이타닉,샌프란시스코,킥보드 시험/Titanic/train.csv')\n",
        "df.head()"
      ],
      "metadata": {
        "colab": {
          "base_uri": "https://localhost:8080/",
          "height": 206
        },
        "id": "73lAeemogZzq",
        "outputId": "6e4ac48e-0c36-4b78-e797-ffcbc70e9b6c"
      },
      "execution_count": 203,
      "outputs": [
        {
          "output_type": "execute_result",
          "data": {
            "text/plain": [
              "   PassengerId  Survived  Pclass  \\\n",
              "0            1         0       3   \n",
              "1            2         1       1   \n",
              "2            3         1       3   \n",
              "3            4         1       1   \n",
              "4            5         0       3   \n",
              "\n",
              "                                                Name     Sex   Age  SibSp  \\\n",
              "0                            Braund, Mr. Owen Harris    male  22.0      1   \n",
              "1  Cumings, Mrs. John Bradley (Florence Briggs Th...  female  38.0      1   \n",
              "2                             Heikkinen, Miss. Laina  female  26.0      0   \n",
              "3       Futrelle, Mrs. Jacques Heath (Lily May Peel)  female  35.0      1   \n",
              "4                           Allen, Mr. William Henry    male  35.0      0   \n",
              "\n",
              "   Parch            Ticket     Fare Cabin Embarked  \n",
              "0      0         A/5 21171   7.2500   NaN        S  \n",
              "1      0          PC 17599  71.2833   C85        C  \n",
              "2      0  STON/O2. 3101282   7.9250   NaN        S  \n",
              "3      0            113803  53.1000  C123        S  \n",
              "4      0            373450   8.0500   NaN        S  "
            ],
            "text/html": [
              "\n",
              "  <div id=\"df-a9286ea8-01de-4d9f-afce-06e80262892d\">\n",
              "    <div class=\"colab-df-container\">\n",
              "      <div>\n",
              "<style scoped>\n",
              "    .dataframe tbody tr th:only-of-type {\n",
              "        vertical-align: middle;\n",
              "    }\n",
              "\n",
              "    .dataframe tbody tr th {\n",
              "        vertical-align: top;\n",
              "    }\n",
              "\n",
              "    .dataframe thead th {\n",
              "        text-align: right;\n",
              "    }\n",
              "</style>\n",
              "<table border=\"1\" class=\"dataframe\">\n",
              "  <thead>\n",
              "    <tr style=\"text-align: right;\">\n",
              "      <th></th>\n",
              "      <th>PassengerId</th>\n",
              "      <th>Survived</th>\n",
              "      <th>Pclass</th>\n",
              "      <th>Name</th>\n",
              "      <th>Sex</th>\n",
              "      <th>Age</th>\n",
              "      <th>SibSp</th>\n",
              "      <th>Parch</th>\n",
              "      <th>Ticket</th>\n",
              "      <th>Fare</th>\n",
              "      <th>Cabin</th>\n",
              "      <th>Embarked</th>\n",
              "    </tr>\n",
              "  </thead>\n",
              "  <tbody>\n",
              "    <tr>\n",
              "      <th>0</th>\n",
              "      <td>1</td>\n",
              "      <td>0</td>\n",
              "      <td>3</td>\n",
              "      <td>Braund, Mr. Owen Harris</td>\n",
              "      <td>male</td>\n",
              "      <td>22.0</td>\n",
              "      <td>1</td>\n",
              "      <td>0</td>\n",
              "      <td>A/5 21171</td>\n",
              "      <td>7.2500</td>\n",
              "      <td>NaN</td>\n",
              "      <td>S</td>\n",
              "    </tr>\n",
              "    <tr>\n",
              "      <th>1</th>\n",
              "      <td>2</td>\n",
              "      <td>1</td>\n",
              "      <td>1</td>\n",
              "      <td>Cumings, Mrs. John Bradley (Florence Briggs Th...</td>\n",
              "      <td>female</td>\n",
              "      <td>38.0</td>\n",
              "      <td>1</td>\n",
              "      <td>0</td>\n",
              "      <td>PC 17599</td>\n",
              "      <td>71.2833</td>\n",
              "      <td>C85</td>\n",
              "      <td>C</td>\n",
              "    </tr>\n",
              "    <tr>\n",
              "      <th>2</th>\n",
              "      <td>3</td>\n",
              "      <td>1</td>\n",
              "      <td>3</td>\n",
              "      <td>Heikkinen, Miss. Laina</td>\n",
              "      <td>female</td>\n",
              "      <td>26.0</td>\n",
              "      <td>0</td>\n",
              "      <td>0</td>\n",
              "      <td>STON/O2. 3101282</td>\n",
              "      <td>7.9250</td>\n",
              "      <td>NaN</td>\n",
              "      <td>S</td>\n",
              "    </tr>\n",
              "    <tr>\n",
              "      <th>3</th>\n",
              "      <td>4</td>\n",
              "      <td>1</td>\n",
              "      <td>1</td>\n",
              "      <td>Futrelle, Mrs. Jacques Heath (Lily May Peel)</td>\n",
              "      <td>female</td>\n",
              "      <td>35.0</td>\n",
              "      <td>1</td>\n",
              "      <td>0</td>\n",
              "      <td>113803</td>\n",
              "      <td>53.1000</td>\n",
              "      <td>C123</td>\n",
              "      <td>S</td>\n",
              "    </tr>\n",
              "    <tr>\n",
              "      <th>4</th>\n",
              "      <td>5</td>\n",
              "      <td>0</td>\n",
              "      <td>3</td>\n",
              "      <td>Allen, Mr. William Henry</td>\n",
              "      <td>male</td>\n",
              "      <td>35.0</td>\n",
              "      <td>0</td>\n",
              "      <td>0</td>\n",
              "      <td>373450</td>\n",
              "      <td>8.0500</td>\n",
              "      <td>NaN</td>\n",
              "      <td>S</td>\n",
              "    </tr>\n",
              "  </tbody>\n",
              "</table>\n",
              "</div>\n",
              "      <button class=\"colab-df-convert\" onclick=\"convertToInteractive('df-a9286ea8-01de-4d9f-afce-06e80262892d')\"\n",
              "              title=\"Convert this dataframe to an interactive table.\"\n",
              "              style=\"display:none;\">\n",
              "        \n",
              "  <svg xmlns=\"http://www.w3.org/2000/svg\" height=\"24px\"viewBox=\"0 0 24 24\"\n",
              "       width=\"24px\">\n",
              "    <path d=\"M0 0h24v24H0V0z\" fill=\"none\"/>\n",
              "    <path d=\"M18.56 5.44l.94 2.06.94-2.06 2.06-.94-2.06-.94-.94-2.06-.94 2.06-2.06.94zm-11 1L8.5 8.5l.94-2.06 2.06-.94-2.06-.94L8.5 2.5l-.94 2.06-2.06.94zm10 10l.94 2.06.94-2.06 2.06-.94-2.06-.94-.94-2.06-.94 2.06-2.06.94z\"/><path d=\"M17.41 7.96l-1.37-1.37c-.4-.4-.92-.59-1.43-.59-.52 0-1.04.2-1.43.59L10.3 9.45l-7.72 7.72c-.78.78-.78 2.05 0 2.83L4 21.41c.39.39.9.59 1.41.59.51 0 1.02-.2 1.41-.59l7.78-7.78 2.81-2.81c.8-.78.8-2.07 0-2.86zM5.41 20L4 18.59l7.72-7.72 1.47 1.35L5.41 20z\"/>\n",
              "  </svg>\n",
              "      </button>\n",
              "      \n",
              "  <style>\n",
              "    .colab-df-container {\n",
              "      display:flex;\n",
              "      flex-wrap:wrap;\n",
              "      gap: 12px;\n",
              "    }\n",
              "\n",
              "    .colab-df-convert {\n",
              "      background-color: #E8F0FE;\n",
              "      border: none;\n",
              "      border-radius: 50%;\n",
              "      cursor: pointer;\n",
              "      display: none;\n",
              "      fill: #1967D2;\n",
              "      height: 32px;\n",
              "      padding: 0 0 0 0;\n",
              "      width: 32px;\n",
              "    }\n",
              "\n",
              "    .colab-df-convert:hover {\n",
              "      background-color: #E2EBFA;\n",
              "      box-shadow: 0px 1px 2px rgba(60, 64, 67, 0.3), 0px 1px 3px 1px rgba(60, 64, 67, 0.15);\n",
              "      fill: #174EA6;\n",
              "    }\n",
              "\n",
              "    [theme=dark] .colab-df-convert {\n",
              "      background-color: #3B4455;\n",
              "      fill: #D2E3FC;\n",
              "    }\n",
              "\n",
              "    [theme=dark] .colab-df-convert:hover {\n",
              "      background-color: #434B5C;\n",
              "      box-shadow: 0px 1px 3px 1px rgba(0, 0, 0, 0.15);\n",
              "      filter: drop-shadow(0px 1px 2px rgba(0, 0, 0, 0.3));\n",
              "      fill: #FFFFFF;\n",
              "    }\n",
              "  </style>\n",
              "\n",
              "      <script>\n",
              "        const buttonEl =\n",
              "          document.querySelector('#df-a9286ea8-01de-4d9f-afce-06e80262892d button.colab-df-convert');\n",
              "        buttonEl.style.display =\n",
              "          google.colab.kernel.accessAllowed ? 'block' : 'none';\n",
              "\n",
              "        async function convertToInteractive(key) {\n",
              "          const element = document.querySelector('#df-a9286ea8-01de-4d9f-afce-06e80262892d');\n",
              "          const dataTable =\n",
              "            await google.colab.kernel.invokeFunction('convertToInteractive',\n",
              "                                                     [key], {});\n",
              "          if (!dataTable) return;\n",
              "\n",
              "          const docLinkHtml = 'Like what you see? Visit the ' +\n",
              "            '<a target=\"_blank\" href=https://colab.research.google.com/notebooks/data_table.ipynb>data table notebook</a>'\n",
              "            + ' to learn more about interactive tables.';\n",
              "          element.innerHTML = '';\n",
              "          dataTable['output_type'] = 'display_data';\n",
              "          await google.colab.output.renderOutput(dataTable, element);\n",
              "          const docLink = document.createElement('div');\n",
              "          docLink.innerHTML = docLinkHtml;\n",
              "          element.appendChild(docLink);\n",
              "        }\n",
              "      </script>\n",
              "    </div>\n",
              "  </div>\n",
              "  "
            ]
          },
          "metadata": {},
          "execution_count": 203
        }
      ]
    },
    {
      "cell_type": "code",
      "source": [
        "df = df.dropna()"
      ],
      "metadata": {
        "id": "nGMUhvgpqLrr"
      },
      "execution_count": 239,
      "outputs": []
    },
    {
      "cell_type": "code",
      "source": [
        "\n",
        "for i in df.columns :\n",
        "  print(f'{i} : {mode(df[i])[0][0]}')"
      ],
      "metadata": {
        "colab": {
          "base_uri": "https://localhost:8080/"
        },
        "id": "5YaXxSkEmZM6",
        "outputId": "f6341c43-c212-421d-dc95-2aaae9b796d0"
      },
      "execution_count": 240,
      "outputs": [
        {
          "output_type": "stream",
          "name": "stdout",
          "text": [
            "PassengerId : 2\n",
            "Survived : 1\n",
            "Pclass : 1\n",
            "Name : Allen, Miss. Elisabeth Walton\n",
            "Sex : male\n",
            "Age : 36.0\n",
            "SibSp : 0\n",
            "Parch : 0\n",
            "Ticket : 113760\n",
            "Fare : 26.55\n",
            "Cabin : B96 B98\n",
            "Embarked : S\n"
          ]
        }
      ]
    }
  ]
}